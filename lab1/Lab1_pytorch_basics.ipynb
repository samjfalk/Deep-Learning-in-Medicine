{
 "cells": [
  {
   "cell_type": "markdown",
   "metadata": {},
   "source": [
    "# Deep Learning in Medicine\n",
    "### BMSC-GA 4493, BMIN-GA 3007 \n",
    "### Lab 1: PyTorch Tutorial and Loss Functions\n"
   ]
  },
  {
   "cell_type": "markdown",
   "metadata": {},
   "source": [
    "### Goal of this lab: \n",
    "    - Understand Pytorch Tensor, and AutoGrad (Variable is deprecated in the new version of pytorch). \n",
    "    - Understand Loss Functions"
   ]
  },
  {
   "cell_type": "markdown",
   "metadata": {},
   "source": [
    "### What is PyTorch?\n",
    "It's a Python based scientific computing package targeted as:\n",
    "* A replacement for numpy to use the power of GPUs\n",
    "* A deep learning research platform that provides maximum flexibility and speed"
   ]
  },
  {
   "cell_type": "markdown",
   "metadata": {},
   "source": [
    "### Tensor\n",
    "It is similar to Numpy Ndarray\n",
    "<a href=\"https://docs.scipy.org/doc/numpy/reference/generated/numpy.ndarray.html\">https://docs.scipy.org/doc/numpy/reference/generated/numpy.ndarray.html \n"
   ]
  },
  {
   "cell_type": "code",
   "execution_count": 1,
   "metadata": {},
   "outputs": [],
   "source": [
    "from __future__ import print_function\n",
    "import torch"
   ]
  },
  {
   "cell_type": "markdown",
   "metadata": {},
   "source": [
    "#### Check Version of the Pytorch"
   ]
  },
  {
   "cell_type": "code",
   "execution_count": 3,
   "metadata": {},
   "outputs": [
    {
     "name": "stdout",
     "output_type": "stream",
     "text": [
      "1.4.0\n"
     ]
    }
   ],
   "source": [
    "print(torch.__version__)"
   ]
  },
  {
   "cell_type": "markdown",
   "metadata": {},
   "source": [
    "#### Tensor Initialization"
   ]
  },
  {
   "cell_type": "code",
   "execution_count": 4,
   "metadata": {},
   "outputs": [],
   "source": [
    "x = torch.Tensor(6, 2)  # construct a 6x2 matrix, uninitialized"
   ]
  },
  {
   "cell_type": "code",
   "execution_count": 5,
   "metadata": {},
   "outputs": [
    {
     "data": {
      "text/plain": [
       "(tensor([[0.0000e+00, 4.6566e-10],\n",
       "         [0.0000e+00, 4.6566e-10],\n",
       "         [1.4569e-19, 6.4069e+02],\n",
       "         [4.3066e+21, 1.1824e+22],\n",
       "         [4.3066e+21, 6.3828e+28],\n",
       "         [3.8016e-39, 0.0000e+00]]), torch.Size([6, 2]))"
      ]
     },
     "execution_count": 5,
     "metadata": {},
     "output_type": "execute_result"
    }
   ],
   "source": [
    "x, x.size()"
   ]
  },
  {
   "cell_type": "code",
   "execution_count": 6,
   "metadata": {},
   "outputs": [],
   "source": [
    "y = torch.rand(6, 2)  # construct a randomly initialized matrix\n"
   ]
  },
  {
   "cell_type": "code",
   "execution_count": 7,
   "metadata": {},
   "outputs": [
    {
     "data": {
      "text/plain": [
       "(tensor([[0.2309, 0.5449],\n",
       "         [0.6614, 0.2085],\n",
       "         [0.2808, 0.2294],\n",
       "         [0.1945, 0.1787],\n",
       "         [0.7921, 0.2889],\n",
       "         [0.5485, 0.5955]]), torch.Size([6, 2]))"
      ]
     },
     "execution_count": 7,
     "metadata": {},
     "output_type": "execute_result"
    }
   ],
   "source": [
    "y, y.size()"
   ]
  },
  {
   "cell_type": "code",
   "execution_count": 8,
   "metadata": {},
   "outputs": [],
   "source": [
    "z = torch.ones(7) # construct a matrix of ones"
   ]
  },
  {
   "cell_type": "code",
   "execution_count": 9,
   "metadata": {},
   "outputs": [
    {
     "data": {
      "text/plain": [
       "(tensor([1., 1., 1., 1., 1., 1., 1.]), torch.Size([7]))"
      ]
     },
     "execution_count": 9,
     "metadata": {},
     "output_type": "execute_result"
    }
   ],
   "source": [
    "z, z.size()"
   ]
  },
  {
   "cell_type": "markdown",
   "metadata": {},
   "source": [
    "#### Operation Example: Addtion\n",
    "Related reading and reference:\n",
    "    \n",
    "* PyTorch documentation:\n",
    "<a href=\"https://pytorch.org/docs/stable/nn.html\"> https://pytorch.org/docs/stable/nn.html </a>"
   ]
  },
  {
   "cell_type": "code",
   "execution_count": 10,
   "metadata": {},
   "outputs": [
    {
     "data": {
      "text/plain": [
       "tensor([[2.3094e-01, 5.4488e-01],\n",
       "        [6.6137e-01, 2.0854e-01],\n",
       "        [2.8085e-01, 6.4092e+02],\n",
       "        [4.3066e+21, 1.1824e+22],\n",
       "        [4.3066e+21, 6.3828e+28],\n",
       "        [5.4846e-01, 5.9552e-01]])"
      ]
     },
     "execution_count": 10,
     "metadata": {},
     "output_type": "execute_result"
    }
   ],
   "source": [
    "# addition: syntax 1\n",
    "x + y"
   ]
  },
  {
   "cell_type": "code",
   "execution_count": 11,
   "metadata": {},
   "outputs": [
    {
     "data": {
      "text/plain": [
       "tensor([[2.3094e-01, 5.4488e-01],\n",
       "        [6.6137e-01, 2.0854e-01],\n",
       "        [2.8085e-01, 6.4092e+02],\n",
       "        [4.3066e+21, 1.1824e+22],\n",
       "        [4.3066e+21, 6.3828e+28],\n",
       "        [5.4846e-01, 5.9552e-01]])"
      ]
     },
     "execution_count": 11,
     "metadata": {},
     "output_type": "execute_result"
    }
   ],
   "source": [
    "# addition: syntax 2\n",
    "torch.add(x, y)"
   ]
  },
  {
   "cell_type": "code",
   "execution_count": 12,
   "metadata": {},
   "outputs": [
    {
     "data": {
      "text/plain": [
       "tensor([[2.3094e-01, 5.4488e-01],\n",
       "        [6.6137e-01, 2.0854e-01],\n",
       "        [2.8085e-01, 6.4092e+02],\n",
       "        [4.3066e+21, 1.1824e+22],\n",
       "        [4.3066e+21, 6.3828e+28],\n",
       "        [5.4846e-01, 5.9552e-01]])"
      ]
     },
     "execution_count": 12,
     "metadata": {},
     "output_type": "execute_result"
    }
   ],
   "source": [
    "# addition: giving an output tensor\n",
    "result = torch.Tensor(6, 2)\n",
    "torch.add(x, y, out=result)"
   ]
  },
  {
   "cell_type": "code",
   "execution_count": 13,
   "metadata": {},
   "outputs": [
    {
     "data": {
      "text/plain": [
       "tensor([[2.3094e-01, 5.4488e-01],\n",
       "        [6.6137e-01, 2.0854e-01],\n",
       "        [2.8085e-01, 6.4092e+02],\n",
       "        [4.3066e+21, 1.1824e+22],\n",
       "        [4.3066e+21, 6.3828e+28],\n",
       "        [5.4846e-01, 5.9552e-01]])"
      ]
     },
     "execution_count": 13,
     "metadata": {},
     "output_type": "execute_result"
    }
   ],
   "source": [
    "# addition: in-place\n",
    "y.add_(x) # adds x to y"
   ]
  },
  {
   "cell_type": "markdown",
   "metadata": {},
   "source": [
    "#### Numpy Bridge:\n",
    "The torch Tensor and numpy array will share their underlying memory locations, and changing one will change the other."
   ]
  },
  {
   "cell_type": "markdown",
   "metadata": {},
   "source": [
    "##### Convert Torch Tensor to Numpy"
   ]
  },
  {
   "cell_type": "code",
   "execution_count": 14,
   "metadata": {},
   "outputs": [
    {
     "data": {
      "text/plain": [
       "tensor([1., 1., 1., 1., 1.])"
      ]
     },
     "execution_count": 14,
     "metadata": {},
     "output_type": "execute_result"
    }
   ],
   "source": [
    "a = torch.ones(5)\n",
    "a"
   ]
  },
  {
   "cell_type": "code",
   "execution_count": 15,
   "metadata": {},
   "outputs": [
    {
     "data": {
      "text/plain": [
       "array([1., 1., 1., 1., 1.], dtype=float32)"
      ]
     },
     "execution_count": 15,
     "metadata": {},
     "output_type": "execute_result"
    }
   ],
   "source": [
    "b = a.numpy()\n",
    "b"
   ]
  },
  {
   "cell_type": "code",
   "execution_count": 16,
   "metadata": {},
   "outputs": [
    {
     "name": "stdout",
     "output_type": "stream",
     "text": [
      "tensor([2., 2., 2., 2., 2.])\n",
      "[2. 2. 2. 2. 2.]\n"
     ]
    }
   ],
   "source": [
    "a.add_(1) # Remember this is an inplace addition\n",
    "print(a)\n",
    "print(b) # see how the numpy array changed in value"
   ]
  },
  {
   "cell_type": "markdown",
   "metadata": {},
   "source": [
    "##### Converting Numpy Array to Torch Tensor"
   ]
  },
  {
   "cell_type": "code",
   "execution_count": 17,
   "metadata": {},
   "outputs": [
    {
     "name": "stdout",
     "output_type": "stream",
     "text": [
      "[2. 2. 2. 2. 2.]\n",
      "tensor([2., 2., 2., 2., 2.], dtype=torch.float64)\n"
     ]
    }
   ],
   "source": [
    "import numpy as np\n",
    "a = np.ones(5)\n",
    "b = torch.from_numpy(a)\n",
    "np.add(a, 1, out=a)\n",
    "print(a)\n",
    "print(b)"
   ]
  },
  {
   "cell_type": "markdown",
   "metadata": {},
   "source": [
    "####  Used of CUDA"
   ]
  },
  {
   "cell_type": "code",
   "execution_count": 18,
   "metadata": {},
   "outputs": [],
   "source": [
    "# let us run this cell only if CUDA is available\n",
    "if torch.cuda.is_available():\n",
    "    x = x.cuda()\n",
    "    y = y.cuda()\n",
    "    x + y"
   ]
  },
  {
   "cell_type": "markdown",
   "metadata": {},
   "source": [
    "### Autograd: automatic differentiation\n",
    "* The autograd package provides automatic differentiation for all operations on Tensors.It is a define-by-run framework, which means that your backprop is defined by how your code is run, and that every single iteration can be different.\n",
    "\n",
    "### Tensor\n",
    "* torch.Tensor is the central class of the package. If you set its attribute .requires_grad as True, it starts to track all operations on it.\n",
    "* When you finish your computation you can call .backward() and have all the gradients computed automatically.\n",
    "* The gradient for this tensor will be accumulated into .grad attribute.\n",
    "* To stop a tensor from tracking history, you can call .detach() to detach it from the computation history, and to prevent future computation from being tracked.\n",
    "\n",
    "### Function\n",
    "* Tensor and Function are interconnected and build up an acyclic graph, that encodes a complete history of computation.\n",
    "* Each tensor has a .grad_fn attribute that references a Function that has created the Tensor (except for Tensors created by the user - their grad_fn is None).\n",
    "\n",
    "Related Reading and Reference:\n",
    "<a href=\"https://pytorch.org/docs/stable/autograd.html\"> https://pytorch.org/docs/stable/autograd.html </a>"
   ]
  },
  {
   "cell_type": "code",
   "execution_count": 19,
   "metadata": {},
   "outputs": [],
   "source": [
    "import torch"
   ]
  },
  {
   "cell_type": "code",
   "execution_count": 28,
   "metadata": {},
   "outputs": [
    {
     "name": "stdout",
     "output_type": "stream",
     "text": [
      "tensor([[1., 1.],\n",
      "        [1., 1.]], requires_grad=True)\n"
     ]
    }
   ],
   "source": [
    "x = torch.ones((2, 2), requires_grad=True)\n",
    "print(x)"
   ]
  },
  {
   "cell_type": "code",
   "execution_count": 29,
   "metadata": {},
   "outputs": [
    {
     "name": "stdout",
     "output_type": "stream",
     "text": [
      "tensor([[3., 3.],\n",
      "        [3., 3.]], grad_fn=<AddBackward0>)\n"
     ]
    }
   ],
   "source": [
    "y = x + 2\n",
    "print(y)"
   ]
  },
  {
   "cell_type": "code",
   "execution_count": 30,
   "metadata": {},
   "outputs": [
    {
     "name": "stdout",
     "output_type": "stream",
     "text": [
      "<AddBackward0 object at 0x120e0cfd0>\n"
     ]
    }
   ],
   "source": [
    "print(y.grad_fn)"
   ]
  },
  {
   "cell_type": "code",
   "execution_count": 31,
   "metadata": {},
   "outputs": [
    {
     "name": "stdout",
     "output_type": "stream",
     "text": [
      "tensor([[18., 18.],\n",
      "        [18., 18.]], grad_fn=<MulBackward0>) tensor(18., grad_fn=<MeanBackward0>)\n"
     ]
    }
   ],
   "source": [
    "z = y * y * 2\n",
    "out = z.mean()\n",
    "print(z, out)"
   ]
  },
  {
   "cell_type": "code",
   "execution_count": 32,
   "metadata": {},
   "outputs": [
    {
     "name": "stdout",
     "output_type": "stream",
     "text": [
      "None\n"
     ]
    }
   ],
   "source": [
    "# What's the gradient of X before backward() is performed?\n",
    "print(x.grad)"
   ]
  },
  {
   "cell_type": "code",
   "execution_count": 33,
   "metadata": {},
   "outputs": [
    {
     "name": "stdout",
     "output_type": "stream",
     "text": [
      "tensor([[3., 3.],\n",
      "        [3., 3.]])\n"
     ]
    }
   ],
   "source": [
    "# What's the correct gradient of X?\n",
    "out.backward()\n",
    "print(x.grad)\n",
    "# Question: How do we get these values?"
   ]
  },
  {
   "cell_type": "code",
   "execution_count": 34,
   "metadata": {},
   "outputs": [
    {
     "name": "stdout",
     "output_type": "stream",
     "text": [
      "None\n"
     ]
    }
   ],
   "source": [
    "print(y.grad)"
   ]
  },
  {
   "cell_type": "code",
   "execution_count": 35,
   "metadata": {},
   "outputs": [],
   "source": [
    "y.retain_grad()\n",
    "# look into this further . it has to to with retaining the output of the calcuations "
   ]
  },
  {
   "cell_type": "code",
   "execution_count": null,
   "metadata": {},
   "outputs": [],
   "source": [
    "XXXXX???"
   ]
  },
  {
   "cell_type": "code",
   "execution_count": 36,
   "metadata": {},
   "outputs": [
    {
     "name": "stdout",
     "output_type": "stream",
     "text": [
      "None\n"
     ]
    }
   ],
   "source": [
    "print(y.grad)"
   ]
  },
  {
   "cell_type": "code",
   "execution_count": null,
   "metadata": {},
   "outputs": [],
   "source": [
    "print(y.grad)"
   ]
  },
  {
   "cell_type": "code",
   "execution_count": null,
   "metadata": {},
   "outputs": [],
   "source": []
  },
  {
   "cell_type": "markdown",
   "metadata": {},
   "source": [
    "### Loss Functions"
   ]
  },
  {
   "cell_type": "markdown",
   "metadata": {},
   "source": [
    " Related Reference: \n",
    "<a href=\"http://pytorch.org/docs/master/nn.html#loss-functions\">http://pytorch.org/docs/master/nn.html#loss-functions </a>"
   ]
  },
  {
   "cell_type": "markdown",
   "metadata": {},
   "source": [
    "#### Mean Squared Error\n",
    "Question: What is mean square error? What are the inputs? What's the output?"
   ]
  },
  {
   "cell_type": "code",
   "execution_count": 37,
   "metadata": {},
   "outputs": [],
   "source": [
    "import torch.nn as nn\n",
    "input = torch.randn((4, 5), requires_grad=True)\n",
    "target = torch.randn(4, 5)"
   ]
  },
  {
   "cell_type": "code",
   "execution_count": 38,
   "metadata": {},
   "outputs": [
    {
     "name": "stdout",
     "output_type": "stream",
     "text": [
      "tensor([[-1.0852,  0.5568, -0.1495,  0.2780,  2.2552],\n",
      "        [-0.4002,  0.5491,  0.3517, -0.6537,  0.5319],\n",
      "        [-1.1120,  1.1089, -1.3266, -1.4440,  0.1758],\n",
      "        [ 0.6074,  0.3505,  0.5556, -1.9860, -0.0086]], requires_grad=True)\n",
      "tensor([[ 0.0408, -2.5269, -1.1681,  1.0881,  0.4063],\n",
      "        [ 0.1860,  1.6593,  0.6384,  0.2547, -0.1404],\n",
      "        [ 0.1888, -2.1351, -1.4505,  0.4329, -1.0814],\n",
      "        [-0.0151,  0.6146,  1.9194, -0.0878, -1.3027]])\n"
     ]
    }
   ],
   "source": [
    "print(input)\n",
    "print(target)"
   ]
  },
  {
   "cell_type": "code",
   "execution_count": 39,
   "metadata": {},
   "outputs": [],
   "source": [
    "loss = nn.MSELoss()\n",
    "output = loss(input, target)\n",
    "output.backward()"
   ]
  },
  {
   "cell_type": "code",
   "execution_count": 40,
   "metadata": {},
   "outputs": [
    {
     "data": {
      "text/plain": [
       "(tensor(2.1877, grad_fn=<MseLossBackward>),\n",
       " tensor([[-1.0852,  0.5568, -0.1495,  0.2780,  2.2552],\n",
       "         [-0.4002,  0.5491,  0.3517, -0.6537,  0.5319],\n",
       "         [-1.1120,  1.1089, -1.3266, -1.4440,  0.1758],\n",
       "         [ 0.6074,  0.3505,  0.5556, -1.9860, -0.0086]], requires_grad=True))"
      ]
     },
     "execution_count": 40,
     "metadata": {},
     "output_type": "execute_result"
    }
   ],
   "source": [
    "output, input"
   ]
  },
  {
   "cell_type": "markdown",
   "metadata": {},
   "source": [
    "#### Cross Entropy Loss\n",
    "Question: What is cross entropy loss? What are the inputs? What's the output?"
   ]
  },
  {
   "cell_type": "code",
   "execution_count": 41,
   "metadata": {},
   "outputs": [
    {
     "name": "stdout",
     "output_type": "stream",
     "text": [
      "tensor([[-0.3492,  0.3110,  0.0525, -0.0385, -1.4016],\n",
      "        [ 0.5166, -0.9682, -0.0888,  0.3974, -0.0166],\n",
      "        [-0.8403,  1.9231,  0.6849, -0.0789,  1.6644],\n",
      "        [ 0.9481, -0.1975, -0.5113, -0.9282, -0.9327]], requires_grad=True)\n",
      "tensor([1, 0, 0, 2])\n"
     ]
    }
   ],
   "source": [
    "input = torch.randn((4, 5), requires_grad=True)\n",
    "target = torch.LongTensor(4).random_(5)\n",
    "print(input)\n",
    "print(target)"
   ]
  },
  {
   "cell_type": "code",
   "execution_count": 45,
   "metadata": {},
   "outputs": [],
   "source": [
    "loss = nn.CrossEntropyLoss()\n",
    "output = loss(input, target)\n",
    "output.backward()"
   ]
  },
  {
   "cell_type": "code",
   "execution_count": 46,
   "metadata": {},
   "outputs": [
    {
     "data": {
      "text/plain": [
       "(tensor(1.9974, grad_fn=<NllLossBackward>),\n",
       " tensor([[-0.3492,  0.3110,  0.0525, -0.0385, -1.4016],\n",
       "         [ 0.5166, -0.9682, -0.0888,  0.3974, -0.0166],\n",
       "         [-0.8403,  1.9231,  0.6849, -0.0789,  1.6644],\n",
       "         [ 0.9481, -0.1975, -0.5113, -0.9282, -0.9327]], requires_grad=True))"
      ]
     },
     "execution_count": 46,
     "metadata": {},
     "output_type": "execute_result"
    }
   ],
   "source": [
    "output, input"
   ]
  },
  {
   "cell_type": "markdown",
   "metadata": {},
   "source": [
    "### Reference:\n",
    "* Deep Learning with PyTorch: A 60 Minute Blitz:\n",
    "    <a href=\"http://pytorch.org/tutorials/beginner/deep_learning_60min_blitz.html\">http://pytorch.org/tutorials/beginner/deep_learning_60min_blitz.html\n",
    "    \n",
    "    \n",
    "* PyTorch documentation:\n",
    "<a href=\"https://pytorch.org/docs/stable/nn.html\"> https://pytorch.org/docs/stable/nn.html </a>"
   ]
  }
 ],
 "metadata": {
  "kernelspec": {
   "display_name": "Python 3",
   "language": "python",
   "name": "python3"
  },
  "language_info": {
   "codemirror_mode": {
    "name": "ipython",
    "version": 3
   },
   "file_extension": ".py",
   "mimetype": "text/x-python",
   "name": "python",
   "nbconvert_exporter": "python",
   "pygments_lexer": "ipython3",
   "version": "3.7.6"
  }
 },
 "nbformat": 4,
 "nbformat_minor": 4
}
