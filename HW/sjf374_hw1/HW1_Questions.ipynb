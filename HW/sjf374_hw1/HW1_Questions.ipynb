{
 "cells": [
  {
   "cell_type": "markdown",
   "metadata": {},
   "source": [
    "# Deep Learning in Medicine\n",
    "### BMSC-GA 4493, BMIN-GA 3007 \n",
    "### Spring 2020\n",
    "### Homework 1"
   ]
  },
  {
   "cell_type": "markdown",
   "metadata": {},
   "source": [
    "**Learning Objectives**:\n",
    "\n",
    "1. Basic Math Revision.\n",
    "2. Introduction to Machine Learning.\n",
    "3. Logistic Regression Model.\n",
    "4. Multi-layer Perceptron Model."
   ]
  },
  {
   "cell_type": "markdown",
   "metadata": {},
   "source": [
    "**Instruction** \n",
    "\n",
    "1. If you need to write mathematical terms, you can type your answeres in a Markdown Cell via LaTex. See: <a href=\"https://stackoverflow.com/questions/13208286/how-to-write-latex-in-ipython-notebook\">here</a> if you have issues with writing equations. To see basic LaTex notation see: <a href=\"https://en.wikibooks.org/wiki/LaTeX/Mathematics\"> here </a>.\n",
    "\n",
    "2. Upload and Submit your final jupyter notebook file in <a href='http://newclasses.nyu.edu '>newclasses.nyu.edu</a>\n",
    "\n",
    "3. Deadline: Thursday Feb 20th 2020 (3pm) **\n",
    "\n",
    "4. Questions and Clarification: <a href=\"https://piazza.com/nyumc.org/spring2020/bmscga4493andbminga3007/home\"> Class Piazza</a>\n",
    "\n",
    "5. ***HW submission instructions:*** Students should submit a zipped folder named netid_hwx where x is the hw number . The submission should consist of jupyter notebook with all the plots and expected outputs clearly visible in it. The zipped folder should also contain the data files. We should be able to run your ipynb without making directory changes. Not following the protocol might lead to deduction of scores."
   ]
  },
  {
   "cell_type": "markdown",
   "metadata": {},
   "source": [
    "---\n",
    "# Question 1: Math and Machine Learning Revision (9 points)\n",
    "\n",
    "### Take derivatives of functions from 1.1 to 1.5"
   ]
  },
  {
   "cell_type": "code",
   "execution_count": 1,
   "metadata": {},
   "outputs": [],
   "source": [
    "import numpy as np\n",
    "import pandas as pd"
   ]
  },
  {
   "cell_type": "markdown",
   "metadata": {},
   "source": [
    "### 1.1. (1 point)\n",
    "\n",
    "$f(x) = e^{3x + 9}$"
   ]
  },
  {
   "cell_type": "markdown",
   "metadata": {},
   "source": [
    "substitute exponent for u"
   ]
  },
  {
   "cell_type": "markdown",
   "metadata": {},
   "source": [
    "$f(x) = e^{u}$"
   ]
  },
  {
   "cell_type": "markdown",
   "metadata": {},
   "source": [
    "$du/dx = 3$ "
   ]
  },
  {
   "cell_type": "markdown",
   "metadata": {},
   "source": [
    "$dy/du = 3 e^{u}$"
   ]
  },
  {
   "cell_type": "markdown",
   "metadata": {},
   "source": [
    "$f'(x) = 3e^{3x + 9}$"
   ]
  },
  {
   "cell_type": "markdown",
   "metadata": {},
   "source": [
    "### 1.2. (1 point)\n",
    "\n",
    "$f(x) = \\sqrt{\\sum_{i=1}^{5}(a_i x)}$"
   ]
  },
  {
   "cell_type": "markdown",
   "metadata": {},
   "source": [
    "$f(x) = \\sqrt{u}$"
   ]
  },
  {
   "cell_type": "markdown",
   "metadata": {},
   "source": [
    "$u = \\sum_{i=1}^{5}(a_i x)$"
   ]
  },
  {
   "cell_type": "markdown",
   "metadata": {},
   "source": [
    "$du/dx = u^{1/2}$"
   ]
  },
  {
   "cell_type": "markdown",
   "metadata": {},
   "source": [
    "$du/dx = 1/2u^{-1/2}$"
   ]
  },
  {
   "cell_type": "markdown",
   "metadata": {},
   "source": [
    "$dy/du = \\sum_{i=1}^{5}(a_i x)$"
   ]
  },
  {
   "cell_type": "markdown",
   "metadata": {},
   "source": [
    "$dy/du = \\sum_{i=1}^{5}(a_i)$"
   ]
  },
  {
   "cell_type": "markdown",
   "metadata": {},
   "source": [
    "$f'(x) = \\frac{1}{2\\sqrt{\\sum_{i=1}^{5}(a_ix)a_i}}$"
   ]
  },
  {
   "cell_type": "markdown",
   "metadata": {},
   "source": [
    "### 1.3. (1 point)\n",
    "\n",
    "$f(x) = ln(2^x)$"
   ]
  },
  {
   "cell_type": "markdown",
   "metadata": {},
   "source": [
    "substitute u for 2x"
   ]
  },
  {
   "cell_type": "markdown",
   "metadata": {},
   "source": [
    "$f(x) = ln(u)$"
   ]
  },
  {
   "cell_type": "markdown",
   "metadata": {},
   "source": [
    "$\\frac{du}{dx} = 1/u$"
   ]
  },
  {
   "cell_type": "markdown",
   "metadata": {},
   "source": [
    "$u = 2^{x}$\n",
    "\n",
    "$2 = e^{ln 2}$\n",
    "\n",
    "$u = (e^{ln 2})^{x}$"
   ]
  },
  {
   "cell_type": "markdown",
   "metadata": {},
   "source": [
    "$dy/du = ln2(e^{(ln 2)x}) $\n",
    "\n",
    "$= 2^{x} (ln2)$"
   ]
  },
  {
   "cell_type": "markdown",
   "metadata": {},
   "source": [
    "plug this back into the first derivative"
   ]
  },
  {
   "cell_type": "markdown",
   "metadata": {},
   "source": [
    "$f'(x) = 1/ (2^{x} (ln2))$\n",
    "\n",
    "$f'(x) = (1/ 2^{x}) * (1/ln2)$\n",
    "\n",
    "$f'(x) = e/ 2^{x}$"
   ]
  },
  {
   "cell_type": "markdown",
   "metadata": {},
   "source": [
    "### 1.4. (1 point)\n",
    "\n",
    "$f(x) = ln(3^x * 9^x)$"
   ]
  },
  {
   "cell_type": "markdown",
   "metadata": {},
   "source": [
    "$f(x) = ln(u)$\n",
    "\n",
    "$\\frac{du}{dx} = 1/u$"
   ]
  },
  {
   "cell_type": "markdown",
   "metadata": {},
   "source": [
    "$u = 3^x * 9^x$"
   ]
  },
  {
   "cell_type": "markdown",
   "metadata": {},
   "source": [
    "$a = 3^x$\n",
    "\n",
    "$b = 9^x$"
   ]
  },
  {
   "cell_type": "markdown",
   "metadata": {},
   "source": [
    "$ ln(a)  = ln(3^{x})$\n",
    "\n",
    "$ = x * ln(3)$\n",
    "\n",
    "$da/dx = a * ln(3)$"
   ]
  },
  {
   "cell_type": "markdown",
   "metadata": {},
   "source": [
    "$da/dx = 3^{x} ln(3)$\n",
    "\n",
    "$db/dx = 9^{x} ln(9)$"
   ]
  },
  {
   "cell_type": "markdown",
   "metadata": {},
   "source": [
    "$du/dx = 9^{x} ln(9)* 3^{x} ln(3)$"
   ]
  },
  {
   "cell_type": "markdown",
   "metadata": {},
   "source": [
    "$dy/du = \\frac{1}{9^{x} ln(9)* 3^{x} ln(3)}$"
   ]
  },
  {
   "cell_type": "markdown",
   "metadata": {},
   "source": [
    "### 1.5. (1 point)\n",
    "\n",
    "$f(x) = ln(e^{2x +1})$"
   ]
  },
  {
   "cell_type": "markdown",
   "metadata": {},
   "source": [
    "$f(x) = ln(u)$"
   ]
  },
  {
   "cell_type": "markdown",
   "metadata": {},
   "source": [
    "$f'(x) = 1/u$"
   ]
  },
  {
   "cell_type": "markdown",
   "metadata": {},
   "source": [
    "$u = e^{a}$"
   ]
  },
  {
   "cell_type": "markdown",
   "metadata": {},
   "source": [
    "$da/dx = 2$ "
   ]
  },
  {
   "cell_type": "markdown",
   "metadata": {},
   "source": [
    "$du/da = 2 e^{a}$"
   ]
  },
  {
   "cell_type": "markdown",
   "metadata": {},
   "source": [
    "$du/da = 2 e^{2x + 1}$"
   ]
  },
  {
   "cell_type": "markdown",
   "metadata": {},
   "source": [
    "$f'(x) = \\frac{1}{2 * e^{2x + 1}}$"
   ]
  },
  {
   "cell_type": "markdown",
   "metadata": {},
   "source": [
    "### 1.6. Assume we have two coins. Imagine the first coin is fair and has a probability distribution P, where P(head) = 0.5 and P(tail) = 0.5. Assume second coin is not fair and has a different distribution Q, where Q(head)=0.1 and Q(tail)=0.9. \n",
    "\n",
    "#### 1.6.a. What is entropy of P distribution? (1 point)"
   ]
  },
  {
   "cell_type": "markdown",
   "metadata": {},
   "source": [
    "entropy is maximal since it is neither certain to get heads or tails\n",
    "\n",
    "${{H} (X)=-\\sum _{i=1}^{n}{\\mathrm {P} (x_{i})\\log _{2}\\mathrm {P} (x_{i})}}$"
   ]
  },
  {
   "cell_type": "markdown",
   "metadata": {},
   "source": [
    "plug in the probability for heads on one coin flip:\n",
    "\n",
    "${{H} (X)=-\\sum _{i=1}^{n}{\\mathrm 1/2 \\log _{2}\\mathrm 1/2}}$\n"
   ]
  },
  {
   "cell_type": "markdown",
   "metadata": {},
   "source": [
    "${{H} (X)=-\\sum _{i=1}^{n}{\\mathrm 1/2 (-1)}} = 1$\n"
   ]
  },
  {
   "cell_type": "markdown",
   "metadata": {},
   "source": [
    "#### 1.6.b. What is entropy of Q distribution? (1 point)"
   ]
  },
  {
   "cell_type": "markdown",
   "metadata": {},
   "source": [
    "\"reduced uncertainty is quan\n",
    "tified in a lower entropy\""
   ]
  },
  {
   "cell_type": "markdown",
   "metadata": {},
   "source": [
    "$H(X) = -Q(head)\\log _{2}(Q(head)) - Q(tail)\\log _{2}(Q(tail))$"
   ]
  },
  {
   "cell_type": "markdown",
   "metadata": {},
   "source": [
    "$H(X) = -.9\\log _{2}(.9) - .1\\log _{2}(.1)$"
   ]
  },
  {
   "cell_type": "code",
   "execution_count": 2,
   "metadata": {},
   "outputs": [
    {
     "data": {
      "text/plain": [
       "0.4689955935892812"
      ]
     },
     "execution_count": 2,
     "metadata": {},
     "output_type": "execute_result"
    }
   ],
   "source": [
    "-.9 * np.log2(.9) - .1 * np.log2(.1)"
   ]
  },
  {
   "cell_type": "markdown",
   "metadata": {},
   "source": [
    "#### 1.6.c. What is cross-entropy between P and Q i.e. CE(P,Q)? (1 point)\n"
   ]
  },
  {
   "cell_type": "markdown",
   "metadata": {},
   "source": [
    "H(P, Q) =H(P) +DKL(P Q)"
   ]
  },
  {
   "cell_type": "code",
   "execution_count": 3,
   "metadata": {},
   "outputs": [],
   "source": [
    "p = [.5,.5]\n",
    "q = [.1, .9]"
   ]
  },
  {
   "cell_type": "code",
   "execution_count": 4,
   "metadata": {},
   "outputs": [],
   "source": [
    "# calculate cross entropy\n",
    "# https://machinelearningmastery.com/cross-entropy-for-machine-learning/\n",
    "def cross_entropy(p, q):\n",
    "    return -sum([p[i]*np.log2(q[i]) for i in range(len(p))])"
   ]
  },
  {
   "cell_type": "code",
   "execution_count": 5,
   "metadata": {},
   "outputs": [
    {
     "data": {
      "text/plain": [
       "1.736965594166206"
      ]
     },
     "execution_count": 5,
     "metadata": {},
     "output_type": "execute_result"
    }
   ],
   "source": [
    "cross_entropy(p, q)"
   ]
  },
  {
   "cell_type": "markdown",
   "metadata": {},
   "source": [
    "#### 1.6.d. What is the cross-entropy between Q and P i.e. CE(Q,P)? (1 point)"
   ]
  },
  {
   "cell_type": "markdown",
   "metadata": {},
   "source": [
    "H(P, Q) =H(P) +DKL(P Q)"
   ]
  },
  {
   "cell_type": "code",
   "execution_count": 6,
   "metadata": {},
   "outputs": [
    {
     "data": {
      "text/plain": [
       "1.0"
      ]
     },
     "execution_count": 6,
     "metadata": {},
     "output_type": "execute_result"
    }
   ],
   "source": [
    "cross_entropy(q, p)"
   ]
  },
  {
   "cell_type": "markdown",
   "metadata": {},
   "source": [
    "---\n",
    "# Question 2: Solving Linear Regression via Mean Squared Error (MSE) Optimization Problem (30 points)"
   ]
  },
  {
   "cell_type": "markdown",
   "metadata": {},
   "source": [
    "Imagine that you have measured two variables X and Y, for a simple task, and you belive that they might be linearly related to each other. Here, our input X has 2 dimensions, and the output has 1 dimension. We will use super-script to indicate which sample it is, and sub-scipt to indicate which dimension it is. \n",
    "The measurements are as follows:\n",
    "\n",
    "###### (Training data D = {($X^1$, $Y^1$), ($X^2$, $Y^2$), ($X^3$, $Y^3$)})\n",
    "\n",
    "Sample 1: $X^1 = (x_1^1, x_2^1) = (2, 2)$,   $Y^1$ = 5\n",
    "\n",
    "Sample 2: $X^2 = (x_1^2, x_2^2) = (2, 7)$,   $Y^2$ = 3\n",
    "\n",
    "Sample 3: $X^3 = (x_1^3, x_2^3) = (-1, 0)$,   $Y^3$ = 1\n",
    "\n"
   ]
  },
  {
   "cell_type": "markdown",
   "metadata": {},
   "source": [
    "If we assume that the relationship between X and Y is linear, we can write this relationship as:"
   ]
  },
  {
   "cell_type": "markdown",
   "metadata": {},
   "source": [
    "$Y = f_{W,B}(X) = WX + B = w_1*x_1 + w_2*x_2 + B$"
   ]
  },
  {
   "cell_type": "markdown",
   "metadata": {},
   "source": [
    "where $W = (w_1, w_2)$ and $B$ are the parameters of the model.\t\n",
    "We are interested in finding best values for W and B.\t\n",
    "We define 'best' in terms of a loss function between $f_{W,b}(X_i)$ and $Y_i$ for each ($X_i$ and $Y_i$) in the training data. \t\n",
    "Since $Y_i$s are real numbers, let's consider Mean Squared Error loss. "
   ]
  },
  {
   "cell_type": "markdown",
   "metadata": {},
   "source": [
    "Remember that Mean Squared Error for this function, over training data, and W and B is:\n",
    "\n",
    "$MSELoss(D={(X_1, Y_1), (X_2, Y_2), (X_3, Y_3)}), W, B) = \\frac{1}{3}\\sum_{i=1}^{3} (f_{W,B}(X_i) - Y_i)^2 $"
   ]
  },
  {
   "cell_type": "markdown",
   "metadata": {},
   "source": [
    "### 2.1. (6 points)\n",
    "Compute the partial derivative of $MESLoss(D, W, B)$, With respect to W and B.\t\n",
    "Remember that $X_1$, $X_2$, $X_3$, $Y_1$, $Y_2$, and $Y_3$ are constants, and already given to us as training data above.\n",
    "\n",
    "$\\frac{d}{d w_1} MSELoss(D, W, B) = ?$\n",
    "\n",
    "\n",
    "\n"
   ]
  },
  {
   "cell_type": "markdown",
   "metadata": {},
   "source": [
    "$\\frac{1}{3}\\sum_{i=1}^{3} (f_{W,B}(X_i) - Y_i)^2 $"
   ]
  },
  {
   "cell_type": "markdown",
   "metadata": {},
   "source": [
    "$=\\frac{1}{3}u^2$"
   ]
  },
  {
   "cell_type": "markdown",
   "metadata": {},
   "source": [
    "$\\frac{du}{dx} = \\frac{2}{3}u$"
   ]
  },
  {
   "cell_type": "markdown",
   "metadata": {},
   "source": [
    "$u = \\sum_{i=1}^{3} (w_1*x_1 + w_2*x_2 + B- Y^i)$"
   ]
  },
  {
   "cell_type": "markdown",
   "metadata": {},
   "source": [
    "if w1 is the only variable of interest, we pretend that all other varibles are constants. x1 is the coeffiecient of w1 so its the only thing left"
   ]
  },
  {
   "cell_type": "markdown",
   "metadata": {},
   "source": [
    "$\\frac{d}{d w_1} = \\frac{2}{3}\\sum_{i=1}^{3} (f_{W,B}(X^i) - Y^i)x_1^i$"
   ]
  },
  {
   "cell_type": "markdown",
   "metadata": {},
   "source": [
    "plug in the known constants"
   ]
  },
  {
   "cell_type": "markdown",
   "metadata": {},
   "source": [
    "$\\frac{d}{d w_1}  = 2(3w_1 + 6w_2 + B -5$)"
   ]
  },
  {
   "cell_type": "code",
   "execution_count": 7,
   "metadata": {},
   "outputs": [],
   "source": [
    "#make into a funtion to be used below\n",
    "def w1_der(w1, w2, B):\n",
    "    return 2*(3*w1+6*w2+B-5)"
   ]
  },
  {
   "cell_type": "markdown",
   "metadata": {},
   "source": [
    "$\\frac{d}{d w_2} MSELoss(D, W, B) = ?$"
   ]
  },
  {
   "cell_type": "markdown",
   "metadata": {},
   "source": [
    "$\\frac{d}{d w_2} = \\frac{2}{3}\\sum_{i=1}^{3} (f_{W,B}(X^i) - Y^i)x_2^i$"
   ]
  },
  {
   "cell_type": "markdown",
   "metadata": {},
   "source": [
    "plug in the known constants"
   ]
  },
  {
   "cell_type": "markdown",
   "metadata": {},
   "source": [
    "$\\frac{d}{d w_2} = \\frac{2}{3}(18w_1+53w_2+9B -31)$"
   ]
  },
  {
   "cell_type": "code",
   "execution_count": 8,
   "metadata": {},
   "outputs": [],
   "source": [
    "#make into a funtion to be used below\n",
    "def w2_der(w1, w2, B):\n",
    "    return 2/3*(18*w1+53*w2+9*B-31)"
   ]
  },
  {
   "cell_type": "markdown",
   "metadata": {},
   "source": [
    "$\\frac{d}{d B} MSELoss(D, W, B) = ?$"
   ]
  },
  {
   "cell_type": "markdown",
   "metadata": {},
   "source": [
    "$\\frac{d}{d B} = \\frac{2}{3}\\sum_{i=1}^{3} (f_{W,B}(X^i) - Y^i)$"
   ]
  },
  {
   "cell_type": "markdown",
   "metadata": {},
   "source": [
    "plug in the known constants"
   ]
  },
  {
   "cell_type": "markdown",
   "metadata": {},
   "source": [
    "$\\frac{d}{d B} = \\frac{2}{3}(3w_1+9w_2+3B-9)$"
   ]
  },
  {
   "cell_type": "code",
   "execution_count": 9,
   "metadata": {},
   "outputs": [],
   "source": [
    "#make into a funtion to be used below\n",
    "def B_der(w1, w2, B):\n",
    "    return 2/3*(3*w1+9*w2+3*B-9)"
   ]
  },
  {
   "cell_type": "markdown",
   "metadata": {},
   "source": [
    "### 2.2. (6 points)\n",
    "Use matplotlib library and plot $\\frac{d}{d w1} MSELoss(D, W, B)$ for $w_1 = np.arange(0, 3, 0.5)$, when $w_2$ equals 1, and B equals to -5."
   ]
  },
  {
   "cell_type": "code",
   "execution_count": 10,
   "metadata": {},
   "outputs": [],
   "source": [
    "import matplotlib.pyplot as plt\n",
    "import numpy as np\n",
    "w1 = np.arange(0, 3, 0.5)\n",
    "# plot dMSELoss/dw1 here:"
   ]
  },
  {
   "cell_type": "markdown",
   "metadata": {},
   "source": [
    "$\\frac{d}{d w_1}  = 2(3w_1 + 6w_2 + B -5$)"
   ]
  },
  {
   "cell_type": "markdown",
   "metadata": {},
   "source": [
    "$\\frac{d}{d w_1}  = 2(3w_1 -4$)"
   ]
  },
  {
   "cell_type": "markdown",
   "metadata": {},
   "source": [
    "$\\frac{d}{d w_1}  = 6w_1 -8$"
   ]
  },
  {
   "cell_type": "code",
   "execution_count": 11,
   "metadata": {},
   "outputs": [],
   "source": [
    "def plot_w1(w1):\n",
    "    return w1*6 - 8"
   ]
  },
  {
   "cell_type": "code",
   "execution_count": 12,
   "metadata": {},
   "outputs": [
    {
     "data": {
      "text/plain": [
       "array([0. , 0.5, 1. , 1.5, 2. , 2.5])"
      ]
     },
     "execution_count": 12,
     "metadata": {},
     "output_type": "execute_result"
    }
   ],
   "source": [
    "𝑛𝑝.𝑎𝑟𝑎𝑛𝑔𝑒(0,3,0.5)"
   ]
  },
  {
   "cell_type": "code",
   "execution_count": 13,
   "metadata": {},
   "outputs": [],
   "source": [
    "w1_output = []\n",
    "for w in 𝑛𝑝.𝑎𝑟𝑎𝑛𝑔𝑒(0,3,0.5):\n",
    "    w1_output.append(plot_w1(w))"
   ]
  },
  {
   "cell_type": "code",
   "execution_count": 14,
   "metadata": {},
   "outputs": [],
   "source": [
    "plt.style.use('fivethirtyeight')"
   ]
  },
  {
   "cell_type": "code",
   "execution_count": 15,
   "metadata": {},
   "outputs": [
    {
     "data": {
      "text/plain": [
       "[-8.0, -5.0, -2.0, 1.0, 4.0, 7.0]"
      ]
     },
     "execution_count": 15,
     "metadata": {},
     "output_type": "execute_result"
    }
   ],
   "source": [
    "w1_output"
   ]
  },
  {
   "cell_type": "code",
   "execution_count": 16,
   "metadata": {},
   "outputs": [
    {
     "data": {
      "text/plain": [
       "[<matplotlib.lines.Line2D at 0x120415790>]"
      ]
     },
     "execution_count": 16,
     "metadata": {},
     "output_type": "execute_result"
    },
    {
     "data": {
      "image/png": "[encoded data removed]",
      "text/plain": [
       "<Figure size 432x288 with 1 Axes>"
      ]
     },
     "metadata": {},
     "output_type": "display_data"
    }
   ],
   "source": [
    "plt.plot(𝑛𝑝.𝑎𝑟𝑎𝑛𝑔𝑒(0,3,0.5), w1_output)"
   ]
  },
  {
   "cell_type": "markdown",
   "metadata": {},
   "source": [
    "### 2.3. (6 points)\n",
    "What values of $w_1$, $w_2$ and $B$, make all partial derivatives zero?"
   ]
  },
  {
   "cell_type": "code",
   "execution_count": 17,
   "metadata": {},
   "outputs": [
    {
     "name": "stdout",
     "output_type": "stream",
     "text": [
      "[ 1.6 -0.4  2.6]\n"
     ]
    }
   ],
   "source": [
    "A = np.array([[3, 9, 3], [18, 53, 9], [3, 6, 1]])\n",
    "B = np.array([9, 31, 5])\n",
    "X = np.linalg.solve(A,B)\n",
    "\n",
    "print(X)"
   ]
  },
  {
   "cell_type": "code",
   "execution_count": 18,
   "metadata": {},
   "outputs": [
    {
     "name": "stdout",
     "output_type": "stream",
     "text": [
      "0.0\n",
      "0.0\n",
      "0.0\n"
     ]
    }
   ],
   "source": [
    "print(w1_der(X[0], X[1], X[2]))\n",
    "print(w2_der(X[0], X[1], X[2]))\n",
    "print(B_der(X[0], X[1], X[2]))"
   ]
  },
  {
   "cell_type": "code",
   "execution_count": 19,
   "metadata": {},
   "outputs": [
    {
     "data": {
      "text/plain": [
       "'w1 is 1.6, w2 is -0.4, B is 2.6'"
      ]
     },
     "execution_count": 19,
     "metadata": {},
     "output_type": "execute_result"
    }
   ],
   "source": [
    "f'''w1 is {round(X[0], 4)}, w2 is {round(X[1], 4)}, B is {round(X[2], 4)}'''"
   ]
  },
  {
   "cell_type": "markdown",
   "metadata": {},
   "source": [
    "### 2.4. (6 points)\n",
    "If you start from an initial point $w_1^0 = 0.1$ , $w_2^0 = 0.1$ and $B^0 = 0.1$, and iteratively update your $w_1$, $w_2$, and B via gradient descent as follows:\n",
    "    \n",
    "$ w_1^{t+1} = w_1^t - 0.01 * \\frac{d}{d w_1} MSELoss(D, W, B) |_{w_1^t,w_2^t,B^t} $\t\n",
    "$ w_2^{t+1} = w_2^t - 0.01 * \\frac{d}{d w_2} MSELoss(D, W, B) |_{w_1^t,w_2^t,B^t} $\t\n",
    "$ B^{t+1} = B^t - 0.01 * \\frac{d}{d B} MSELoss(D, W, B) |_{w_1^t,w_2^t,B^t} $\t\n",
    "(Note: This is gradient descent with a 0.01 learning rate.)\n",
    "\n",
    "What are the values of Ws and B over iterations 0 to 50? (Don't compute by hand! Write a code!)\t\n",
    "Write a python script that computes these values for 50 iterations, i.e. lists of $\\{w_1^0, w^1_1,.., w_1^{50}\\}$, $\\{w_2^0, w_2^1,.., w_2^{50}\\}$, and $\\{B^0, B^1,.., B^{50}\\}$.\t\n",
    "Plot the lists of $w_1$s, $w_2$s and Bs over 50 iterations.\n",
    "\n"
   ]
  },
  {
   "cell_type": "code",
   "execution_count": 20,
   "metadata": {},
   "outputs": [],
   "source": [
    "#set rate and starting values\n",
    "rate = .01\n",
    "w1_current = .1\n",
    "w2_current = .1\n",
    "B_current = .1\n",
    "weight_dict = {'w1': [], \n",
    "           'w2': [], \n",
    "            'B': []\n",
    "          }\n",
    "# 50 iterations\n",
    "for x in range(51):\n",
    "    #continue to append to dict of lists\n",
    "    weight_dict['w1'].append(w1_current)\n",
    "    weight_dict['w2'].append(w2_current)\n",
    "    weight_dict['B'].append(B_current)\n",
    "    #transform base\n",
    "    w1 = w1_current-rate*(w1_der(w1_current, w2_current, B_current))\n",
    "    w2 = w2_current-rate*(w2_der(w1_current, w2_current, B_current))\n",
    "    B = B_current-rate*(B_der(w1_current, w2_current, B_current))\n",
    "    #once all is transformed, set to current\n",
    "    w1_current = w1\n",
    "    w2_current = w2\n",
    "    B_current = B"
   ]
  },
  {
   "cell_type": "code",
   "execution_count": 21,
   "metadata": {},
   "outputs": [
    {
     "name": "stdout",
     "output_type": "stream",
     "text": [
      "w1\n",
      "51\n",
      "w2\n",
      "51\n",
      "B\n",
      "51\n"
     ]
    }
   ],
   "source": [
    "# test quantity of outputs\n",
    "for k, v in weight_dict.items():\n",
    "    print (k)\n",
    "    print (len(v))"
   ]
  },
  {
   "cell_type": "code",
   "execution_count": 22,
   "metadata": {},
   "outputs": [
    {
     "data": {
      "text/plain": [
       "Text(0.5, 0, 'epoch')"
      ]
     },
     "execution_count": 22,
     "metadata": {},
     "output_type": "execute_result"
    },
    {
     "data": {
      "image/png": "[encoded data removed]",
      "text/plain": [
       "<Figure size 432x288 with 1 Axes>"
      ]
     },
     "metadata": {},
     "output_type": "display_data"
    }
   ],
   "source": [
    "pd.DataFrame(weight_dict).plot()\n",
    "plt.ylabel('value')\n",
    "plt.xlabel('epoch')"
   ]
  },
  {
   "cell_type": "markdown",
   "metadata": {},
   "source": [
    "### 2.5. (6 points)\n",
    "Now that you learned the math and made the code yourself, we will use pytorch and automatic differentiation, to find optimal W and B!\t\n",
    "Again, consider data to be D = {($X_1$, $Y_1$), ($X_2$, $Y_2$), ($X_3$, $Y_3$)}) = {((2,2), 5), ((2,7), 3), ((-1,0), 1)}.\n",
    "\n",
    "Some of your steps are here. Fill in the rest and show a plot of the loss function, $w_1$, $w_2$ and B over these 10 epochs."
   ]
  },
  {
   "cell_type": "code",
   "execution_count": 23,
   "metadata": {},
   "outputs": [],
   "source": [
    "import torch\n",
    "import torch.nn as nn\n",
    "import numpy as np\n",
    "from torch import optim\n",
    "import random"
   ]
  },
  {
   "cell_type": "code",
   "execution_count": 24,
   "metadata": {},
   "outputs": [],
   "source": [
    "from torch.autograd import Variable"
   ]
  },
  {
   "cell_type": "code",
   "execution_count": 25,
   "metadata": {},
   "outputs": [
    {
     "name": "stdout",
     "output_type": "stream",
     "text": [
      "data X is: [[ 2  2]\n",
      " [ 2  7]\n",
      " [-1  0]]\n",
      "data Y is: [5 3 1]\n"
     ]
    }
   ],
   "source": [
    "D = [((2,2), 5), ((2,7), 3), ((-1,0), 1)]\n",
    "X = [d[0] for d in D]\n",
    "Y = [d[1] for d in D]\n",
    "X = np.array(X)\n",
    "Y = np.array(Y)\n",
    "print('data X is:', X)\n",
    "print('data Y is:', Y)\n",
    "\n",
    "model = torch.nn.Linear(2, 1, bias=True)\n",
    "optimizer = optim.SGD(model.parameters(), lr=0.01)\n",
    "loss = torch.nn.MSELoss()\n",
    "\n",
    "losslist = []\n",
    "w1list = []\n",
    "w2list = []\n",
    "blist = []\n",
    "\n",
    "#plot the losslist, w1s, w2s, and bs."
   ]
  },
  {
   "cell_type": "code",
   "execution_count": 26,
   "metadata": {},
   "outputs": [],
   "source": [
    "c = list(zip(X, Y))\n",
    "random.shuffle(c)\n",
    "a, b = zip(*c)"
   ]
  },
  {
   "cell_type": "code",
   "execution_count": 27,
   "metadata": {},
   "outputs": [],
   "source": [
    "X = np.array(X)"
   ]
  },
  {
   "cell_type": "code",
   "execution_count": 28,
   "metadata": {},
   "outputs": [],
   "source": [
    "model = torch.nn.Linear(2, 1, bias=True)\n",
    "optimizer = optim.SGD(model.parameters(), lr=0.01)\n",
    "loss = torch.nn.MSELoss()\n",
    "\n",
    "losslist = []\n",
    "w1list = []\n",
    "w2list = []\n",
    "blist = []\n",
    "\n",
    "for epoch in range(10+1):\n",
    "    # Shuffle your training data samples\n",
    "    # random.seed(666) do not want it to be the same shuffle everytime\n",
    "    c = list(zip(X, Y))\n",
    "    random.shuffle(c)\n",
    "    X, Y = zip(*c)\n",
    "    #make into an array after shuffle\n",
    "    X = np.array(X)\n",
    "    Y = np.array(Y)\n",
    "    \n",
    "    # Loop over your training data in the new order:\n",
    "    # reference piazza answer from instructor \"You can feed all data, \n",
    "    # given that you have only 3 data points.\"\n",
    "#     for i in X:\n",
    "    #dont forget to: optimizer.zero_grad()\n",
    "    model.train()\n",
    "    optimizer.zero_grad()\n",
    "\n",
    "    #prepare your x_input and y_target if needed\n",
    "    # reverse engineered from here https://discuss.pytorch.org/t/how-to-cast-a-tensor-to-another-type/2713/2\n",
    "    x_input, y_target = torch.from_numpy(X),torch.from_numpy(Y)\n",
    "    x_input, y_target = x_input.type(torch.FloatTensor),y_target.type(torch.FloatTensor)\n",
    "\n",
    "    #send the data through your model: i.e. pred_i = model(x_input)\n",
    "    pred_i = model(x_input).squeeze()\n",
    "    #send the prediction through the loss function too: i.e. lossout= loss(pred_i, y_target)\n",
    "    lossout= loss(pred_i, y_target)\n",
    "    #call backward to back-propagate: i.e. lossout.backward()\n",
    "    lossout.backward()\n",
    "    #call optimizer.step() to update the model parameters based on the computed gradients\n",
    "    optimizer.step()\n",
    "\n",
    "    #keep the w1s, w2s, and bs, and loss value some list so you can plot them later\n",
    "    w1, w2 = model.weight.data.numpy()[0]\n",
    "    b = model.bias.data.numpy()[0]\n",
    "\n",
    "    losslist.append(float(lossout.data.numpy()))\n",
    "    w1list.append(w1)\n",
    "    w2list.append(w2)\n",
    "    blist.append(b)"
   ]
  },
  {
   "cell_type": "code",
   "execution_count": 29,
   "metadata": {},
   "outputs": [
    {
     "data": {
      "text/plain": [
       "[0.1611732,\n",
       " 0.189209,\n",
       " 0.21420862,\n",
       " 0.23734005,\n",
       " 0.2592969,\n",
       " 0.28049123,\n",
       " 0.30116796,\n",
       " 0.3214729,\n",
       " 0.34149298,\n",
       " 0.36128017,\n",
       " 0.38086575]"
      ]
     },
     "execution_count": 29,
     "metadata": {},
     "output_type": "execute_result"
    }
   ],
   "source": [
    "blist"
   ]
  },
  {
   "cell_type": "code",
   "execution_count": 30,
   "metadata": {},
   "outputs": [
    {
     "data": {
      "text/plain": [
       "[-0.04660128,\n",
       " -0.006374188,\n",
       " 0.027536705,\n",
       " 0.057533007,\n",
       " 0.08504286,\n",
       " 0.11091659,\n",
       " 0.13566157,\n",
       " 0.15958159,\n",
       " 0.18285955,\n",
       " 0.2056066,\n",
       " 0.2278912]"
      ]
     },
     "execution_count": 30,
     "metadata": {},
     "output_type": "execute_result"
    }
   ],
   "source": [
    "w1list"
   ]
  },
  {
   "cell_type": "code",
   "execution_count": 31,
   "metadata": {},
   "outputs": [
    {
     "data": {
      "text/plain": [
       "11"
      ]
     },
     "execution_count": 31,
     "metadata": {},
     "output_type": "execute_result"
    }
   ],
   "source": [
    "len(losslist)"
   ]
  },
  {
   "cell_type": "code",
   "execution_count": 32,
   "metadata": {},
   "outputs": [],
   "source": [
    "#plot the losslist, w1s, w2s, and bs."
   ]
  },
  {
   "cell_type": "code",
   "execution_count": 33,
   "metadata": {},
   "outputs": [],
   "source": [
    "plt_dict = {'Loss': losslist, \n",
    "            'Weight 1': w1list, \n",
    "            'Weight 2': w2list, \n",
    "            'Bias': blist}"
   ]
  },
  {
   "cell_type": "code",
   "execution_count": 34,
   "metadata": {},
   "outputs": [
    {
     "data": {
      "text/plain": [
       "[6.047016143798828,\n",
       " 5.485018253326416,\n",
       " 5.206766128540039,\n",
       " 5.0305609703063965,\n",
       " 4.892342567443848,\n",
       " 4.769490718841553,\n",
       " 4.653981685638428,\n",
       " 4.542933940887451,\n",
       " 4.435279369354248,\n",
       " 4.33059024810791,\n",
       " 4.228666305541992]"
      ]
     },
     "execution_count": 34,
     "metadata": {},
     "output_type": "execute_result"
    }
   ],
   "source": [
    "losslist"
   ]
  },
  {
   "cell_type": "code",
   "execution_count": 35,
   "metadata": {},
   "outputs": [
    {
     "data": {
      "image/png": "[encoded data removed]",
      "text/plain": [
       "<Figure size 432x288 with 1 Axes>"
      ]
     },
     "metadata": {},
     "output_type": "display_data"
    },
    {
     "data": {
      "image/png": "[encoded data removed]",
      "text/plain": [
       "<Figure size 432x288 with 1 Axes>"
      ]
     },
     "metadata": {},
     "output_type": "display_data"
    },
    {
     "data": {
      "image/png": "[encoded data removed]",
      "text/plain": [
       "<Figure size 432x288 with 1 Axes>"
      ]
     },
     "metadata": {},
     "output_type": "display_data"
    },
    {
     "data": {
      "image/png": "[encoded data removed]",
      "text/plain": [
       "<Figure size 432x288 with 1 Axes>"
      ]
     },
     "metadata": {},
     "output_type": "display_data"
    }
   ],
   "source": [
    "for k,v in plt_dict.items():\n",
    "    plt.plot(v)\n",
    "    plt.title(k)\n",
    "    plt.xlabel('epoch')\n",
    "    plt.ylabel(k)\n",
    "    plt.show()"
   ]
  },
  {
   "cell_type": "markdown",
   "metadata": {},
   "source": [
    "# Question 3: Learning Curves, Overfitting, and Machine Learning! (61 points)"
   ]
  },
  {
   "cell_type": "code",
   "execution_count": 36,
   "metadata": {},
   "outputs": [],
   "source": [
    "import pandas as pd\n",
    "import matplotlib.pyplot as plt"
   ]
  },
  {
   "cell_type": "markdown",
   "metadata": {},
   "source": [
    "Now we know how to optimize, let's get some real machine learning done!\t\n",
    "\n",
    "Instead of the small dataset we had in questions 2 and 3, now let's use the the CBIS-DDSM (Curated Breast Imaging Subset of DDSM) dataset from <a href=\"https://wiki.cancerimagingarchive.net/display/Public/CBIS-DDSM#385f2cd4e86f4142b1d32bdb5803bd96\"> here</a>\n",
    "\n",
    "\n",
    "In this homework, we will *only* focus on the following items in the dataset:\t\n",
    "Mass-Training-Description (csv)\t\n",
    "Mass-Test-Description (csv)\t\n",
    "(Don't download the images on your laptop! That file is too big and we deal with it on the cluster later!)\n",
    "\n",
    "This dataset contains several features related to Mammography and detection of breast cancer. \n",
    "\n",
    "The Mass-Training-Description and Mass-Test-Description include these columns:\n",
    "\n",
    "patient_id\t\n",
    "breast_density\t\n",
    "left or right breast\t\n",
    "image view\t\t\n",
    "abnormality id\t\t\n",
    "abnormality type\t\n",
    "mass shape\t\n",
    "mass margins\t\n",
    "assessment\t\n",
    "pathology\n",
    "\n",
    "There is more data in this dataset, including images, but for this homework we will not focus on them.\n",
    "\n",
    "We are interested in this question:\t\n",
    "Using variables:\t\n",
    "\n",
    "breast_density\t\n",
    "left or right breast\t\n",
    "image view\t\t\n",
    "abnormality id\t\t\n",
    "abnormality type\t\n",
    "mass shape\t\n",
    "mass margins\t\n",
    "\n",
    "How well can we predict the **pathology type**?\n",
    "\n",
    "We can answer that by training a model on the Mass-Training-Description, and evaluating it on Mass-Test-Description. \n",
    "See questions 3.1 and 3.2\n",
    "\n"
   ]
  },
  {
   "cell_type": "code",
   "execution_count": 37,
   "metadata": {},
   "outputs": [],
   "source": [
    "test = pd.read_csv('mass_case_description_test_set.csv')"
   ]
  },
  {
   "cell_type": "code",
   "execution_count": 38,
   "metadata": {},
   "outputs": [],
   "source": [
    "train = pd.read_csv('mass_case_description_train_set.csv')"
   ]
  },
  {
   "cell_type": "code",
   "execution_count": 39,
   "metadata": {},
   "outputs": [
    {
     "data": {
      "text/html": [
       "<div>\n",
       "<style scoped>\n",
       "    .dataframe tbody tr th:only-of-type {\n",
       "        vertical-align: middle;\n",
       "    }\n",
       "\n",
       "    .dataframe tbody tr th {\n",
       "        vertical-align: top;\n",
       "    }\n",
       "\n",
       "    .dataframe thead th {\n",
       "        text-align: right;\n",
       "    }\n",
       "</style>\n",
       "<table border=\"1\" class=\"dataframe\">\n",
       "  <thead>\n",
       "    <tr style=\"text-align: right;\">\n",
       "      <th></th>\n",
       "      <th>patient_id</th>\n",
       "      <th>breast_density</th>\n",
       "      <th>left or right breast</th>\n",
       "      <th>image view</th>\n",
       "      <th>abnormality id</th>\n",
       "      <th>abnormality type</th>\n",
       "      <th>mass shape</th>\n",
       "      <th>mass margins</th>\n",
       "      <th>assessment</th>\n",
       "      <th>pathology</th>\n",
       "      <th>subtlety</th>\n",
       "      <th>image file path</th>\n",
       "      <th>cropped image file path</th>\n",
       "      <th>ROI mask file path</th>\n",
       "    </tr>\n",
       "  </thead>\n",
       "  <tbody>\n",
       "    <tr>\n",
       "      <th>0</th>\n",
       "      <td>P_00016</td>\n",
       "      <td>4</td>\n",
       "      <td>LEFT</td>\n",
       "      <td>CC</td>\n",
       "      <td>1</td>\n",
       "      <td>mass</td>\n",
       "      <td>IRREGULAR</td>\n",
       "      <td>SPICULATED</td>\n",
       "      <td>5</td>\n",
       "      <td>MALIGNANT</td>\n",
       "      <td>5</td>\n",
       "      <td>Mass-Test_P_00016_LEFT_CC/1.3.6.1.4.1.9590.100...</td>\n",
       "      <td>Mass-Test_P_00016_LEFT_CC_1/1.3.6.1.4.1.9590.1...</td>\n",
       "      <td>Mass-Test_P_00016_LEFT_CC_1/1.3.6.1.4.1.9590.1...</td>\n",
       "    </tr>\n",
       "    <tr>\n",
       "      <th>1</th>\n",
       "      <td>P_00016</td>\n",
       "      <td>4</td>\n",
       "      <td>LEFT</td>\n",
       "      <td>MLO</td>\n",
       "      <td>1</td>\n",
       "      <td>mass</td>\n",
       "      <td>IRREGULAR</td>\n",
       "      <td>SPICULATED</td>\n",
       "      <td>5</td>\n",
       "      <td>MALIGNANT</td>\n",
       "      <td>5</td>\n",
       "      <td>Mass-Test_P_00016_LEFT_MLO/1.3.6.1.4.1.9590.10...</td>\n",
       "      <td>Mass-Test_P_00016_LEFT_MLO_1/1.3.6.1.4.1.9590....</td>\n",
       "      <td>Mass-Test_P_00016_LEFT_MLO_1/1.3.6.1.4.1.9590....</td>\n",
       "    </tr>\n",
       "    <tr>\n",
       "      <th>2</th>\n",
       "      <td>P_00017</td>\n",
       "      <td>2</td>\n",
       "      <td>LEFT</td>\n",
       "      <td>CC</td>\n",
       "      <td>1</td>\n",
       "      <td>mass</td>\n",
       "      <td>ROUND</td>\n",
       "      <td>CIRCUMSCRIBED</td>\n",
       "      <td>4</td>\n",
       "      <td>MALIGNANT</td>\n",
       "      <td>4</td>\n",
       "      <td>Mass-Test_P_00017_LEFT_CC/1.3.6.1.4.1.9590.100...</td>\n",
       "      <td>Mass-Test_P_00017_LEFT_CC_1/1.3.6.1.4.1.9590.1...</td>\n",
       "      <td>Mass-Test_P_00017_LEFT_CC_1/1.3.6.1.4.1.9590.1...</td>\n",
       "    </tr>\n",
       "    <tr>\n",
       "      <th>3</th>\n",
       "      <td>P_00017</td>\n",
       "      <td>2</td>\n",
       "      <td>LEFT</td>\n",
       "      <td>MLO</td>\n",
       "      <td>1</td>\n",
       "      <td>mass</td>\n",
       "      <td>ROUND</td>\n",
       "      <td>ILL_DEFINED</td>\n",
       "      <td>4</td>\n",
       "      <td>MALIGNANT</td>\n",
       "      <td>4</td>\n",
       "      <td>Mass-Test_P_00017_LEFT_MLO/1.3.6.1.4.1.9590.10...</td>\n",
       "      <td>Mass-Test_P_00017_LEFT_MLO_1/1.3.6.1.4.1.9590....</td>\n",
       "      <td>Mass-Test_P_00017_LEFT_MLO_1/1.3.6.1.4.1.9590....</td>\n",
       "    </tr>\n",
       "    <tr>\n",
       "      <th>4</th>\n",
       "      <td>P_00032</td>\n",
       "      <td>3</td>\n",
       "      <td>RIGHT</td>\n",
       "      <td>CC</td>\n",
       "      <td>1</td>\n",
       "      <td>mass</td>\n",
       "      <td>ROUND</td>\n",
       "      <td>OBSCURED</td>\n",
       "      <td>0</td>\n",
       "      <td>BENIGN</td>\n",
       "      <td>2</td>\n",
       "      <td>Mass-Test_P_00032_RIGHT_CC/1.3.6.1.4.1.9590.10...</td>\n",
       "      <td>Mass-Test_P_00032_RIGHT_CC_1/1.3.6.1.4.1.9590....</td>\n",
       "      <td>Mass-Test_P_00032_RIGHT_CC_1/1.3.6.1.4.1.9590....</td>\n",
       "    </tr>\n",
       "  </tbody>\n",
       "</table>\n",
       "</div>"
      ],
      "text/plain": [
       "  patient_id  breast_density left or right breast image view  abnormality id  \\\n",
       "0    P_00016               4                 LEFT         CC               1   \n",
       "1    P_00016               4                 LEFT        MLO               1   \n",
       "2    P_00017               2                 LEFT         CC               1   \n",
       "3    P_00017               2                 LEFT        MLO               1   \n",
       "4    P_00032               3                RIGHT         CC               1   \n",
       "\n",
       "  abnormality type mass shape   mass margins  assessment  pathology  subtlety  \\\n",
       "0             mass  IRREGULAR     SPICULATED           5  MALIGNANT         5   \n",
       "1             mass  IRREGULAR     SPICULATED           5  MALIGNANT         5   \n",
       "2             mass      ROUND  CIRCUMSCRIBED           4  MALIGNANT         4   \n",
       "3             mass      ROUND    ILL_DEFINED           4  MALIGNANT         4   \n",
       "4             mass      ROUND       OBSCURED           0     BENIGN         2   \n",
       "\n",
       "                                     image file path  \\\n",
       "0  Mass-Test_P_00016_LEFT_CC/1.3.6.1.4.1.9590.100...   \n",
       "1  Mass-Test_P_00016_LEFT_MLO/1.3.6.1.4.1.9590.10...   \n",
       "2  Mass-Test_P_00017_LEFT_CC/1.3.6.1.4.1.9590.100...   \n",
       "3  Mass-Test_P_00017_LEFT_MLO/1.3.6.1.4.1.9590.10...   \n",
       "4  Mass-Test_P_00032_RIGHT_CC/1.3.6.1.4.1.9590.10...   \n",
       "\n",
       "                             cropped image file path  \\\n",
       "0  Mass-Test_P_00016_LEFT_CC_1/1.3.6.1.4.1.9590.1...   \n",
       "1  Mass-Test_P_00016_LEFT_MLO_1/1.3.6.1.4.1.9590....   \n",
       "2  Mass-Test_P_00017_LEFT_CC_1/1.3.6.1.4.1.9590.1...   \n",
       "3  Mass-Test_P_00017_LEFT_MLO_1/1.3.6.1.4.1.9590....   \n",
       "4  Mass-Test_P_00032_RIGHT_CC_1/1.3.6.1.4.1.9590....   \n",
       "\n",
       "                                  ROI mask file path  \n",
       "0  Mass-Test_P_00016_LEFT_CC_1/1.3.6.1.4.1.9590.1...  \n",
       "1  Mass-Test_P_00016_LEFT_MLO_1/1.3.6.1.4.1.9590....  \n",
       "2  Mass-Test_P_00017_LEFT_CC_1/1.3.6.1.4.1.9590.1...  \n",
       "3  Mass-Test_P_00017_LEFT_MLO_1/1.3.6.1.4.1.9590....  \n",
       "4  Mass-Test_P_00032_RIGHT_CC_1/1.3.6.1.4.1.9590....  "
      ]
     },
     "execution_count": 39,
     "metadata": {},
     "output_type": "execute_result"
    }
   ],
   "source": [
    "test.head()"
   ]
  },
  {
   "cell_type": "code",
   "execution_count": 40,
   "metadata": {},
   "outputs": [
    {
     "data": {
      "text/html": [
       "<div>\n",
       "<style scoped>\n",
       "    .dataframe tbody tr th:only-of-type {\n",
       "        vertical-align: middle;\n",
       "    }\n",
       "\n",
       "    .dataframe tbody tr th {\n",
       "        vertical-align: top;\n",
       "    }\n",
       "\n",
       "    .dataframe thead th {\n",
       "        text-align: right;\n",
       "    }\n",
       "</style>\n",
       "<table border=\"1\" class=\"dataframe\">\n",
       "  <thead>\n",
       "    <tr style=\"text-align: right;\">\n",
       "      <th></th>\n",
       "      <th>patient_id</th>\n",
       "      <th>breast_density</th>\n",
       "      <th>left or right breast</th>\n",
       "      <th>image view</th>\n",
       "      <th>abnormality id</th>\n",
       "      <th>abnormality type</th>\n",
       "      <th>mass shape</th>\n",
       "      <th>mass margins</th>\n",
       "      <th>assessment</th>\n",
       "      <th>pathology</th>\n",
       "      <th>subtlety</th>\n",
       "      <th>image file path</th>\n",
       "      <th>cropped image file path</th>\n",
       "      <th>ROI mask file path</th>\n",
       "    </tr>\n",
       "  </thead>\n",
       "  <tbody>\n",
       "    <tr>\n",
       "      <th>0</th>\n",
       "      <td>P_00001</td>\n",
       "      <td>3</td>\n",
       "      <td>LEFT</td>\n",
       "      <td>CC</td>\n",
       "      <td>1</td>\n",
       "      <td>mass</td>\n",
       "      <td>IRREGULAR-ARCHITECTURAL_DISTORTION</td>\n",
       "      <td>SPICULATED</td>\n",
       "      <td>4</td>\n",
       "      <td>MALIGNANT</td>\n",
       "      <td>4</td>\n",
       "      <td>Mass-Training_P_00001_LEFT_CC/1.3.6.1.4.1.9590...</td>\n",
       "      <td>Mass-Training_P_00001_LEFT_CC_1/1.3.6.1.4.1.95...</td>\n",
       "      <td>Mass-Training_P_00001_LEFT_CC_1/1.3.6.1.4.1.95...</td>\n",
       "    </tr>\n",
       "    <tr>\n",
       "      <th>1</th>\n",
       "      <td>P_00001</td>\n",
       "      <td>3</td>\n",
       "      <td>LEFT</td>\n",
       "      <td>MLO</td>\n",
       "      <td>1</td>\n",
       "      <td>mass</td>\n",
       "      <td>IRREGULAR-ARCHITECTURAL_DISTORTION</td>\n",
       "      <td>SPICULATED</td>\n",
       "      <td>4</td>\n",
       "      <td>MALIGNANT</td>\n",
       "      <td>4</td>\n",
       "      <td>Mass-Training_P_00001_LEFT_MLO/1.3.6.1.4.1.959...</td>\n",
       "      <td>Mass-Training_P_00001_LEFT_MLO_1/1.3.6.1.4.1.9...</td>\n",
       "      <td>Mass-Training_P_00001_LEFT_MLO_1/1.3.6.1.4.1.9...</td>\n",
       "    </tr>\n",
       "    <tr>\n",
       "      <th>2</th>\n",
       "      <td>P_00004</td>\n",
       "      <td>3</td>\n",
       "      <td>LEFT</td>\n",
       "      <td>CC</td>\n",
       "      <td>1</td>\n",
       "      <td>mass</td>\n",
       "      <td>ARCHITECTURAL_DISTORTION</td>\n",
       "      <td>ILL_DEFINED</td>\n",
       "      <td>4</td>\n",
       "      <td>BENIGN</td>\n",
       "      <td>3</td>\n",
       "      <td>Mass-Training_P_00004_LEFT_CC/1.3.6.1.4.1.9590...</td>\n",
       "      <td>Mass-Training_P_00004_LEFT_CC_1/1.3.6.1.4.1.95...</td>\n",
       "      <td>Mass-Training_P_00004_LEFT_CC_1/1.3.6.1.4.1.95...</td>\n",
       "    </tr>\n",
       "    <tr>\n",
       "      <th>3</th>\n",
       "      <td>P_00004</td>\n",
       "      <td>3</td>\n",
       "      <td>LEFT</td>\n",
       "      <td>MLO</td>\n",
       "      <td>1</td>\n",
       "      <td>mass</td>\n",
       "      <td>ARCHITECTURAL_DISTORTION</td>\n",
       "      <td>ILL_DEFINED</td>\n",
       "      <td>4</td>\n",
       "      <td>BENIGN</td>\n",
       "      <td>3</td>\n",
       "      <td>Mass-Training_P_00004_LEFT_MLO/1.3.6.1.4.1.959...</td>\n",
       "      <td>Mass-Training_P_00004_LEFT_MLO_1/1.3.6.1.4.1.9...</td>\n",
       "      <td>Mass-Training_P_00004_LEFT_MLO_1/1.3.6.1.4.1.9...</td>\n",
       "    </tr>\n",
       "    <tr>\n",
       "      <th>4</th>\n",
       "      <td>P_00004</td>\n",
       "      <td>3</td>\n",
       "      <td>RIGHT</td>\n",
       "      <td>MLO</td>\n",
       "      <td>1</td>\n",
       "      <td>mass</td>\n",
       "      <td>OVAL</td>\n",
       "      <td>CIRCUMSCRIBED</td>\n",
       "      <td>4</td>\n",
       "      <td>BENIGN</td>\n",
       "      <td>5</td>\n",
       "      <td>Mass-Training_P_00004_RIGHT_MLO/1.3.6.1.4.1.95...</td>\n",
       "      <td>Mass-Training_P_00004_RIGHT_MLO_1/1.3.6.1.4.1....</td>\n",
       "      <td>Mass-Training_P_00004_RIGHT_MLO_1/1.3.6.1.4.1....</td>\n",
       "    </tr>\n",
       "  </tbody>\n",
       "</table>\n",
       "</div>"
      ],
      "text/plain": [
       "  patient_id  breast_density left or right breast image view  abnormality id  \\\n",
       "0    P_00001               3                 LEFT         CC               1   \n",
       "1    P_00001               3                 LEFT        MLO               1   \n",
       "2    P_00004               3                 LEFT         CC               1   \n",
       "3    P_00004               3                 LEFT        MLO               1   \n",
       "4    P_00004               3                RIGHT        MLO               1   \n",
       "\n",
       "  abnormality type                          mass shape   mass margins  \\\n",
       "0             mass  IRREGULAR-ARCHITECTURAL_DISTORTION     SPICULATED   \n",
       "1             mass  IRREGULAR-ARCHITECTURAL_DISTORTION     SPICULATED   \n",
       "2             mass            ARCHITECTURAL_DISTORTION    ILL_DEFINED   \n",
       "3             mass            ARCHITECTURAL_DISTORTION    ILL_DEFINED   \n",
       "4             mass                                OVAL  CIRCUMSCRIBED   \n",
       "\n",
       "   assessment  pathology  subtlety  \\\n",
       "0           4  MALIGNANT         4   \n",
       "1           4  MALIGNANT         4   \n",
       "2           4     BENIGN         3   \n",
       "3           4     BENIGN         3   \n",
       "4           4     BENIGN         5   \n",
       "\n",
       "                                     image file path  \\\n",
       "0  Mass-Training_P_00001_LEFT_CC/1.3.6.1.4.1.9590...   \n",
       "1  Mass-Training_P_00001_LEFT_MLO/1.3.6.1.4.1.959...   \n",
       "2  Mass-Training_P_00004_LEFT_CC/1.3.6.1.4.1.9590...   \n",
       "3  Mass-Training_P_00004_LEFT_MLO/1.3.6.1.4.1.959...   \n",
       "4  Mass-Training_P_00004_RIGHT_MLO/1.3.6.1.4.1.95...   \n",
       "\n",
       "                             cropped image file path  \\\n",
       "0  Mass-Training_P_00001_LEFT_CC_1/1.3.6.1.4.1.95...   \n",
       "1  Mass-Training_P_00001_LEFT_MLO_1/1.3.6.1.4.1.9...   \n",
       "2  Mass-Training_P_00004_LEFT_CC_1/1.3.6.1.4.1.95...   \n",
       "3  Mass-Training_P_00004_LEFT_MLO_1/1.3.6.1.4.1.9...   \n",
       "4  Mass-Training_P_00004_RIGHT_MLO_1/1.3.6.1.4.1....   \n",
       "\n",
       "                                  ROI mask file path  \n",
       "0  Mass-Training_P_00001_LEFT_CC_1/1.3.6.1.4.1.95...  \n",
       "1  Mass-Training_P_00001_LEFT_MLO_1/1.3.6.1.4.1.9...  \n",
       "2  Mass-Training_P_00004_LEFT_CC_1/1.3.6.1.4.1.95...  \n",
       "3  Mass-Training_P_00004_LEFT_MLO_1/1.3.6.1.4.1.9...  \n",
       "4  Mass-Training_P_00004_RIGHT_MLO_1/1.3.6.1.4.1....  "
      ]
     },
     "execution_count": 40,
     "metadata": {},
     "output_type": "execute_result"
    }
   ],
   "source": [
    "train.head()"
   ]
  },
  {
   "cell_type": "markdown",
   "metadata": {},
   "source": [
    "### 3.1. (10 points)\n",
    "Write a script to prepare input [breast_density, left or right breast, image view, abnormality id,\n",
    "abnormality type, mass shape, mass margins] and output [pathology type].\n",
    "\n",
    "The output of your script should be a matrix X and a vector Y, where each row of X are one set of variables for a patient, and each row of Y is the pathology type class, for that patient.\t\n",
    "\n",
    "Use *matplotlib.imshow* to visualize the X.\t\n",
    "(And if there are multiple equivalent rows per patient, keep only one of them - any, up to you)\n"
   ]
  },
  {
   "cell_type": "code",
   "execution_count": 41,
   "metadata": {},
   "outputs": [
    {
     "data": {
      "text/plain": [
       "Index(['patient_id', 'breast_density', 'left or right breast', 'image view',\n",
       "       'abnormality id', 'abnormality type', 'mass shape', 'mass margins',\n",
       "       'assessment', 'pathology', 'subtlety', 'image file path',\n",
       "       'cropped image file path', 'ROI mask file path'],\n",
       "      dtype='object')"
      ]
     },
     "execution_count": 41,
     "metadata": {},
     "output_type": "execute_result"
    }
   ],
   "source": [
    "train.columns"
   ]
  },
  {
   "cell_type": "code",
   "execution_count": 42,
   "metadata": {},
   "outputs": [
    {
     "data": {
      "text/plain": [
       "Index(['patient_id', 'breast_density', 'left or right breast', 'image view',\n",
       "       'abnormality id', 'abnormality type', 'mass shape', 'mass margins',\n",
       "       'assessment', 'pathology', 'subtlety', 'image file path',\n",
       "       'cropped image file path', 'ROI mask file path'],\n",
       "      dtype='object')"
      ]
     },
     "execution_count": 42,
     "metadata": {},
     "output_type": "execute_result"
    }
   ],
   "source": [
    "test.columns"
   ]
  },
  {
   "cell_type": "code",
   "execution_count": 43,
   "metadata": {},
   "outputs": [],
   "source": [
    "#find intersection of the two "
   ]
  },
  {
   "cell_type": "code",
   "execution_count": 44,
   "metadata": {},
   "outputs": [
    {
     "name": "stdout",
     "output_type": "stream",
     "text": [
      "[3 2 1 4]\n",
      "['LEFT' 'RIGHT']\n",
      "['CC' 'MLO']\n",
      "[1 2 3 4 5 6]\n",
      "['mass']\n",
      "['IRREGULAR-ARCHITECTURAL_DISTORTION' 'ARCHITECTURAL_DISTORTION' 'OVAL'\n",
      " 'IRREGULAR' 'LYMPH_NODE' 'LOBULATED-LYMPH_NODE' 'LOBULATED'\n",
      " 'FOCAL_ASYMMETRIC_DENSITY' 'ROUND' 'LOBULATED-ARCHITECTURAL_DISTORTION'\n",
      " 'ASYMMETRIC_BREAST_TISSUE' 'LOBULATED-IRREGULAR' nan 'OVAL-LYMPH_NODE'\n",
      " 'LOBULATED-OVAL' 'ROUND-OVAL' 'IRREGULAR-FOCAL_ASYMMETRIC_DENSITY'\n",
      " 'ROUND-IRREGULAR-ARCHITECTURAL_DISTORTION' 'ROUND-LOBULATED']\n",
      "['SPICULATED' 'ILL_DEFINED' 'CIRCUMSCRIBED' 'ILL_DEFINED-SPICULATED'\n",
      " 'OBSCURED' 'OBSCURED-ILL_DEFINED' nan 'MICROLOBULATED'\n",
      " 'MICROLOBULATED-ILL_DEFINED-SPICULATED' 'MICROLOBULATED-SPICULATED'\n",
      " 'CIRCUMSCRIBED-ILL_DEFINED' 'MICROLOBULATED-ILL_DEFINED'\n",
      " 'CIRCUMSCRIBED-OBSCURED' 'OBSCURED-SPICULATED'\n",
      " 'OBSCURED-ILL_DEFINED-SPICULATED' 'CIRCUMSCRIBED-MICROLOBULATED']\n"
     ]
    }
   ],
   "source": [
    "for x in train[['breast_density', \n",
    "            'left or right breast', \n",
    "            'image view', \n",
    "            'abnormality id', \n",
    "            'abnormality type', \n",
    "            'mass shape', 'mass margins']]:\n",
    "    print (train[x].unique())"
   ]
  },
  {
   "cell_type": "code",
   "execution_count": 45,
   "metadata": {},
   "outputs": [
    {
     "name": "stdout",
     "output_type": "stream",
     "text": [
      "[4 2 3 1]\n",
      "['LEFT' 'RIGHT']\n",
      "['CC' 'MLO']\n",
      "[1 2 4 3]\n",
      "['mass']\n",
      "['IRREGULAR' 'ROUND' 'LOBULATED' 'OVAL'\n",
      " 'IRREGULAR-ARCHITECTURAL_DISTORTION' 'ASYMMETRIC_BREAST_TISSUE'\n",
      " 'ARCHITECTURAL_DISTORTION' 'LYMPH_NODE' 'OVAL-LOBULATED'\n",
      " 'IRREGULAR-ASYMMETRIC_BREAST_TISSUE' 'LOBULATED-LYMPH_NODE'\n",
      " 'FOCAL_ASYMMETRIC_DENSITY' 'LOBULATED-IRREGULAR']\n",
      "['SPICULATED' 'CIRCUMSCRIBED' 'ILL_DEFINED' 'OBSCURED'\n",
      " 'ILL_DEFINED-SPICULATED' 'MICROLOBULATED' 'OBSCURED-CIRCUMSCRIBED' nan\n",
      " 'CIRCUMSCRIBED-SPICULATED' 'CIRCUMSCRIBED-OBSCURED-ILL_DEFINED'\n",
      " 'OBSCURED-ILL_DEFINED-SPICULATED' 'OBSCURED-ILL_DEFINED'\n",
      " 'CIRCUMSCRIBED-ILL_DEFINED' 'CIRCUMSCRIBED-MICROLOBULATED'\n",
      " 'CIRCUMSCRIBED-OBSCURED' 'MICROLOBULATED-ILL_DEFINED'\n",
      " 'CIRCUMSCRIBED-MICROLOBULATED-ILL_DEFINED']\n"
     ]
    }
   ],
   "source": [
    "for x in test[['breast_density', \n",
    "            'left or right breast', \n",
    "            'image view', \n",
    "            'abnormality id', \n",
    "            'abnormality type', \n",
    "            'mass shape', 'mass margins']]:\n",
    "    print (test[x].unique())"
   ]
  },
  {
   "cell_type": "code",
   "execution_count": 46,
   "metadata": {},
   "outputs": [
    {
     "data": {
      "text/plain": [
       "(1318, 14)"
      ]
     },
     "execution_count": 46,
     "metadata": {},
     "output_type": "execute_result"
    }
   ],
   "source": [
    "train.shape"
   ]
  },
  {
   "cell_type": "code",
   "execution_count": 47,
   "metadata": {},
   "outputs": [
    {
     "data": {
      "text/plain": [
       "(378, 14)"
      ]
     },
     "execution_count": 47,
     "metadata": {},
     "output_type": "execute_result"
    }
   ],
   "source": [
    "test.shape"
   ]
  },
  {
   "cell_type": "code",
   "execution_count": 48,
   "metadata": {
    "scrolled": false
   },
   "outputs": [],
   "source": [
    "df = pd.concat([test, train],keys=['test', 'train']).reset_index()"
   ]
  },
  {
   "cell_type": "code",
   "execution_count": 49,
   "metadata": {},
   "outputs": [
    {
     "data": {
      "text/html": [
       "<div>\n",
       "<style scoped>\n",
       "    .dataframe tbody tr th:only-of-type {\n",
       "        vertical-align: middle;\n",
       "    }\n",
       "\n",
       "    .dataframe tbody tr th {\n",
       "        vertical-align: top;\n",
       "    }\n",
       "\n",
       "    .dataframe thead th {\n",
       "        text-align: right;\n",
       "    }\n",
       "</style>\n",
       "<table border=\"1\" class=\"dataframe\">\n",
       "  <thead>\n",
       "    <tr style=\"text-align: right;\">\n",
       "      <th></th>\n",
       "      <th>level_0</th>\n",
       "      <th>level_1</th>\n",
       "      <th>patient_id</th>\n",
       "      <th>breast_density</th>\n",
       "      <th>left or right breast</th>\n",
       "      <th>image view</th>\n",
       "      <th>abnormality id</th>\n",
       "      <th>abnormality type</th>\n",
       "      <th>mass shape</th>\n",
       "      <th>mass margins</th>\n",
       "      <th>assessment</th>\n",
       "      <th>pathology</th>\n",
       "      <th>subtlety</th>\n",
       "      <th>image file path</th>\n",
       "      <th>cropped image file path</th>\n",
       "      <th>ROI mask file path</th>\n",
       "    </tr>\n",
       "  </thead>\n",
       "  <tbody>\n",
       "    <tr>\n",
       "      <th>0</th>\n",
       "      <td>test</td>\n",
       "      <td>0</td>\n",
       "      <td>P_00016</td>\n",
       "      <td>4</td>\n",
       "      <td>LEFT</td>\n",
       "      <td>CC</td>\n",
       "      <td>1</td>\n",
       "      <td>mass</td>\n",
       "      <td>IRREGULAR</td>\n",
       "      <td>SPICULATED</td>\n",
       "      <td>5</td>\n",
       "      <td>MALIGNANT</td>\n",
       "      <td>5</td>\n",
       "      <td>Mass-Test_P_00016_LEFT_CC/1.3.6.1.4.1.9590.100...</td>\n",
       "      <td>Mass-Test_P_00016_LEFT_CC_1/1.3.6.1.4.1.9590.1...</td>\n",
       "      <td>Mass-Test_P_00016_LEFT_CC_1/1.3.6.1.4.1.9590.1...</td>\n",
       "    </tr>\n",
       "    <tr>\n",
       "      <th>1</th>\n",
       "      <td>test</td>\n",
       "      <td>1</td>\n",
       "      <td>P_00016</td>\n",
       "      <td>4</td>\n",
       "      <td>LEFT</td>\n",
       "      <td>MLO</td>\n",
       "      <td>1</td>\n",
       "      <td>mass</td>\n",
       "      <td>IRREGULAR</td>\n",
       "      <td>SPICULATED</td>\n",
       "      <td>5</td>\n",
       "      <td>MALIGNANT</td>\n",
       "      <td>5</td>\n",
       "      <td>Mass-Test_P_00016_LEFT_MLO/1.3.6.1.4.1.9590.10...</td>\n",
       "      <td>Mass-Test_P_00016_LEFT_MLO_1/1.3.6.1.4.1.9590....</td>\n",
       "      <td>Mass-Test_P_00016_LEFT_MLO_1/1.3.6.1.4.1.9590....</td>\n",
       "    </tr>\n",
       "    <tr>\n",
       "      <th>2</th>\n",
       "      <td>test</td>\n",
       "      <td>2</td>\n",
       "      <td>P_00017</td>\n",
       "      <td>2</td>\n",
       "      <td>LEFT</td>\n",
       "      <td>CC</td>\n",
       "      <td>1</td>\n",
       "      <td>mass</td>\n",
       "      <td>ROUND</td>\n",
       "      <td>CIRCUMSCRIBED</td>\n",
       "      <td>4</td>\n",
       "      <td>MALIGNANT</td>\n",
       "      <td>4</td>\n",
       "      <td>Mass-Test_P_00017_LEFT_CC/1.3.6.1.4.1.9590.100...</td>\n",
       "      <td>Mass-Test_P_00017_LEFT_CC_1/1.3.6.1.4.1.9590.1...</td>\n",
       "      <td>Mass-Test_P_00017_LEFT_CC_1/1.3.6.1.4.1.9590.1...</td>\n",
       "    </tr>\n",
       "    <tr>\n",
       "      <th>3</th>\n",
       "      <td>test</td>\n",
       "      <td>3</td>\n",
       "      <td>P_00017</td>\n",
       "      <td>2</td>\n",
       "      <td>LEFT</td>\n",
       "      <td>MLO</td>\n",
       "      <td>1</td>\n",
       "      <td>mass</td>\n",
       "      <td>ROUND</td>\n",
       "      <td>ILL_DEFINED</td>\n",
       "      <td>4</td>\n",
       "      <td>MALIGNANT</td>\n",
       "      <td>4</td>\n",
       "      <td>Mass-Test_P_00017_LEFT_MLO/1.3.6.1.4.1.9590.10...</td>\n",
       "      <td>Mass-Test_P_00017_LEFT_MLO_1/1.3.6.1.4.1.9590....</td>\n",
       "      <td>Mass-Test_P_00017_LEFT_MLO_1/1.3.6.1.4.1.9590....</td>\n",
       "    </tr>\n",
       "    <tr>\n",
       "      <th>4</th>\n",
       "      <td>test</td>\n",
       "      <td>4</td>\n",
       "      <td>P_00032</td>\n",
       "      <td>3</td>\n",
       "      <td>RIGHT</td>\n",
       "      <td>CC</td>\n",
       "      <td>1</td>\n",
       "      <td>mass</td>\n",
       "      <td>ROUND</td>\n",
       "      <td>OBSCURED</td>\n",
       "      <td>0</td>\n",
       "      <td>BENIGN</td>\n",
       "      <td>2</td>\n",
       "      <td>Mass-Test_P_00032_RIGHT_CC/1.3.6.1.4.1.9590.10...</td>\n",
       "      <td>Mass-Test_P_00032_RIGHT_CC_1/1.3.6.1.4.1.9590....</td>\n",
       "      <td>Mass-Test_P_00032_RIGHT_CC_1/1.3.6.1.4.1.9590....</td>\n",
       "    </tr>\n",
       "  </tbody>\n",
       "</table>\n",
       "</div>"
      ],
      "text/plain": [
       "  level_0  level_1 patient_id  breast_density left or right breast image view  \\\n",
       "0    test        0    P_00016               4                 LEFT         CC   \n",
       "1    test        1    P_00016               4                 LEFT        MLO   \n",
       "2    test        2    P_00017               2                 LEFT         CC   \n",
       "3    test        3    P_00017               2                 LEFT        MLO   \n",
       "4    test        4    P_00032               3                RIGHT         CC   \n",
       "\n",
       "   abnormality id abnormality type mass shape   mass margins  assessment  \\\n",
       "0               1             mass  IRREGULAR     SPICULATED           5   \n",
       "1               1             mass  IRREGULAR     SPICULATED           5   \n",
       "2               1             mass      ROUND  CIRCUMSCRIBED           4   \n",
       "3               1             mass      ROUND    ILL_DEFINED           4   \n",
       "4               1             mass      ROUND       OBSCURED           0   \n",
       "\n",
       "   pathology  subtlety                                    image file path  \\\n",
       "0  MALIGNANT         5  Mass-Test_P_00016_LEFT_CC/1.3.6.1.4.1.9590.100...   \n",
       "1  MALIGNANT         5  Mass-Test_P_00016_LEFT_MLO/1.3.6.1.4.1.9590.10...   \n",
       "2  MALIGNANT         4  Mass-Test_P_00017_LEFT_CC/1.3.6.1.4.1.9590.100...   \n",
       "3  MALIGNANT         4  Mass-Test_P_00017_LEFT_MLO/1.3.6.1.4.1.9590.10...   \n",
       "4     BENIGN         2  Mass-Test_P_00032_RIGHT_CC/1.3.6.1.4.1.9590.10...   \n",
       "\n",
       "                             cropped image file path  \\\n",
       "0  Mass-Test_P_00016_LEFT_CC_1/1.3.6.1.4.1.9590.1...   \n",
       "1  Mass-Test_P_00016_LEFT_MLO_1/1.3.6.1.4.1.9590....   \n",
       "2  Mass-Test_P_00017_LEFT_CC_1/1.3.6.1.4.1.9590.1...   \n",
       "3  Mass-Test_P_00017_LEFT_MLO_1/1.3.6.1.4.1.9590....   \n",
       "4  Mass-Test_P_00032_RIGHT_CC_1/1.3.6.1.4.1.9590....   \n",
       "\n",
       "                                  ROI mask file path  \n",
       "0  Mass-Test_P_00016_LEFT_CC_1/1.3.6.1.4.1.9590.1...  \n",
       "1  Mass-Test_P_00016_LEFT_MLO_1/1.3.6.1.4.1.9590....  \n",
       "2  Mass-Test_P_00017_LEFT_CC_1/1.3.6.1.4.1.9590.1...  \n",
       "3  Mass-Test_P_00017_LEFT_MLO_1/1.3.6.1.4.1.9590....  \n",
       "4  Mass-Test_P_00032_RIGHT_CC_1/1.3.6.1.4.1.9590....  "
      ]
     },
     "execution_count": 49,
     "metadata": {},
     "output_type": "execute_result"
    }
   ],
   "source": [
    "df.head()"
   ]
  },
  {
   "cell_type": "code",
   "execution_count": 50,
   "metadata": {},
   "outputs": [],
   "source": [
    "def data_prep(df):\n",
    "    # get the first record for each patient\n",
    "    output = df.groupby('patient_id').first().reset_index()\n",
    "    output['abnormality id'] = output['abnormality id'].apply(str)\n",
    "    X = pd.get_dummies(output[[\n",
    "                               'breast_density', \n",
    "            'left or right breast', \n",
    "            'image view', \n",
    "            'abnormality id', \n",
    "            'abnormality type', \n",
    "            'mass shape', 'mass margins']], drop_first=True)\n",
    "    y = output['pathology'].astype('category').cat.codes\n",
    "    X_test = X[output['level_0']=='test']\n",
    "    X_train = X[output['level_0']=='train']\n",
    "    y_test = y[output['level_0']=='test']\n",
    "    y_train = y[output['level_0']=='train']\n",
    "    return X_test, X_train, y_test, y_train"
   ]
  },
  {
   "cell_type": "code",
   "execution_count": 51,
   "metadata": {},
   "outputs": [],
   "source": [
    "output_testing = df.groupby('patient_id').first().reset_index() \n",
    "y_testing = output_testing['pathology'].astype('category').cat.codes\n",
    "y_testing_no_cat = output_testing['pathology']"
   ]
  },
  {
   "cell_type": "code",
   "execution_count": 52,
   "metadata": {},
   "outputs": [],
   "source": [
    "# changed y into category values. Malignant is 2, benign is 0 and benign without callback is 1"
   ]
  },
  {
   "cell_type": "code",
   "execution_count": 53,
   "metadata": {},
   "outputs": [
    {
     "data": {
      "text/plain": [
       "2    419\n",
       "0    399\n",
       "1     74\n",
       "dtype: int64"
      ]
     },
     "execution_count": 53,
     "metadata": {},
     "output_type": "execute_result"
    }
   ],
   "source": [
    "y_testing.value_counts()"
   ]
  },
  {
   "cell_type": "code",
   "execution_count": 54,
   "metadata": {},
   "outputs": [
    {
     "data": {
      "text/plain": [
       "MALIGNANT                  419\n",
       "BENIGN                     399\n",
       "BENIGN_WITHOUT_CALLBACK     74\n",
       "Name: pathology, dtype: int64"
      ]
     },
     "execution_count": 54,
     "metadata": {},
     "output_type": "execute_result"
    }
   ],
   "source": [
    "y_testing_no_cat.value_counts()"
   ]
  },
  {
   "cell_type": "code",
   "execution_count": 55,
   "metadata": {},
   "outputs": [],
   "source": [
    "X_test, X_train, y_test, y_train = data_prep(df)"
   ]
  },
  {
   "cell_type": "code",
   "execution_count": 56,
   "metadata": {},
   "outputs": [
    {
     "data": {
      "text/plain": [
       "(201, 42)"
      ]
     },
     "execution_count": 56,
     "metadata": {},
     "output_type": "execute_result"
    }
   ],
   "source": [
    "X_test.shape"
   ]
  },
  {
   "cell_type": "code",
   "execution_count": 57,
   "metadata": {},
   "outputs": [
    {
     "data": {
      "text/plain": [
       "(691, 42)"
      ]
     },
     "execution_count": 57,
     "metadata": {},
     "output_type": "execute_result"
    }
   ],
   "source": [
    "X_train.shape"
   ]
  },
  {
   "cell_type": "code",
   "execution_count": 58,
   "metadata": {},
   "outputs": [
    {
     "data": {
      "text/plain": [
       "(201,)"
      ]
     },
     "execution_count": 58,
     "metadata": {},
     "output_type": "execute_result"
    }
   ],
   "source": [
    "y_test.shape"
   ]
  },
  {
   "cell_type": "code",
   "execution_count": 59,
   "metadata": {},
   "outputs": [
    {
     "data": {
      "text/plain": [
       "(691,)"
      ]
     },
     "execution_count": 59,
     "metadata": {},
     "output_type": "execute_result"
    }
   ],
   "source": [
    "y_train.shape"
   ]
  },
  {
   "cell_type": "code",
   "execution_count": 60,
   "metadata": {},
   "outputs": [
    {
     "data": {
      "text/plain": [
       "Index(['breast_density', 'left or right breast_RIGHT', 'image view_MLO',\n",
       "       'abnormality id_2', 'abnormality id_3', 'abnormality id_4',\n",
       "       'mass shape_ASYMMETRIC_BREAST_TISSUE',\n",
       "       'mass shape_FOCAL_ASYMMETRIC_DENSITY', 'mass shape_IRREGULAR',\n",
       "       'mass shape_IRREGULAR-ARCHITECTURAL_DISTORTION',\n",
       "       'mass shape_IRREGULAR-ASYMMETRIC_BREAST_TISSUE',\n",
       "       'mass shape_IRREGULAR-FOCAL_ASYMMETRIC_DENSITY', 'mass shape_LOBULATED',\n",
       "       'mass shape_LOBULATED-ARCHITECTURAL_DISTORTION',\n",
       "       'mass shape_LOBULATED-IRREGULAR', 'mass shape_LOBULATED-LYMPH_NODE',\n",
       "       'mass shape_LYMPH_NODE', 'mass shape_OVAL', 'mass shape_OVAL-LOBULATED',\n",
       "       'mass shape_OVAL-LYMPH_NODE', 'mass shape_ROUND',\n",
       "       'mass shape_ROUND-IRREGULAR-ARCHITECTURAL_DISTORTION',\n",
       "       'mass shape_ROUND-LOBULATED', 'mass shape_ROUND-OVAL',\n",
       "       'mass margins_CIRCUMSCRIBED-ILL_DEFINED',\n",
       "       'mass margins_CIRCUMSCRIBED-MICROLOBULATED',\n",
       "       'mass margins_CIRCUMSCRIBED-MICROLOBULATED-ILL_DEFINED',\n",
       "       'mass margins_CIRCUMSCRIBED-OBSCURED',\n",
       "       'mass margins_CIRCUMSCRIBED-OBSCURED-ILL_DEFINED',\n",
       "       'mass margins_CIRCUMSCRIBED-SPICULATED', 'mass margins_ILL_DEFINED',\n",
       "       'mass margins_ILL_DEFINED-SPICULATED', 'mass margins_MICROLOBULATED',\n",
       "       'mass margins_MICROLOBULATED-ILL_DEFINED',\n",
       "       'mass margins_MICROLOBULATED-ILL_DEFINED-SPICULATED',\n",
       "       'mass margins_MICROLOBULATED-SPICULATED', 'mass margins_OBSCURED',\n",
       "       'mass margins_OBSCURED-CIRCUMSCRIBED',\n",
       "       'mass margins_OBSCURED-ILL_DEFINED',\n",
       "       'mass margins_OBSCURED-ILL_DEFINED-SPICULATED',\n",
       "       'mass margins_OBSCURED-SPICULATED', 'mass margins_SPICULATED'],\n",
       "      dtype='object')"
      ]
     },
     "execution_count": 60,
     "metadata": {},
     "output_type": "execute_result"
    }
   ],
   "source": [
    "X_test.columns"
   ]
  },
  {
   "cell_type": "code",
   "execution_count": 61,
   "metadata": {},
   "outputs": [],
   "source": [
    "#abnormality type gets dropped since there is only one"
   ]
  },
  {
   "cell_type": "code",
   "execution_count": 62,
   "metadata": {},
   "outputs": [],
   "source": [
    "#dont want to dummy density as it seems to be a continuous variable"
   ]
  },
  {
   "cell_type": "code",
   "execution_count": 63,
   "metadata": {},
   "outputs": [],
   "source": [
    "# clear variation of density is more variying than the binary variables"
   ]
  },
  {
   "cell_type": "code",
   "execution_count": 64,
   "metadata": {},
   "outputs": [
    {
     "data": {
      "image/png": "[encoded data removed]",
      "text/plain": [
       "<Figure size 720x720 with 3 Axes>"
      ]
     },
     "metadata": {},
     "output_type": "display_data"
    }
   ],
   "source": [
    "plt.figure(figsize=(10,10))\n",
    "plt.subplot(211)\n",
    "plt.title('X_train')\n",
    "plt.imshow(X_train, interpolation='nearest', aspect='auto')\n",
    "plt.subplot(212)\n",
    "plt.title('X_test')\n",
    "plt.imshow(X_test, interpolation='nearest', aspect='auto')\n",
    "\n",
    "plt.subplots_adjust(bottom=0.1, right=0.8, top=0.9)\n",
    "cax = plt.axes([0.85, 0.1, 0.075, 0.8])\n",
    "plt.colorbar(cax=cax)\n",
    "plt.show()"
   ]
  },
  {
   "cell_type": "code",
   "execution_count": null,
   "metadata": {},
   "outputs": [],
   "source": []
  },
  {
   "cell_type": "code",
   "execution_count": 65,
   "metadata": {},
   "outputs": [],
   "source": [
    "#possibly try to set the x ticks? "
   ]
  },
  {
   "cell_type": "code",
   "execution_count": 66,
   "metadata": {},
   "outputs": [],
   "source": [
    "# two different views of y-- one with dummies and one with categories"
   ]
  },
  {
   "cell_type": "code",
   "execution_count": 67,
   "metadata": {},
   "outputs": [
    {
     "data": {
      "image/png": "[encoded data removed]",
      "text/plain": [
       "<Figure size 720x720 with 3 Axes>"
      ]
     },
     "metadata": {},
     "output_type": "display_data"
    }
   ],
   "source": [
    "plt.figure(figsize=(10,10))\n",
    "plt.subplot(211)\n",
    "plt.title('y_train')\n",
    "plt.imshow(pd.get_dummies(y_train.astype(str)), interpolation='nearest', aspect='auto')\n",
    "plt.subplot(212)\n",
    "plt.title('y_test')\n",
    "plt.imshow(pd.get_dummies(y_test.astype(str)), interpolation='nearest', aspect='auto')\n",
    "\n",
    "plt.subplots_adjust(bottom=0.1, right=0.8, top=0.9)\n",
    "cax = plt.axes([0.85, 0.1, 0.075, 0.8])\n",
    "plt.colorbar(cax=cax)\n",
    "plt.show()"
   ]
  },
  {
   "cell_type": "code",
   "execution_count": 68,
   "metadata": {},
   "outputs": [
    {
     "data": {
      "image/png": "[encoded data removed]",
      "text/plain": [
       "<Figure size 720x720 with 3 Axes>"
      ]
     },
     "metadata": {},
     "output_type": "display_data"
    }
   ],
   "source": [
    "plt.figure(figsize=(10,10))\n",
    "plt.subplot(211)\n",
    "plt.title('y_train')\n",
    "plt.imshow(pd.DataFrame(y_train), interpolation='nearest', aspect='auto')\n",
    "plt.subplot(212)\n",
    "plt.title('y_test')\n",
    "plt.imshow(pd.DataFrame(y_test), interpolation='nearest', aspect='auto')\n",
    "\n",
    "plt.subplots_adjust(bottom=0.1, right=0.8, top=0.9)\n",
    "cax = plt.axes([0.85, 0.1, 0.075, 0.8])\n",
    "plt.colorbar(cax=cax)\n",
    "plt.show()"
   ]
  },
  {
   "cell_type": "code",
   "execution_count": 69,
   "metadata": {},
   "outputs": [
    {
     "data": {
      "text/html": [
       "<div>\n",
       "<style scoped>\n",
       "    .dataframe tbody tr th:only-of-type {\n",
       "        vertical-align: middle;\n",
       "    }\n",
       "\n",
       "    .dataframe tbody tr th {\n",
       "        vertical-align: top;\n",
       "    }\n",
       "\n",
       "    .dataframe thead th {\n",
       "        text-align: right;\n",
       "    }\n",
       "</style>\n",
       "<table border=\"1\" class=\"dataframe\">\n",
       "  <thead>\n",
       "    <tr style=\"text-align: right;\">\n",
       "      <th></th>\n",
       "      <th>0</th>\n",
       "      <th>1</th>\n",
       "    </tr>\n",
       "  </thead>\n",
       "  <tbody>\n",
       "    <tr>\n",
       "      <th>breast_density</th>\n",
       "      <td>1586</td>\n",
       "      <td>485</td>\n",
       "    </tr>\n",
       "    <tr>\n",
       "      <th>left or right breast_RIGHT</th>\n",
       "      <td>344</td>\n",
       "      <td>97</td>\n",
       "    </tr>\n",
       "    <tr>\n",
       "      <th>image view_MLO</th>\n",
       "      <td>145</td>\n",
       "      <td>39</td>\n",
       "    </tr>\n",
       "    <tr>\n",
       "      <th>abnormality id_2</th>\n",
       "      <td>6</td>\n",
       "      <td>3</td>\n",
       "    </tr>\n",
       "    <tr>\n",
       "      <th>abnormality id_3</th>\n",
       "      <td>1</td>\n",
       "      <td>1</td>\n",
       "    </tr>\n",
       "    <tr>\n",
       "      <th>abnormality id_4</th>\n",
       "      <td>0</td>\n",
       "      <td>1</td>\n",
       "    </tr>\n",
       "    <tr>\n",
       "      <th>mass shape_ASYMMETRIC_BREAST_TISSUE</th>\n",
       "      <td>12</td>\n",
       "      <td>2</td>\n",
       "    </tr>\n",
       "    <tr>\n",
       "      <th>mass shape_FOCAL_ASYMMETRIC_DENSITY</th>\n",
       "      <td>11</td>\n",
       "      <td>3</td>\n",
       "    </tr>\n",
       "    <tr>\n",
       "      <th>mass shape_IRREGULAR</th>\n",
       "      <td>197</td>\n",
       "      <td>62</td>\n",
       "    </tr>\n",
       "    <tr>\n",
       "      <th>mass shape_IRREGULAR-ARCHITECTURAL_DISTORTION</th>\n",
       "      <td>23</td>\n",
       "      <td>2</td>\n",
       "    </tr>\n",
       "    <tr>\n",
       "      <th>mass shape_IRREGULAR-ASYMMETRIC_BREAST_TISSUE</th>\n",
       "      <td>0</td>\n",
       "      <td>1</td>\n",
       "    </tr>\n",
       "    <tr>\n",
       "      <th>mass shape_IRREGULAR-FOCAL_ASYMMETRIC_DENSITY</th>\n",
       "      <td>1</td>\n",
       "      <td>0</td>\n",
       "    </tr>\n",
       "    <tr>\n",
       "      <th>mass shape_LOBULATED</th>\n",
       "      <td>163</td>\n",
       "      <td>41</td>\n",
       "    </tr>\n",
       "    <tr>\n",
       "      <th>mass shape_LOBULATED-ARCHITECTURAL_DISTORTION</th>\n",
       "      <td>2</td>\n",
       "      <td>0</td>\n",
       "    </tr>\n",
       "    <tr>\n",
       "      <th>mass shape_LOBULATED-IRREGULAR</th>\n",
       "      <td>2</td>\n",
       "      <td>1</td>\n",
       "    </tr>\n",
       "    <tr>\n",
       "      <th>mass shape_LOBULATED-LYMPH_NODE</th>\n",
       "      <td>1</td>\n",
       "      <td>1</td>\n",
       "    </tr>\n",
       "    <tr>\n",
       "      <th>mass shape_LYMPH_NODE</th>\n",
       "      <td>5</td>\n",
       "      <td>3</td>\n",
       "    </tr>\n",
       "    <tr>\n",
       "      <th>mass shape_OVAL</th>\n",
       "      <td>158</td>\n",
       "      <td>46</td>\n",
       "    </tr>\n",
       "    <tr>\n",
       "      <th>mass shape_OVAL-LOBULATED</th>\n",
       "      <td>0</td>\n",
       "      <td>1</td>\n",
       "    </tr>\n",
       "    <tr>\n",
       "      <th>mass shape_OVAL-LYMPH_NODE</th>\n",
       "      <td>4</td>\n",
       "      <td>0</td>\n",
       "    </tr>\n",
       "    <tr>\n",
       "      <th>mass shape_ROUND</th>\n",
       "      <td>67</td>\n",
       "      <td>25</td>\n",
       "    </tr>\n",
       "    <tr>\n",
       "      <th>mass shape_ROUND-IRREGULAR-ARCHITECTURAL_DISTORTION</th>\n",
       "      <td>1</td>\n",
       "      <td>0</td>\n",
       "    </tr>\n",
       "    <tr>\n",
       "      <th>mass shape_ROUND-LOBULATED</th>\n",
       "      <td>1</td>\n",
       "      <td>0</td>\n",
       "    </tr>\n",
       "    <tr>\n",
       "      <th>mass shape_ROUND-OVAL</th>\n",
       "      <td>1</td>\n",
       "      <td>0</td>\n",
       "    </tr>\n",
       "    <tr>\n",
       "      <th>mass margins_CIRCUMSCRIBED-ILL_DEFINED</th>\n",
       "      <td>12</td>\n",
       "      <td>1</td>\n",
       "    </tr>\n",
       "    <tr>\n",
       "      <th>mass margins_CIRCUMSCRIBED-MICROLOBULATED</th>\n",
       "      <td>1</td>\n",
       "      <td>1</td>\n",
       "    </tr>\n",
       "    <tr>\n",
       "      <th>mass margins_CIRCUMSCRIBED-MICROLOBULATED-ILL_DEFINED</th>\n",
       "      <td>0</td>\n",
       "      <td>2</td>\n",
       "    </tr>\n",
       "    <tr>\n",
       "      <th>mass margins_CIRCUMSCRIBED-OBSCURED</th>\n",
       "      <td>9</td>\n",
       "      <td>2</td>\n",
       "    </tr>\n",
       "    <tr>\n",
       "      <th>mass margins_CIRCUMSCRIBED-OBSCURED-ILL_DEFINED</th>\n",
       "      <td>0</td>\n",
       "      <td>3</td>\n",
       "    </tr>\n",
       "    <tr>\n",
       "      <th>mass margins_CIRCUMSCRIBED-SPICULATED</th>\n",
       "      <td>0</td>\n",
       "      <td>1</td>\n",
       "    </tr>\n",
       "    <tr>\n",
       "      <th>mass margins_ILL_DEFINED</th>\n",
       "      <td>162</td>\n",
       "      <td>51</td>\n",
       "    </tr>\n",
       "    <tr>\n",
       "      <th>mass margins_ILL_DEFINED-SPICULATED</th>\n",
       "      <td>11</td>\n",
       "      <td>1</td>\n",
       "    </tr>\n",
       "    <tr>\n",
       "      <th>mass margins_MICROLOBULATED</th>\n",
       "      <td>57</td>\n",
       "      <td>11</td>\n",
       "    </tr>\n",
       "    <tr>\n",
       "      <th>mass margins_MICROLOBULATED-ILL_DEFINED</th>\n",
       "      <td>0</td>\n",
       "      <td>1</td>\n",
       "    </tr>\n",
       "    <tr>\n",
       "      <th>mass margins_MICROLOBULATED-ILL_DEFINED-SPICULATED</th>\n",
       "      <td>1</td>\n",
       "      <td>0</td>\n",
       "    </tr>\n",
       "    <tr>\n",
       "      <th>mass margins_MICROLOBULATED-SPICULATED</th>\n",
       "      <td>1</td>\n",
       "      <td>0</td>\n",
       "    </tr>\n",
       "    <tr>\n",
       "      <th>mass margins_OBSCURED</th>\n",
       "      <td>106</td>\n",
       "      <td>27</td>\n",
       "    </tr>\n",
       "    <tr>\n",
       "      <th>mass margins_OBSCURED-CIRCUMSCRIBED</th>\n",
       "      <td>0</td>\n",
       "      <td>1</td>\n",
       "    </tr>\n",
       "    <tr>\n",
       "      <th>mass margins_OBSCURED-ILL_DEFINED</th>\n",
       "      <td>11</td>\n",
       "      <td>2</td>\n",
       "    </tr>\n",
       "    <tr>\n",
       "      <th>mass margins_OBSCURED-ILL_DEFINED-SPICULATED</th>\n",
       "      <td>2</td>\n",
       "      <td>1</td>\n",
       "    </tr>\n",
       "    <tr>\n",
       "      <th>mass margins_OBSCURED-SPICULATED</th>\n",
       "      <td>1</td>\n",
       "      <td>0</td>\n",
       "    </tr>\n",
       "    <tr>\n",
       "      <th>mass margins_SPICULATED</th>\n",
       "      <td>162</td>\n",
       "      <td>47</td>\n",
       "    </tr>\n",
       "  </tbody>\n",
       "</table>\n",
       "</div>"
      ],
      "text/plain": [
       "                                                       0    1\n",
       "breast_density                                      1586  485\n",
       "left or right breast_RIGHT                           344   97\n",
       "image view_MLO                                       145   39\n",
       "abnormality id_2                                       6    3\n",
       "abnormality id_3                                       1    1\n",
       "abnormality id_4                                       0    1\n",
       "mass shape_ASYMMETRIC_BREAST_TISSUE                   12    2\n",
       "mass shape_FOCAL_ASYMMETRIC_DENSITY                   11    3\n",
       "mass shape_IRREGULAR                                 197   62\n",
       "mass shape_IRREGULAR-ARCHITECTURAL_DISTORTION         23    2\n",
       "mass shape_IRREGULAR-ASYMMETRIC_BREAST_TISSUE          0    1\n",
       "mass shape_IRREGULAR-FOCAL_ASYMMETRIC_DENSITY          1    0\n",
       "mass shape_LOBULATED                                 163   41\n",
       "mass shape_LOBULATED-ARCHITECTURAL_DISTORTION          2    0\n",
       "mass shape_LOBULATED-IRREGULAR                         2    1\n",
       "mass shape_LOBULATED-LYMPH_NODE                        1    1\n",
       "mass shape_LYMPH_NODE                                  5    3\n",
       "mass shape_OVAL                                      158   46\n",
       "mass shape_OVAL-LOBULATED                              0    1\n",
       "mass shape_OVAL-LYMPH_NODE                             4    0\n",
       "mass shape_ROUND                                      67   25\n",
       "mass shape_ROUND-IRREGULAR-ARCHITECTURAL_DISTOR...     1    0\n",
       "mass shape_ROUND-LOBULATED                             1    0\n",
       "mass shape_ROUND-OVAL                                  1    0\n",
       "mass margins_CIRCUMSCRIBED-ILL_DEFINED                12    1\n",
       "mass margins_CIRCUMSCRIBED-MICROLOBULATED              1    1\n",
       "mass margins_CIRCUMSCRIBED-MICROLOBULATED-ILL_D...     0    2\n",
       "mass margins_CIRCUMSCRIBED-OBSCURED                    9    2\n",
       "mass margins_CIRCUMSCRIBED-OBSCURED-ILL_DEFINED        0    3\n",
       "mass margins_CIRCUMSCRIBED-SPICULATED                  0    1\n",
       "mass margins_ILL_DEFINED                             162   51\n",
       "mass margins_ILL_DEFINED-SPICULATED                   11    1\n",
       "mass margins_MICROLOBULATED                           57   11\n",
       "mass margins_MICROLOBULATED-ILL_DEFINED                0    1\n",
       "mass margins_MICROLOBULATED-ILL_DEFINED-SPICULATED     1    0\n",
       "mass margins_MICROLOBULATED-SPICULATED                 1    0\n",
       "mass margins_OBSCURED                                106   27\n",
       "mass margins_OBSCURED-CIRCUMSCRIBED                    0    1\n",
       "mass margins_OBSCURED-ILL_DEFINED                     11    2\n",
       "mass margins_OBSCURED-ILL_DEFINED-SPICULATED           2    1\n",
       "mass margins_OBSCURED-SPICULATED                       1    0\n",
       "mass margins_SPICULATED                              162   47"
      ]
     },
     "execution_count": 69,
     "metadata": {},
     "output_type": "execute_result"
    }
   ],
   "source": [
    "pd.DataFrame(pd.concat([X_train.sum(), X_test.sum()],axis=1 ))"
   ]
  },
  {
   "cell_type": "code",
   "execution_count": 70,
   "metadata": {},
   "outputs": [],
   "source": [
    "# for possible future cleaning: split fields by '_' before  and use each piece as a different binary"
   ]
  },
  {
   "cell_type": "code",
   "execution_count": 71,
   "metadata": {},
   "outputs": [],
   "source": [
    "# above ensuring that all fields have at least one value"
   ]
  },
  {
   "cell_type": "code",
   "execution_count": 72,
   "metadata": {},
   "outputs": [
    {
     "data": {
      "text/plain": [
       "0    2\n",
       "1    0\n",
       "2    2\n",
       "3    2\n",
       "6    0\n",
       "dtype: int8"
      ]
     },
     "execution_count": 72,
     "metadata": {},
     "output_type": "execute_result"
    }
   ],
   "source": [
    "y_train.head()"
   ]
  },
  {
   "cell_type": "code",
   "execution_count": 73,
   "metadata": {},
   "outputs": [
    {
     "data": {
      "text/plain": [
       "4     2\n",
       "5     2\n",
       "11    0\n",
       "13    2\n",
       "22    0\n",
       "dtype: int8"
      ]
     },
     "execution_count": 73,
     "metadata": {},
     "output_type": "execute_result"
    }
   ],
   "source": [
    "y_test.head()"
   ]
  },
  {
   "cell_type": "markdown",
   "metadata": {},
   "source": [
    "### 3.2. (5 points)\n",
    "Repeat Question 3.1 for the test set - remember to make sure you have same number of columns for test and train set!\n",
    "Use matplotlib.imshow(xtest, aspect='auto') to show the x dataset"
   ]
  },
  {
   "cell_type": "code",
   "execution_count": 74,
   "metadata": {},
   "outputs": [
    {
     "data": {
      "text/plain": [
       "(201, 42)"
      ]
     },
     "execution_count": 74,
     "metadata": {},
     "output_type": "execute_result"
    }
   ],
   "source": [
    "X_test.shape"
   ]
  },
  {
   "cell_type": "code",
   "execution_count": 75,
   "metadata": {},
   "outputs": [
    {
     "data": {
      "text/plain": [
       "(691, 42)"
      ]
     },
     "execution_count": 75,
     "metadata": {},
     "output_type": "execute_result"
    }
   ],
   "source": [
    "X_train.shape"
   ]
  },
  {
   "cell_type": "code",
   "execution_count": 76,
   "metadata": {},
   "outputs": [
    {
     "data": {
      "image/png": "[encoded data removed]",
      "text/plain": [
       "<Figure size 720x720 with 3 Axes>"
      ]
     },
     "metadata": {},
     "output_type": "display_data"
    }
   ],
   "source": [
    "plt.figure(figsize=(10,10))\n",
    "plt.subplot(211)\n",
    "plt.imshow(pd.get_dummies(X_train, drop_first=True), interpolation='nearest', aspect='auto')\n",
    "plt.subplot(212)\n",
    "plt.imshow(pd.get_dummies(X_test, drop_first=True), interpolation='nearest', aspect='auto')\n",
    "\n",
    "plt.subplots_adjust(bottom=0.1, right=0.8, top=0.9)\n",
    "cax = plt.axes([0.85, 0.1, 0.075, 0.8])\n",
    "plt.colorbar(cax=cax)\n",
    "plt.show()"
   ]
  },
  {
   "cell_type": "markdown",
   "metadata": {},
   "source": [
    "### 3.3. Logistic Regression (15 points)\n"
   ]
  },
  {
   "cell_type": "markdown",
   "metadata": {},
   "source": [
    "### 3.3.a.\n",
    "\n",
    "Design a multi-class logistic regression model which takes the input and outputs the probability of 3 classes. "
   ]
  },
  {
   "cell_type": "code",
   "execution_count": 77,
   "metadata": {},
   "outputs": [],
   "source": [
    "# references https://pytorch.org/tutorials/beginner/nlp/deep_learning_tutorial.html\n",
    "# https://medium.com/biaslyai/pytorch-linear-and-logistic-regression-models-5c5f0da2cb9\n",
    "class LogisticRegression(torch.nn.Module):\n",
    "    def __init__(self, in_feat, out_feat):\n",
    "        super(LogisticRegression, self).__init__()\n",
    "        self.linear = torch.nn.Linear(in_feat, out_feat)\n",
    "        # Define softmax output \n",
    "        self.softmax = nn.Softmax(dim=1)\n",
    "    def forward(self, x):\n",
    "        x = self.linear(x)\n",
    "        x = self.softmax(x)\n",
    "        return x\n",
    "model = LogisticRegression(X_train.shape[1], 3)\n",
    "        "
   ]
  },
  {
   "cell_type": "code",
   "execution_count": 78,
   "metadata": {},
   "outputs": [],
   "source": [
    "# had trained model "
   ]
  },
  {
   "cell_type": "code",
   "execution_count": 79,
   "metadata": {},
   "outputs": [
    {
     "data": {
      "text/plain": [
       "LogisticRegression(\n",
       "  (linear): Linear(in_features=42, out_features=3, bias=True)\n",
       "  (softmax): Softmax(dim=1)\n",
       ")"
      ]
     },
     "execution_count": 79,
     "metadata": {},
     "output_type": "execute_result"
    }
   ],
   "source": [
    "model.train()"
   ]
  },
  {
   "cell_type": "code",
   "execution_count": 80,
   "metadata": {},
   "outputs": [],
   "source": [
    "# would need to asjust the data shapes"
   ]
  },
  {
   "cell_type": "code",
   "execution_count": 81,
   "metadata": {},
   "outputs": [],
   "source": [
    "def train(data, model, alpha=0.005, batch_size=34, num_epoch=50):\n",
    "    X_train, y_train, X_test, y_test = data\n",
    "    \n",
    "    # Define loss function class, which contains both compute_loss and compute_gradient functionalities\n",
    "    # if we used cross entropy loss than it would contain both softmax and \n",
    "    loss_fn = nn.MSELoss(reduction='mean')\n",
    "    # Define method for updating parameters\n",
    "    optimizer = optim.SGD(model.parameters(), lr=alpha)\n",
    "    \n",
    "    num_samples, num_features = X_train.shape\n",
    "    num_batches = int(num_samples / batch_size)\n",
    "    order = np.arange(num_samples)\n",
    "    \n",
    "    # Track performance\n",
    "    best_test_loss = float('Inf')\n",
    "    best_model = None\n",
    "    train_loss_hist = []\n",
    "    test_loss_hist = []\n",
    "    loss_diff = 100\n",
    "    i = 0\n",
    "    \n",
    "        ################ Your code here ################\n",
    "    while (loss_diff > 10**(-5)) and i <= num_epoch:\n",
    "        np.random.shuffle(order)\n",
    "        minibatches = np.array_split(order, num_batches)\n",
    "        i = i+1\n",
    "        for j in range(num_batches):\n",
    "            # Get batch input data of size (batch_size, num_features)\n",
    "            batch = minibatches[j]\n",
    "\n",
    "            # Set model to training mode and reset gradient\n",
    "            model.train()\n",
    "            model.zero_grad()\n",
    "            # this is a precaution in that pytorch may not start with a zero gradient\n",
    "            # you should zero gradient because back propagation step aka step backward below\n",
    "\n",
    "            # Make model prediction using current batch data\n",
    "            y_pred = model(X_train[batch]).squeeze()\n",
    "            # compute_loss\n",
    "            train_loss = loss_fn(y_pred, y_train[[batch]])\n",
    "            train_loss_hist.append(train_loss.item())\n",
    "\n",
    "            # compute_gradient-- all are computed\n",
    "            train_loss.backward()\n",
    "            # Step into gradient descent direction. Perform parameter update\n",
    "            optimizer.step()\n",
    "\n",
    "            # Evaluating performance on test set\n",
    "            with torch.no_grad():\n",
    "                model.eval()\n",
    "                test_loss_hist.append(loss_fn(model(X_test).squeeze(), y_test))\n",
    "                # Keep track of the model that gives rise to minimal loss on test data\n",
    "                if test_loss_hist[-1] < best_test_loss:\n",
    "                    best_model = model.state_dict() #important as you may lose information about model otherwise\n",
    "                if len(test_loss_hist) >= 2:\n",
    "                    loss_diff = abs(test_loss_hist[-2]-test_loss_hist[-1])\n",
    "                    \n",
    "    return (best_model, train_loss_hist, test_loss_hist)"
   ]
  },
  {
   "cell_type": "code",
   "execution_count": 82,
   "metadata": {},
   "outputs": [],
   "source": [
    "def prep_data(data):\n",
    "    return Variable(torch.from_numpy(np.array(data)).type(torch.FloatTensor))"
   ]
  },
  {
   "cell_type": "code",
   "execution_count": 83,
   "metadata": {},
   "outputs": [],
   "source": [
    "data_for_model = [prep_data(x) for x in [X_train, pd.get_dummies(y_train.astype(str)), \n",
    "                                         X_test, pd.get_dummies(y_test.astype(str))]]"
   ]
  },
  {
   "cell_type": "code",
   "execution_count": 84,
   "metadata": {},
   "outputs": [],
   "source": [
    "def plot_loss(res):\n",
    "    best_theta, train_loss, test_loss = res\n",
    "    x = np.arange(len(train_loss))\n",
    "        \n",
    "    plt.plot(x, train_loss, label=\"Train Loss\")\n",
    "    plt.plot(x, test_loss, label=\"Test Loss\")\n",
    "    \n",
    "    plt.xlabel('Epochs/Steps')\n",
    "    plt.ylabel('Loss')\n",
    "\n",
    "    plt.legend()\n",
    "    plt.show()"
   ]
  },
  {
   "cell_type": "code",
   "execution_count": 85,
   "metadata": {},
   "outputs": [
    {
     "data": {
      "image/png": "[encoded data removed]",
      "text/plain": [
       "<Figure size 432x288 with 1 Axes>"
      ]
     },
     "metadata": {},
     "output_type": "display_data"
    }
   ],
   "source": [
    "res = train(data_for_model, model)\n",
    "plot_loss(res)  "
   ]
  },
  {
   "cell_type": "markdown",
   "metadata": {},
   "source": [
    "### 3.3.b.\n",
    "What are the sizes for your input and output?"
   ]
  },
  {
   "cell_type": "code",
   "execution_count": 86,
   "metadata": {},
   "outputs": [
    {
     "data": {
      "text/plain": [
       "(691, 42)"
      ]
     },
     "execution_count": 86,
     "metadata": {},
     "output_type": "execute_result"
    }
   ],
   "source": [
    "X_train.shape\n",
    "# input is 42 parameters"
   ]
  },
  {
   "cell_type": "code",
   "execution_count": 87,
   "metadata": {},
   "outputs": [
    {
     "data": {
      "text/plain": [
       "(691,)"
      ]
     },
     "execution_count": 87,
     "metadata": {},
     "output_type": "execute_result"
    }
   ],
   "source": [
    "y_train.shape\n",
    "#output is 3 classifications"
   ]
  },
  {
   "cell_type": "code",
   "execution_count": 88,
   "metadata": {},
   "outputs": [],
   "source": [
    "predictions = model(prep_data(X_test))"
   ]
  },
  {
   "cell_type": "code",
   "execution_count": 89,
   "metadata": {},
   "outputs": [
    {
     "data": {
      "text/plain": [
       "(201, 42)"
      ]
     },
     "execution_count": 89,
     "metadata": {},
     "output_type": "execute_result"
    }
   ],
   "source": [
    "X_test.shape"
   ]
  },
  {
   "cell_type": "code",
   "execution_count": 90,
   "metadata": {},
   "outputs": [
    {
     "data": {
      "text/plain": [
       "torch.Size([201, 3])"
      ]
     },
     "execution_count": 90,
     "metadata": {},
     "output_type": "execute_result"
    }
   ],
   "source": [
    "predictions.shape"
   ]
  },
  {
   "cell_type": "code",
   "execution_count": 91,
   "metadata": {},
   "outputs": [
    {
     "data": {
      "text/plain": [
       "tensor([[0.4357, 0.0928, 0.4715],\n",
       "        [0.3956, 0.1923, 0.4121],\n",
       "        [0.4089, 0.1220, 0.4691],\n",
       "        [0.4254, 0.1306, 0.4439],\n",
       "        [0.3977, 0.1356, 0.4667],\n",
       "        [0.4357, 0.0928, 0.4715],\n",
       "        [0.3745, 0.1869, 0.4386],\n",
       "        [0.4133, 0.1383, 0.4484],\n",
       "        [0.3751, 0.1715, 0.4533],\n",
       "        [0.3930, 0.1768, 0.4302],\n",
       "        [0.4255, 0.1222, 0.4523],\n",
       "        [0.4856, 0.1173, 0.3970],\n",
       "        [0.4338, 0.2196, 0.3466],\n",
       "        [0.4689, 0.1251, 0.4060],\n",
       "        [0.3667, 0.1656, 0.4676],\n",
       "        [0.4016, 0.1185, 0.4799],\n",
       "        [0.4443, 0.1484, 0.4074],\n",
       "        [0.3810, 0.1645, 0.4545],\n",
       "        [0.3784, 0.1115, 0.5101],\n",
       "        [0.4018, 0.1797, 0.4185],\n",
       "        [0.3408, 0.2104, 0.4488],\n",
       "        [0.4388, 0.0936, 0.4676],\n",
       "        [0.4661, 0.1255, 0.4085],\n",
       "        [0.4018, 0.1797, 0.4185],\n",
       "        [0.5199, 0.1360, 0.3441],\n",
       "        [0.3368, 0.2124, 0.4507],\n",
       "        [0.4040, 0.1484, 0.4476],\n",
       "        [0.3987, 0.1174, 0.4840],\n",
       "        [0.3826, 0.1283, 0.4890],\n",
       "        [0.4086, 0.1581, 0.4334],\n",
       "        [0.4206, 0.1264, 0.4531],\n",
       "        [0.4471, 0.1621, 0.3909],\n",
       "        [0.4059, 0.1568, 0.4373],\n",
       "        [0.3776, 0.0958, 0.5266],\n",
       "        [0.4840, 0.0959, 0.4201],\n",
       "        [0.3963, 0.1854, 0.4183],\n",
       "        [0.4081, 0.1927, 0.3993],\n",
       "        [0.4316, 0.0939, 0.4746],\n",
       "        [0.4450, 0.1219, 0.4331],\n",
       "        [0.3877, 0.0980, 0.5142],\n",
       "        [0.5058, 0.1541, 0.3401],\n",
       "        [0.3754, 0.1278, 0.4968],\n",
       "        [0.4498, 0.1616, 0.3886],\n",
       "        [0.4723, 0.1488, 0.3789],\n",
       "        [0.4230, 0.0997, 0.4773],\n",
       "        [0.3751, 0.1545, 0.4704],\n",
       "        [0.4840, 0.0959, 0.4201],\n",
       "        [0.3667, 0.1656, 0.4676],\n",
       "        [0.4640, 0.1715, 0.3645],\n",
       "        [0.4164, 0.1827, 0.4009],\n",
       "        [0.4498, 0.1616, 0.3886],\n",
       "        [0.4130, 0.1134, 0.4736],\n",
       "        [0.3877, 0.2020, 0.4103],\n",
       "        [0.4074, 0.1684, 0.4242],\n",
       "        [0.4209, 0.1398, 0.4393],\n",
       "        [0.5005, 0.1335, 0.3660],\n",
       "        [0.4557, 0.0954, 0.4489],\n",
       "        [0.4113, 0.1374, 0.4513],\n",
       "        [0.3408, 0.2104, 0.4488],\n",
       "        [0.3426, 0.1395, 0.5179],\n",
       "        [0.4432, 0.1667, 0.3901],\n",
       "        [0.3344, 0.1948, 0.4708],\n",
       "        [0.3599, 0.1650, 0.4751],\n",
       "        [0.4338, 0.2196, 0.3466],\n",
       "        [0.4225, 0.1212, 0.4563],\n",
       "        [0.4155, 0.1580, 0.4264],\n",
       "        [0.3599, 0.1650, 0.4751],\n",
       "        [0.3614, 0.1774, 0.4611],\n",
       "        [0.3238, 0.2424, 0.4337],\n",
       "        [0.4391, 0.1840, 0.3769],\n",
       "        [0.4594, 0.1727, 0.3679],\n",
       "        [0.3902, 0.1193, 0.4905],\n",
       "        [0.3200, 0.1816, 0.4984],\n",
       "        [0.3956, 0.1923, 0.4121],\n",
       "        [0.4259, 0.1057, 0.4684],\n",
       "        [0.4367, 0.1602, 0.4032],\n",
       "        [0.3737, 0.1749, 0.4514],\n",
       "        [0.3939, 0.1490, 0.4571],\n",
       "        [0.4157, 0.1501, 0.4342],\n",
       "        [0.3714, 0.1715, 0.4571],\n",
       "        [0.3426, 0.2072, 0.4501],\n",
       "        [0.3408, 0.2104, 0.4488],\n",
       "        [0.4113, 0.1374, 0.4513],\n",
       "        [0.4089, 0.1220, 0.4691],\n",
       "        [0.4712, 0.1416, 0.3872],\n",
       "        [0.4441, 0.1275, 0.4285],\n",
       "        [0.5058, 0.1541, 0.3401],\n",
       "        [0.3956, 0.1923, 0.4121],\n",
       "        [0.4140, 0.1402, 0.4459],\n",
       "        [0.3674, 0.1477, 0.4849],\n",
       "        [0.4290, 0.1079, 0.4631],\n",
       "        [0.3274, 0.2044, 0.4682],\n",
       "        [0.3216, 0.2182, 0.4602],\n",
       "        [0.4225, 0.1212, 0.4563],\n",
       "        [0.5003, 0.0897, 0.4100],\n",
       "        [0.4113, 0.1374, 0.4513],\n",
       "        [0.4086, 0.1581, 0.4334],\n",
       "        [0.4689, 0.1251, 0.4060],\n",
       "        [0.4733, 0.1093, 0.4174],\n",
       "        [0.3940, 0.1842, 0.4218],\n",
       "        [0.3909, 0.1816, 0.4275],\n",
       "        [0.3948, 0.1779, 0.4273],\n",
       "        [0.4059, 0.1568, 0.4373],\n",
       "        [0.3877, 0.2020, 0.4103],\n",
       "        [0.3723, 0.2286, 0.3991],\n",
       "        [0.3951, 0.1283, 0.4766],\n",
       "        [0.3486, 0.2238, 0.4275],\n",
       "        [0.4157, 0.1501, 0.4342],\n",
       "        [0.4225, 0.1212, 0.4563],\n",
       "        [0.4018, 0.1797, 0.4185],\n",
       "        [0.4503, 0.1187, 0.4309],\n",
       "        [0.4106, 0.0898, 0.4996],\n",
       "        [0.4526, 0.1096, 0.4378],\n",
       "        [0.4309, 0.1591, 0.4100],\n",
       "        [0.3835, 0.1520, 0.4645],\n",
       "        [0.3452, 0.1600, 0.4948],\n",
       "        [0.3712, 0.2430, 0.3858],\n",
       "        [0.3605, 0.1882, 0.4513],\n",
       "        [0.3589, 0.2219, 0.4192],\n",
       "        [0.4836, 0.1004, 0.4160],\n",
       "        [0.4316, 0.0939, 0.4746],\n",
       "        [0.4014, 0.1022, 0.4963],\n",
       "        [0.4225, 0.1212, 0.4563],\n",
       "        [0.4059, 0.1568, 0.4373],\n",
       "        [0.3788, 0.1859, 0.4353],\n",
       "        [0.3835, 0.1520, 0.4645],\n",
       "        [0.4321, 0.1968, 0.3711],\n",
       "        [0.4175, 0.1796, 0.4029],\n",
       "        [0.3674, 0.1477, 0.4849],\n",
       "        [0.3930, 0.1768, 0.4302],\n",
       "        [0.3426, 0.1395, 0.5179],\n",
       "        [0.3605, 0.1882, 0.4513],\n",
       "        [0.3881, 0.1331, 0.4788],\n",
       "        [0.4498, 0.1616, 0.3886],\n",
       "        [0.4086, 0.1581, 0.4334],\n",
       "        [0.3667, 0.1656, 0.4676],\n",
       "        [0.3477, 0.1857, 0.4665],\n",
       "        [0.3635, 0.1650, 0.4715],\n",
       "        [0.4347, 0.1594, 0.4059],\n",
       "        [0.4856, 0.1173, 0.3970],\n",
       "        [0.4671, 0.1519, 0.3810],\n",
       "        [0.3918, 0.1061, 0.5022],\n",
       "        [0.3599, 0.1650, 0.4751],\n",
       "        [0.4059, 0.1568, 0.4373],\n",
       "        [0.4059, 0.1568, 0.4373],\n",
       "        [0.4373, 0.0806, 0.4821],\n",
       "        [0.4274, 0.1576, 0.4150],\n",
       "        [0.3906, 0.1466, 0.4627],\n",
       "        [0.4735, 0.1203, 0.4062],\n",
       "        [0.4689, 0.1251, 0.4060],\n",
       "        [0.3595, 0.1748, 0.4657],\n",
       "        [0.3877, 0.2020, 0.4103],\n",
       "        [0.3877, 0.2020, 0.4103],\n",
       "        [0.3625, 0.1786, 0.4589],\n",
       "        [0.4305, 0.1810, 0.3885],\n",
       "        [0.4014, 0.1022, 0.4963],\n",
       "        [0.4164, 0.1827, 0.4009],\n",
       "        [0.4216, 0.0935, 0.4849],\n",
       "        [0.4365, 0.1423, 0.4212],\n",
       "        [0.4290, 0.1079, 0.4631],\n",
       "        [0.4255, 0.1222, 0.4523],\n",
       "        [0.3648, 0.1447, 0.4905],\n",
       "        [0.4365, 0.1423, 0.4212],\n",
       "        [0.3599, 0.1650, 0.4751],\n",
       "        [0.3648, 0.1447, 0.4905],\n",
       "        [0.4255, 0.1222, 0.4523],\n",
       "        [0.3803, 0.1746, 0.4452],\n",
       "        [0.3736, 0.1574, 0.4690],\n",
       "        [0.4498, 0.1616, 0.3886],\n",
       "        [0.3605, 0.1882, 0.4513],\n",
       "        [0.4070, 0.1732, 0.4198],\n",
       "        [0.3384, 0.1593, 0.5023],\n",
       "        [0.4059, 0.1568, 0.4373],\n",
       "        [0.4259, 0.1057, 0.4684],\n",
       "        [0.4162, 0.1036, 0.4802],\n",
       "        [0.5179, 0.1025, 0.3796],\n",
       "        [0.4113, 0.1374, 0.4513],\n",
       "        [0.3754, 0.1278, 0.4968],\n",
       "        [0.3501, 0.1898, 0.4602],\n",
       "        [0.3951, 0.1283, 0.4766],\n",
       "        [0.4609, 0.0811, 0.4580],\n",
       "        [0.3920, 0.1676, 0.4404],\n",
       "        [0.4689, 0.1251, 0.4060],\n",
       "        [0.4321, 0.1968, 0.3711],\n",
       "        [0.4856, 0.1173, 0.3970],\n",
       "        [0.4415, 0.1245, 0.4340],\n",
       "        [0.3809, 0.2157, 0.4033],\n",
       "        [0.4000, 0.1912, 0.4089],\n",
       "        [0.4733, 0.1093, 0.4174],\n",
       "        [0.4113, 0.1374, 0.4513],\n",
       "        [0.4169, 0.2066, 0.3765],\n",
       "        [0.4689, 0.1251, 0.4060],\n",
       "        [0.4290, 0.1079, 0.4631],\n",
       "        [0.4164, 0.1827, 0.4009],\n",
       "        [0.3877, 0.0980, 0.5142],\n",
       "        [0.3852, 0.1180, 0.4968],\n",
       "        [0.3784, 0.1115, 0.5101],\n",
       "        [0.4671, 0.1519, 0.3810],\n",
       "        [0.3426, 0.1395, 0.5179],\n",
       "        [0.3384, 0.1593, 0.5023],\n",
       "        [0.4259, 0.1057, 0.4684]], grad_fn=<SoftmaxBackward>)"
      ]
     },
     "execution_count": 91,
     "metadata": {},
     "output_type": "execute_result"
    }
   ],
   "source": [
    "predictions"
   ]
  },
  {
   "cell_type": "code",
   "execution_count": 92,
   "metadata": {},
   "outputs": [
    {
     "data": {
      "text/plain": [
       "torch.return_types.max(\n",
       "values=tensor([0.4715, 0.4121, 0.4691, 0.4439, 0.4667, 0.4715, 0.4386, 0.4484, 0.4533,\n",
       "        0.4302, 0.4523, 0.4856, 0.4338, 0.4689, 0.4676, 0.4799, 0.4443, 0.4545,\n",
       "        0.5101, 0.4185, 0.4488, 0.4676, 0.4661, 0.4185, 0.5199, 0.4507, 0.4476,\n",
       "        0.4840, 0.4890, 0.4334, 0.4531, 0.4471, 0.4373, 0.5266, 0.4840, 0.4183,\n",
       "        0.4081, 0.4746, 0.4450, 0.5142, 0.5058, 0.4968, 0.4498, 0.4723, 0.4773,\n",
       "        0.4704, 0.4840, 0.4676, 0.4640, 0.4164, 0.4498, 0.4736, 0.4103, 0.4242,\n",
       "        0.4393, 0.5005, 0.4557, 0.4513, 0.4488, 0.5179, 0.4432, 0.4708, 0.4751,\n",
       "        0.4338, 0.4563, 0.4264, 0.4751, 0.4611, 0.4337, 0.4391, 0.4594, 0.4905,\n",
       "        0.4984, 0.4121, 0.4684, 0.4367, 0.4514, 0.4571, 0.4342, 0.4571, 0.4501,\n",
       "        0.4488, 0.4513, 0.4691, 0.4712, 0.4441, 0.5058, 0.4121, 0.4459, 0.4849,\n",
       "        0.4631, 0.4682, 0.4602, 0.4563, 0.5003, 0.4513, 0.4334, 0.4689, 0.4733,\n",
       "        0.4218, 0.4275, 0.4273, 0.4373, 0.4103, 0.3991, 0.4766, 0.4275, 0.4342,\n",
       "        0.4563, 0.4185, 0.4503, 0.4996, 0.4526, 0.4309, 0.4645, 0.4948, 0.3858,\n",
       "        0.4513, 0.4192, 0.4836, 0.4746, 0.4963, 0.4563, 0.4373, 0.4353, 0.4645,\n",
       "        0.4321, 0.4175, 0.4849, 0.4302, 0.5179, 0.4513, 0.4788, 0.4498, 0.4334,\n",
       "        0.4676, 0.4665, 0.4715, 0.4347, 0.4856, 0.4671, 0.5022, 0.4751, 0.4373,\n",
       "        0.4373, 0.4821, 0.4274, 0.4627, 0.4735, 0.4689, 0.4657, 0.4103, 0.4103,\n",
       "        0.4589, 0.4305, 0.4963, 0.4164, 0.4849, 0.4365, 0.4631, 0.4523, 0.4905,\n",
       "        0.4365, 0.4751, 0.4905, 0.4523, 0.4452, 0.4690, 0.4498, 0.4513, 0.4198,\n",
       "        0.5023, 0.4373, 0.4684, 0.4802, 0.5179, 0.4513, 0.4968, 0.4602, 0.4766,\n",
       "        0.4609, 0.4404, 0.4689, 0.4321, 0.4856, 0.4415, 0.4033, 0.4089, 0.4733,\n",
       "        0.4513, 0.4169, 0.4689, 0.4631, 0.4164, 0.5142, 0.4968, 0.5101, 0.4671,\n",
       "        0.5179, 0.5023, 0.4684], grad_fn=<MaxBackward0>),\n",
       "indices=tensor([2, 2, 2, 2, 2, 2, 2, 2, 2, 2, 2, 0, 0, 0, 2, 2, 0, 2, 2, 2, 2, 2, 0, 2,\n",
       "        0, 2, 2, 2, 2, 2, 2, 0, 2, 2, 0, 2, 0, 2, 0, 2, 0, 2, 0, 0, 2, 2, 0, 2,\n",
       "        0, 0, 0, 2, 2, 2, 2, 0, 0, 2, 2, 2, 0, 2, 2, 0, 2, 2, 2, 2, 2, 0, 0, 2,\n",
       "        2, 2, 2, 0, 2, 2, 2, 2, 2, 2, 2, 2, 0, 0, 0, 2, 2, 2, 2, 2, 2, 2, 0, 2,\n",
       "        2, 0, 0, 2, 2, 2, 2, 2, 2, 2, 2, 2, 2, 2, 0, 2, 0, 0, 2, 2, 2, 2, 2, 0,\n",
       "        2, 2, 2, 2, 2, 2, 0, 0, 2, 2, 2, 2, 2, 0, 2, 2, 2, 2, 0, 0, 0, 2, 2, 2,\n",
       "        2, 2, 0, 2, 0, 0, 2, 2, 2, 2, 0, 2, 0, 2, 0, 2, 2, 2, 0, 2, 2, 2, 2, 2,\n",
       "        0, 2, 2, 2, 2, 2, 2, 0, 2, 2, 2, 2, 0, 2, 0, 0, 0, 0, 2, 2, 0, 2, 0, 0,\n",
       "        2, 0, 2, 2, 2, 0, 2, 2, 2]))"
      ]
     },
     "execution_count": 92,
     "metadata": {},
     "output_type": "execute_result"
    }
   ],
   "source": [
    "predictions.max(dim=1)"
   ]
  },
  {
   "cell_type": "code",
   "execution_count": 93,
   "metadata": {},
   "outputs": [],
   "source": [
    "# 1 (BENIGN_WITHOUT_CALLBACK) is rarely predicted, but it was a very small portion of the dataset to begin with \n",
    "# seems like this model errors on malignant detection. interesting to implementation as you wouldn't want to \n",
    "# tell a patient they have something malignant if they didn't, but it could be much worse to make the patient think \n",
    "# they are fine"
   ]
  },
  {
   "cell_type": "markdown",
   "metadata": {},
   "source": [
    "### 3.3.c.\n",
    "What type of activation function you will use and why?"
   ]
  },
  {
   "cell_type": "markdown",
   "metadata": {},
   "source": [
    "using softmax as my activation function as it's Useful when the machine learning task is multi-class prediction\n",
    "It is very similar to how binary works, but is more general "
   ]
  },
  {
   "cell_type": "markdown",
   "metadata": {},
   "source": [
    "### 3.3.d.\n",
    "How many parameters you need to fit for your design?"
   ]
  },
  {
   "cell_type": "code",
   "execution_count": 113,
   "metadata": {},
   "outputs": [],
   "source": [
    "model = LogisticRegression(X_train.shape[1], 3)"
   ]
  },
  {
   "cell_type": "code",
   "execution_count": 114,
   "metadata": {},
   "outputs": [],
   "source": [
    "def get_n_params(model):\n",
    "    pp=0\n",
    "    for p in list(model.parameters()):\n",
    "        nn=1\n",
    "        for s in list(p.size()):\n",
    "            nn = nn*s\n",
    "        pp += nn\n",
    "    return pp"
   ]
  },
  {
   "cell_type": "code",
   "execution_count": 115,
   "metadata": {},
   "outputs": [
    {
     "data": {
      "text/plain": [
       "129"
      ]
     },
     "execution_count": 115,
     "metadata": {},
     "output_type": "execute_result"
    }
   ],
   "source": [
    "get_n_params(model)"
   ]
  },
  {
   "cell_type": "markdown",
   "metadata": {},
   "source": [
    "also defined by 42 features * 3 outputs + 3 bias"
   ]
  },
  {
   "cell_type": "code",
   "execution_count": 117,
   "metadata": {},
   "outputs": [
    {
     "data": {
      "text/plain": [
       "<bound method Module.parameters of LogisticRegression(\n",
       "  (linear): Linear(in_features=42, out_features=3, bias=True)\n",
       "  (softmax): Softmax(dim=1)\n",
       ")>"
      ]
     },
     "execution_count": 117,
     "metadata": {},
     "output_type": "execute_result"
    }
   ],
   "source": [
    "model.parameters"
   ]
  },
  {
   "cell_type": "markdown",
   "metadata": {},
   "source": [
    "### 3.4. Multi-layered-perceptron (15 points)\n",
    "\n",
    "Design a multi layer perceptron (MLP) with a single hidden layer which first maps the vectorized image to a vector of 100 then feeds this vector to a fully connected layer to get the probability of 3 classes.\n",
    "\n",
    "You can choose optimizer and criterion of interest.\n",
    "\n",
    "Plot the ***average loss on all the train samples*** per epoch. (Stop the training after 1000 epochs). \n",
    "\n"
   ]
  },
  {
   "cell_type": "code",
   "execution_count": 95,
   "metadata": {},
   "outputs": [],
   "source": [
    "# from lecture"
   ]
  },
  {
   "cell_type": "code",
   "execution_count": 96,
   "metadata": {},
   "outputs": [],
   "source": [
    "def prep_data(data):\n",
    "    i=0\n",
    "    try: \n",
    "        data.shape[1]\n",
    "        print (f'this is a x{i}')\n",
    "        return Variable(torch.from_numpy(np.array(data)).type(torch.FloatTensor))\n",
    "    except:\n",
    "        print (f'this is a y{i}')\n",
    "        return torch.from_numpy(np.array(data)).type(torch.LongTensor)\n",
    "    i=+1"
   ]
  },
  {
   "cell_type": "code",
   "execution_count": 97,
   "metadata": {},
   "outputs": [
    {
     "name": "stdout",
     "output_type": "stream",
     "text": [
      "this is a x0\n",
      "this is a y0\n",
      "this is a x0\n",
      "this is a y0\n"
     ]
    }
   ],
   "source": [
    "data_for_model = [prep_data(x) for x in [X_train, y_train, X_test, y_test]]"
   ]
  },
  {
   "cell_type": "code",
   "execution_count": 98,
   "metadata": {},
   "outputs": [],
   "source": [
    "def plot_loss(res):\n",
    "    best_theta, train_loss, test_loss = res\n",
    "    x = np.arange(len(train_loss))\n",
    "        \n",
    "    plt.plot(x, train_loss, label=\"Train Loss\")\n",
    "    plt.plot(x, test_loss, label=\"Test Loss\")\n",
    "    \n",
    "    plt.xlabel('Epochs/Steps')\n",
    "    plt.ylabel('Loss')\n",
    "\n",
    "    plt.legend()\n",
    "    plt.show()"
   ]
  },
  {
   "cell_type": "code",
   "execution_count": 99,
   "metadata": {},
   "outputs": [],
   "source": [
    "#using similar train to above"
   ]
  },
  {
   "cell_type": "code",
   "execution_count": 100,
   "metadata": {},
   "outputs": [],
   "source": [
    "def train(data, model, alpha=0.005, batch_size=50, num_epoch=50):\n",
    "    X_train, y_train, X_test, y_test = data\n",
    "    \n",
    "    # Define loss function class, which contains both compute_loss and compute_gradient functionalities\n",
    "    # This criterion combines nn.LogSoftmax() and nn.NLLLoss() in one single class.\n",
    "    loss_fn = nn.CrossEntropyLoss(reduction='mean')\n",
    "    # Define method for updating parameters\n",
    "    optimizer = optim.SGD(model.parameters(), lr=alpha)\n",
    "    \n",
    "    num_samples, num_features = X_train.shape\n",
    "    num_batches = int(num_samples / batch_size)\n",
    "    order = np.arange(num_samples)\n",
    "    \n",
    "    # Track performance\n",
    "    best_test_loss = float('Inf')\n",
    "    best_model = None\n",
    "    train_loss_hist = []\n",
    "    test_loss_hist = []\n",
    "    loss_diff = 100\n",
    "    i = 0\n",
    "    \n",
    "    while (loss_diff > 10**(-5)) and i <= num_epoch:\n",
    "        np.random.shuffle(order)\n",
    "        minibatches = np.array_split(order, num_batches)\n",
    "        \n",
    "        for j in range(num_batches):\n",
    "            i = i+1\n",
    "            # Get batch input data of size (batch_size, num_features)\n",
    "            batch = minibatches[j]\n",
    "\n",
    "            # Set model to training mode and reset gradient\n",
    "            model.train()\n",
    "            model.zero_grad()\n",
    "            # this is a precaution in that pytorch may not start with a zero gradient\n",
    "            # you should zero gradient because back propagation step aka step backward below\n",
    "\n",
    "            # Make model prediction using current batch data\n",
    "            y_pred = model(X_train[batch])\n",
    "            # compute_loss\n",
    "            \n",
    "            train_loss = loss_fn(y_pred, y_train[batch].long())\n",
    "            train_loss_hist.append(train_loss.item())\n",
    "\n",
    "            # compute_gradient-- all are computed\n",
    "            train_loss.backward()\n",
    "            # Step into gradient descent direction. Perform parameter update\n",
    "            optimizer.step()\n",
    "\n",
    "            # Evaluating performance on test set\n",
    "            with torch.no_grad():\n",
    "                model.eval()\n",
    "                test_loss_hist.append(loss_fn(model(X_test).squeeze(), y_test))\n",
    "                # Keep track of the model that gives rise to minimal loss on test data\n",
    "                if test_loss_hist[-1] < best_test_loss:\n",
    "                    best_model = model.state_dict() #important as you may lose information about model otherwise\n",
    "                if len(test_loss_hist) >= 2:\n",
    "                    loss_diff = abs(test_loss_hist[-2]-test_loss_hist[-1])\n",
    "                    \n",
    "    return (best_model, train_loss_hist, test_loss_hist)"
   ]
  },
  {
   "cell_type": "code",
   "execution_count": 101,
   "metadata": {},
   "outputs": [],
   "source": [
    "# modified from lecture"
   ]
  },
  {
   "cell_type": "code",
   "execution_count": 102,
   "metadata": {},
   "outputs": [],
   "source": [
    "class MLPNet(torch.nn.Module):\n",
    "    # multiple linear layers\n",
    "    def __init__(self, in_features, hidden_size=3, out_features=1):\n",
    "        super(MLPNet, self).__init__()\n",
    "        self.fc1 = torch.nn.Linear(in_features, hidden_size)\n",
    "        self.fc2 = torch.nn.Linear(hidden_size, out_features)\n",
    "        \n",
    "        # Define sigmoid activation and softmax output \n",
    "        self.sigmoid = nn.Sigmoid()\n",
    "        self.softmax = nn.Softmax(dim=1)\n",
    "\n",
    "    def forward(self, x):\n",
    "        # apply relu, sigmoid and softmax in between hidden \n",
    "        x = torch.nn.functional.relu(self.fc1(x))\n",
    "#         x = self.sigmoid(x)\n",
    "        x = self.fc2(x)\n",
    "        x = self.softmax(x)\n",
    "        \n",
    "        return x\n"
   ]
  },
  {
   "cell_type": "markdown",
   "metadata": {},
   "source": [
    "### 3.5. (10 points)\n",
    "Add the loss of the test set to the loss of the train set and plot the ***average loss on all the test samples*** per epoch. (Stop the training after 100 epochs)"
   ]
  },
  {
   "cell_type": "code",
   "execution_count": 103,
   "metadata": {},
   "outputs": [
    {
     "data": {
      "text/plain": [
       "LogisticRegression(\n",
       "  (linear): Linear(in_features=42, out_features=3, bias=True)\n",
       "  (softmax): Softmax(dim=1)\n",
       ")"
      ]
     },
     "execution_count": 103,
     "metadata": {},
     "output_type": "execute_result"
    }
   ],
   "source": [
    "model.train()"
   ]
  },
  {
   "cell_type": "code",
   "execution_count": 104,
   "metadata": {},
   "outputs": [
    {
     "data": {
      "image/png": "[encoded data removed]",
      "text/plain": [
       "<Figure size 432x288 with 1 Axes>"
      ]
     },
     "metadata": {},
     "output_type": "display_data"
    }
   ],
   "source": [
    "model = MLPNet(X_train.shape[1], hidden_size=100, out_features=3)\n",
    "res = train(data_for_model, model,  num_epoch=100)\n",
    "plot_loss(res)  "
   ]
  },
  {
   "cell_type": "code",
   "execution_count": 105,
   "metadata": {},
   "outputs": [],
   "source": [
    "predictions = model(data_for_model[2])"
   ]
  },
  {
   "cell_type": "code",
   "execution_count": 106,
   "metadata": {},
   "outputs": [
    {
     "data": {
      "text/plain": [
       "torch.return_types.max(\n",
       "values=tensor([0.3779, 0.3618, 0.3738, 0.3630, 0.3895, 0.3779, 0.3556, 0.3707, 0.3658,\n",
       "        0.3413, 0.3698, 0.3727, 0.3530, 0.3743, 0.3623, 0.3870, 0.3579, 0.3583,\n",
       "        0.3574, 0.3647, 0.3450, 0.3807, 0.3799, 0.3647, 0.3640, 0.3415, 0.3774,\n",
       "        0.3877, 0.3740, 0.3599, 0.3661, 0.3685, 0.3568, 0.3644, 0.3806, 0.3581,\n",
       "        0.3339, 0.3751, 0.3663, 0.3704, 0.3679, 0.3608, 0.3689, 0.3569, 0.3849,\n",
       "        0.3724, 0.3806, 0.3623, 0.3552, 0.3571, 0.3689, 0.3724, 0.3489, 0.3531,\n",
       "        0.3770, 0.3704, 0.3783, 0.3490, 0.3450, 0.3668, 0.3503, 0.3677, 0.3519,\n",
       "        0.3530, 0.3682, 0.3540, 0.3519, 0.3555, 0.3470, 0.3714, 0.3615, 0.3840,\n",
       "        0.3477, 0.3618, 0.3596, 0.3469, 0.3856, 0.3624, 0.3645, 0.3598, 0.3563,\n",
       "        0.3450, 0.3490, 0.3738, 0.3721, 0.3669, 0.3679, 0.3618, 0.3713, 0.3668,\n",
       "        0.3803, 0.3643, 0.3524, 0.3682, 0.3798, 0.3490, 0.3599, 0.3743, 0.3817,\n",
       "        0.3576, 0.3473, 0.3635, 0.3568, 0.3489, 0.3523, 0.3646, 0.3554, 0.3645,\n",
       "        0.3682, 0.3647, 0.3521, 0.3973, 0.3701, 0.3545, 0.3778, 0.3805, 0.3564,\n",
       "        0.3660, 0.3598, 0.3904, 0.3751, 0.3825, 0.3682, 0.3568, 0.3705, 0.3778,\n",
       "        0.3585, 0.3856, 0.3668, 0.3413, 0.3668, 0.3660, 0.3728, 0.3689, 0.3599,\n",
       "        0.3623, 0.3439, 0.3463, 0.3759, 0.3727, 0.3641, 0.3698, 0.3519, 0.3568,\n",
       "        0.3568, 0.3707, 0.3607, 0.3589, 0.3630, 0.3743, 0.3519, 0.3489, 0.3489,\n",
       "        0.3681, 0.3707, 0.3825, 0.3571, 0.3811, 0.3639, 0.3803, 0.3698, 0.3494,\n",
       "        0.3639, 0.3519, 0.3494, 0.3698, 0.3759, 0.3613, 0.3689, 0.3660, 0.3778,\n",
       "        0.3686, 0.3568, 0.3596, 0.4171, 0.3820, 0.3490, 0.3608, 0.3441, 0.3646,\n",
       "        0.3758, 0.3662, 0.3743, 0.3585, 0.3727, 0.3714, 0.3549, 0.3542, 0.3817,\n",
       "        0.3490, 0.3420, 0.3743, 0.3803, 0.3571, 0.3704, 0.3646, 0.3574, 0.3641,\n",
       "        0.3668, 0.3686, 0.3596], grad_fn=<MaxBackward0>),\n",
       "indices=tensor([2, 0, 0, 2, 2, 2, 2, 2, 2, 2, 2, 0, 0, 0, 2, 2, 2, 2, 0, 2, 2, 2, 2, 2,\n",
       "        0, 2, 2, 2, 2, 2, 0, 2, 2, 0, 0, 0, 0, 2, 0, 2, 0, 2, 0, 2, 2, 2, 0, 2,\n",
       "        0, 0, 0, 2, 2, 0, 2, 0, 0, 2, 2, 2, 0, 2, 2, 0, 2, 0, 2, 2, 2, 2, 0, 2,\n",
       "        0, 0, 2, 2, 2, 0, 0, 2, 0, 2, 2, 0, 0, 0, 0, 0, 2, 2, 2, 2, 2, 2, 0, 2,\n",
       "        2, 0, 0, 0, 2, 2, 2, 2, 2, 0, 2, 0, 2, 2, 0, 2, 0, 2, 2, 2, 0, 2, 2, 0,\n",
       "        2, 2, 2, 2, 2, 2, 0, 2, 2, 2, 2, 2, 2, 0, 2, 2, 2, 2, 2, 0, 0, 2, 2, 2,\n",
       "        2, 2, 0, 0, 2, 0, 0, 2, 2, 2, 2, 2, 0, 0, 0, 2, 2, 2, 0, 2, 2, 2, 2, 2,\n",
       "        0, 2, 2, 2, 2, 2, 2, 0, 2, 2, 2, 0, 0, 2, 0, 0, 0, 0, 0, 2, 0, 2, 2, 0,\n",
       "        2, 0, 2, 2, 0, 0, 2, 2, 2]))"
      ]
     },
     "execution_count": 106,
     "metadata": {},
     "output_type": "execute_result"
    }
   ],
   "source": [
    "predictions.max(dim=1)"
   ]
  },
  {
   "cell_type": "code",
   "execution_count": 107,
   "metadata": {},
   "outputs": [],
   "source": [
    "# predicting benign more often then not here and no predictions of the low occuring BENIGN_WITHOUT_CALLBACK"
   ]
  },
  {
   "cell_type": "markdown",
   "metadata": {},
   "source": [
    "### 3.6. (3 points)\n",
    "Define two types of activation functions you can use in the first layer. Which activation function you will use on the second fully connected layer?"
   ]
  },
  {
   "cell_type": "markdown",
   "metadata": {},
   "source": [
    "In the first layer using relu and sigmoid, which may possibly be considered redundant since Gradients can vanish on sigmoid non-linearity, so it was recommended we use relu instead. upon fur\n",
    "\n",
    "in the second layer I used softmax as before for multiclass prediction\n"
   ]
  },
  {
   "cell_type": "markdown",
   "metadata": {},
   "source": [
    "### 3.7. (3 points)\n",
    "How many parameters you need to fit for your design? How does adding another hidden layer effected the number of parameters to use?"
   ]
  },
  {
   "cell_type": "code",
   "execution_count": 125,
   "metadata": {},
   "outputs": [
    {
     "data": {
      "text/plain": [
       "torch.Size([100, 42])"
      ]
     },
     "execution_count": 125,
     "metadata": {},
     "output_type": "execute_result"
    }
   ],
   "source": [
    "list(model.parameters())[0].size()"
   ]
  },
  {
   "cell_type": "markdown",
   "metadata": {},
   "source": [
    "-hidden layer adds to the parameters\n",
    "\n",
    "-first layer = 42 *100\n",
    "\n",
    "-hidden layer adds 100 \n",
    "\n",
    "-sigmoid adds 300 \n",
    "\n",
    "-and softmax/ bias adds 3\n",
    "\n"
   ]
  },
  {
   "cell_type": "code",
   "execution_count": 137,
   "metadata": {},
   "outputs": [
    {
     "data": {
      "text/plain": [
       "4603"
      ]
     },
     "execution_count": 137,
     "metadata": {},
     "output_type": "execute_result"
    }
   ],
   "source": [
    "get_n_params(model)"
   ]
  },
  {
   "cell_type": "code",
   "execution_count": null,
   "metadata": {},
   "outputs": [],
   "source": [
    "#calculated multiples ways for accuracy"
   ]
  },
  {
   "cell_type": "code",
   "execution_count": 110,
   "metadata": {},
   "outputs": [],
   "source": [
    "model_parameters = filter(lambda p: p.requires_grad, model.parameters())\n",
    "params = sum([np.prod(p.size()) for p in model_parameters])"
   ]
  },
  {
   "cell_type": "code",
   "execution_count": 111,
   "metadata": {},
   "outputs": [
    {
     "data": {
      "text/plain": [
       "4603"
      ]
     },
     "execution_count": 111,
     "metadata": {},
     "output_type": "execute_result"
    }
   ],
   "source": [
    "params"
   ]
  },
  {
   "cell_type": "markdown",
   "metadata": {},
   "source": [
    "adding another hidden layer adds in more parameters... I of course added many additions to my model, but the hidden layer contributed 100 parameters"
   ]
  },
  {
   "cell_type": "code",
   "execution_count": null,
   "metadata": {},
   "outputs": [],
   "source": []
  }
 ],
 "metadata": {
  "kernelspec": {
   "display_name": "Python 3",
   "language": "python",
   "name": "python3"
  },
  "language_info": {
   "codemirror_mode": {
    "name": "ipython",
    "version": 3
   },
   "file_extension": ".py",
   "mimetype": "text/x-python",
   "name": "python",
   "nbconvert_exporter": "python",
   "pygments_lexer": "ipython3",
   "version": "3.7.6"
  }
 },
 "nbformat": 4,
 "nbformat_minor": 2
}
