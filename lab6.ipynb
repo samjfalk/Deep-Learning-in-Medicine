{
 "cells": [
  {
   "cell_type": "markdown",
   "metadata": {},
   "source": [
    "# Lab 6: Regularization and Optimization\n",
    "\n",
    "Nithish Addepalli and Ren Yi, 3-26-2020\n",
    "\n",
    "The goal of this lab is to learn how to apply different regularization and optimization strategies in PyTorch using MNIST data.\n",
    "\n",
    "Here is a list of the techniques we've covered in class\n",
    "- Regularization\n",
    "    - L1/L2 regularization\n",
    "    - Data augmentation\n",
    "    - Dropout\n",
    "    - Batch normalization\n",
    "    - Early stopping\n",
    "- Optimization\n",
    "    - SGD\n",
    "    - SGD (with momentum)\n",
    "    - Nesterov momentum\n",
    "    - AdaGrad\n",
    "    - RMSProp\n",
    "    - Adam\n",
    "    \n",
    "We will show you how some of these methods are used in PyTorch. "
   ]
  },
  {
   "cell_type": "markdown",
   "metadata": {},
   "source": [
    "## Problem Setup"
   ]
  },
  {
   "cell_type": "code",
   "execution_count": 1,
   "metadata": {},
   "outputs": [],
   "source": [
    "import time\n",
    "import numpy as np\n",
    "import copy\n",
    "import torch\n",
    "import torch.nn as nn\n",
    "import torch.nn.functional as F\n",
    "import torch.optim as optim\n",
    "from torchvision import datasets, transforms\n",
    "import matplotlib.pyplot as plt\n",
    "%matplotlib inline"
   ]
  },
  {
   "cell_type": "code",
   "execution_count": 2,
   "metadata": {},
   "outputs": [],
   "source": [
    "# Initialize necessary parameters\n",
    "device = torch.device(\"cuda\" if torch.cuda.is_available() else \"cpu\")\n",
    "# if torch.cuda.is_available():\n",
    "#     torch.cuda.manual_seed(717)\n",
    "\n",
    "seed = 345\n",
    "batch_size = {'train': 64,\n",
    "              'val': 1000}\n",
    "input_size = 28 * 28\n",
    "output_size = 10\n",
    "n_feature = 3\n",
    "optim_results = {}"
   ]
  },
  {
   "cell_type": "code",
   "execution_count": 3,
   "metadata": {},
   "outputs": [
    {
     "name": "stdout",
     "output_type": "stream",
     "text": [
      "Downloading http://yann.lecun.com/exdb/mnist/train-images-idx3-ubyte.gz to data/MNIST/raw/train-images-idx3-ubyte.gz\n"
     ]
    },
    {
     "name": "stderr",
     "output_type": "stream",
     "text": [
      "100.1%"
     ]
    },
    {
     "name": "stdout",
     "output_type": "stream",
     "text": [
      "Extracting data/MNIST/raw/train-images-idx3-ubyte.gz to data/MNIST/raw\n"
     ]
    },
    {
     "name": "stderr",
     "output_type": "stream",
     "text": [
      "113.5%"
     ]
    },
    {
     "name": "stdout",
     "output_type": "stream",
     "text": [
      "Downloading http://yann.lecun.com/exdb/mnist/train-labels-idx1-ubyte.gz to data/MNIST/raw/train-labels-idx1-ubyte.gz\n",
      "Extracting data/MNIST/raw/train-labels-idx1-ubyte.gz to data/MNIST/raw\n",
      "Downloading http://yann.lecun.com/exdb/mnist/t10k-images-idx3-ubyte.gz to data/MNIST/raw/t10k-images-idx3-ubyte.gz\n"
     ]
    },
    {
     "name": "stderr",
     "output_type": "stream",
     "text": [
      "180.4%"
     ]
    },
    {
     "name": "stdout",
     "output_type": "stream",
     "text": [
      "Extracting data/MNIST/raw/t10k-images-idx3-ubyte.gz to data/MNIST/raw\n",
      "Downloading http://yann.lecun.com/exdb/mnist/t10k-labels-idx1-ubyte.gz to data/MNIST/raw/t10k-labels-idx1-ubyte.gz\n",
      "Extracting data/MNIST/raw/t10k-labels-idx1-ubyte.gz to data/MNIST/raw\n",
      "Processing...\n",
      "Done!\n"
     ]
    }
   ],
   "source": [
    "# Data Loader\n",
    "trainset = datasets.MNIST('data', train=True, download=True,\n",
    "                          transform=transforms.Compose([\n",
    "                              transforms.ToTensor(),\n",
    "                              transforms.Normalize((0.1307,), (0.3081,))]))\n",
    "testset = datasets.MNIST('data', train=False, \n",
    "                         transform=transforms.Compose([\n",
    "                             transforms.ToTensor(),\n",
    "                             transforms.Normalize((0.1307,), (0.3081,))]))\n",
    "\n",
    "mnist_datasets = {'train': trainset, \n",
    "            'val': testset}\n",
    "dataset_sizes = {x: len(mnist_datasets[x]) for x in ['train', 'val']}\n",
    "dataloaders = {x: torch.utils.data.DataLoader(mnist_datasets[x], batch_size=batch_size[x], shuffle=True)\n",
    "              for x in ['train', 'val']}"
   ]
  },
  {
   "cell_type": "code",
   "execution_count": 4,
   "metadata": {},
   "outputs": [
    {
     "data": {
      "image/png": "[encoded data removed]",
      "text/plain": [
       "<Figure size 864x576 with 10 Axes>"
      ]
     },
     "metadata": {
      "needs_background": "light"
     },
     "output_type": "display_data"
    }
   ],
   "source": [
    "## show some images\n",
    "plt.figure(figsize = (12, 8))\n",
    "for i in range(10):\n",
    "    plt.subplot(2, 5, i + 1)\n",
    "    image, _ = dataloaders['train'].dataset.__getitem__(i)\n",
    "    plt.imshow(image.squeeze().numpy())"
   ]
  },
  {
   "cell_type": "code",
   "execution_count": 5,
   "metadata": {},
   "outputs": [],
   "source": [
    "def train_model(model, optimizer, num_epochs=1, verbose = True, print_every = 100):\n",
    "    since = time.time()\n",
    "\n",
    "    best_model_wts = copy.deepcopy(model.state_dict())\n",
    "    best_acc = 0.0\n",
    "    loss_dict = {'train': [], 'val': []}\n",
    "    \n",
    "    criterion = nn.CrossEntropyLoss()\n",
    "\n",
    "    for epoch in range(num_epochs):\n",
    "        print('Epoch {}/{}'.format(epoch, num_epochs - 1))\n",
    "        print('-' * 10)\n",
    "\n",
    "        # Each epoch has a training and validation phase\n",
    "        for phase in ['train', 'val']:\n",
    "            if phase == 'train':\n",
    "                model.train(True)  # Set model to training mode\n",
    "            else:\n",
    "                model.train(False)  # Set model to evaluate mode\n",
    "\n",
    "            running_loss = 0.0\n",
    "            running_corrects = 0\n",
    "\n",
    "            # Iterate over data.\n",
    "            for batch_idx, data in enumerate(dataloaders[phase]):\n",
    "                # get the inputs\n",
    "                inputs, labels = data\n",
    "\n",
    "                inputs = inputs.to(device)\n",
    "                labels = labels.to(device)\n",
    "\n",
    "                # zero the parameter gradients\n",
    "                optimizer.zero_grad()\n",
    "\n",
    "                # forward\n",
    "                with torch.set_grad_enabled(phase == 'train'):\n",
    "                    outputs = model(inputs)\n",
    "                    _, preds = torch.max(outputs, 1)\n",
    "                    loss = criterion(outputs, labels)\n",
    "                \n",
    "                # backward + optimize only if in training phase\n",
    "                if phase == 'train':\n",
    "                    loss.backward()\n",
    "                    optimizer.step()\n",
    "\n",
    "                # statistics\n",
    "                running_loss += loss.item() * inputs.size()[0]\n",
    "                running_corrects += torch.sum(preds == labels).item()\n",
    "                \n",
    "                if verbose and batch_idx % print_every == 0:\n",
    "                    print('Train set | epoch: {:3d} | {:6d}/{:6d} batches | Loss: {:6.4f}'.format(\n",
    "                        epoch, batch_idx * len(inputs), len(dataloaders[phase].dataset), loss.item()))\n",
    "                    loss_dict[phase].append(running_loss/((batch_idx + 1) * len(inputs)))\n",
    "\n",
    "            epoch_loss = running_loss / dataset_sizes[phase]\n",
    "            epoch_acc = running_corrects / dataset_sizes[phase]\n",
    "            loss_dict[phase].append(epoch_loss)\n",
    "\n",
    "            print('{} Loss: {:.4f} Acc: {:.4f}'.format(phase, epoch_loss, epoch_acc))\n",
    "\n",
    "            # deep copy the model\n",
    "            if phase == 'val' and epoch_acc > best_acc:\n",
    "                best_acc = epoch_acc\n",
    "                best_model_wts = copy.deepcopy(model.state_dict())\n",
    "        print()\n",
    "\n",
    "    time_elapsed = time.time() - since\n",
    "    print('Training complete in {:.0f}m {:.0f}s'.format(\n",
    "        time_elapsed // 60, time_elapsed % 60))\n",
    "    print('Best val Acc: {:4f}'.format(best_acc))\n",
    "\n",
    "    # load best model weights\n",
    "    model.load_state_dict(best_model_wts)\n",
    "    return model, loss_dict\n",
    "\n",
    "def populate_result(dictionary, method, train_loss, val_loss):\n",
    "    dictionary[method] = {}\n",
    "    dictionary[method]['train_loss'] = np.array(train_loss)\n",
    "    dictionary[method]['val_loss'] = np.array(val_loss)\n",
    "    \n",
    "def plot_loss(result, loss='train_loss', ylim=None):\n",
    "    plt.plot(result['Baseline'][loss], label='Baseline')\n",
    "    for k in result.keys():\n",
    "        if k != 'Baseline':\n",
    "            plt.plot(result[k][loss], label=k)\n",
    "    if ylim is not None:\n",
    "        plt.ylim(ylim)\n",
    "    plt.xlabel('Steps')\n",
    "    plt.ylabel('Loss')\n",
    "    plt.legend()\n",
    "    plt.show()\n",
    "    \n",
    "def plot_best_loss(result, loss='val_loss'):\n",
    "    labels = ['Baseline']\n",
    "    acc = [np.max(result['Baseline'][loss])]\n",
    "    for k in result.keys():\n",
    "        if k != 'Baseline':\n",
    "            labels.append(k)\n",
    "            acc.append(np.max(result[k][loss]))\n",
    "\n",
    "    x = np.arange(len(labels))\n",
    "    plt.barh(x, acc)\n",
    "    plt.yticks(x, labels)\n",
    "    plt.xlabel('Loss')\n",
    "    plt.show()"
   ]
  },
  {
   "cell_type": "markdown",
   "metadata": {},
   "source": [
    "### Baseline method\n",
    "\n",
    "We will later show how different optimization and regularization techniques can improve baseline model performance. But first,\n",
    "1. What's our baseline model architecture?\n",
    "2. What's the optimization method used to train the baseline model?\n",
    "3. How does this optimization method update its parameters.\n",
    "$$\\theta_{t+1} = \\theta_{t} - \\eta \\nabla J(\\theta_{t})$$\n",
    "where $\\eta$ denotes the learning rate"
   ]
  },
  {
   "cell_type": "code",
   "execution_count": 6,
   "metadata": {},
   "outputs": [],
   "source": [
    "class Baseline(nn.Module):\n",
    "    def __init__(self, n_feature, output_size):\n",
    "        super(Baseline, self).__init__()\n",
    "        self.n_feature = n_feature\n",
    "        self.conv1 = nn.Sequential(nn.Conv2d(1, n_feature, kernel_size=5),\n",
    "                                   nn.ReLU(),\n",
    "                                   nn.MaxPool2d(2))\n",
    "        self.conv2 = nn.Sequential(nn.Conv2d(n_feature, n_feature, kernel_size=5),\n",
    "                                   nn.ReLU(),\n",
    "                                   nn.MaxPool2d(2))\n",
    "        self.fc = nn.Sequential(nn.Linear(n_feature*4*4, 50),\n",
    "                                nn.ReLU(),\n",
    "                                nn.Linear(50, 10))\n",
    "\n",
    "\n",
    "    def forward(self, x, verbose=False):\n",
    "        x = self.conv1(x)\n",
    "        x = self.conv2(x)\n",
    "        x = x.view(-1, self.n_feature*4*4)\n",
    "        x = self.fc(x)\n",
    "        return x"
   ]
  },
  {
   "cell_type": "code",
   "execution_count": 7,
   "metadata": {},
   "outputs": [
    {
     "name": "stdout",
     "output_type": "stream",
     "text": [
      "Epoch 0/0\n",
      "----------\n",
      "Train set | epoch:   0 |      0/ 60000 batches | Loss: 2.3144\n",
      "Train set | epoch:   0 |   6400/ 60000 batches | Loss: 2.2539\n",
      "Train set | epoch:   0 |  12800/ 60000 batches | Loss: 2.1788\n",
      "Train set | epoch:   0 |  19200/ 60000 batches | Loss: 1.2514\n",
      "Train set | epoch:   0 |  25600/ 60000 batches | Loss: 0.7360\n",
      "Train set | epoch:   0 |  32000/ 60000 batches | Loss: 0.7064\n",
      "Train set | epoch:   0 |  38400/ 60000 batches | Loss: 0.3541\n",
      "Train set | epoch:   0 |  44800/ 60000 batches | Loss: 0.3663\n",
      "Train set | epoch:   0 |  51200/ 60000 batches | Loss: 0.3876\n",
      "Train set | epoch:   0 |  57600/ 60000 batches | Loss: 0.3185\n",
      "train Loss: 1.0500 Acc: 0.6531\n",
      "Train set | epoch:   0 |      0/ 10000 batches | Loss: 0.3797\n",
      "val Loss: 0.3862 Acc: 0.8794\n",
      "\n",
      "Training complete in 0m 21s\n",
      "Best val Acc: 0.879400\n"
     ]
    }
   ],
   "source": [
    "torch.manual_seed(seed)\n",
    "model = Baseline(n_feature, output_size).to(device)\n",
    "optimizer = optim.SGD(model.parameters(),lr=0.01)\n",
    "model, loss_dict = train_model(model, optimizer)\n",
    "populate_result(optim_results, 'Baseline', loss_dict['train'], loss_dict['val'])"
   ]
  },
  {
   "cell_type": "markdown",
   "metadata": {},
   "source": [
    "## Fancier Optimization\n",
    "\n",
    "https://pytorch.org/docs/stable/optim.html"
   ]
  },
  {
   "cell_type": "markdown",
   "metadata": {},
   "source": [
    "### SGD with momentum\n",
    "1. How does SGD with momentum update its parameters?\n",
    "$$v_{t+1} = \\rho v_{t} + \\nabla J(\\theta_{t})$$\n",
    "$$\\theta_{t+1} = \\theta_{t} - \\eta v_{t+1}$$\n",
    "where $v$ and $\\rho$ denote velocity and momentum, respectively.\n",
    "2. Check out the documentation for SGD in PyTorch and complete the code below (Set momentum=0.5). "
   ]
  },
  {
   "cell_type": "code",
   "execution_count": 8,
   "metadata": {},
   "outputs": [
    {
     "name": "stdout",
     "output_type": "stream",
     "text": [
      "Epoch 0/0\n",
      "----------\n",
      "Train set | epoch:   0 |      0/ 60000 batches | Loss: 2.3144\n",
      "Train set | epoch:   0 |   6400/ 60000 batches | Loss: 2.1619\n",
      "Train set | epoch:   0 |  12800/ 60000 batches | Loss: 0.8449\n",
      "Train set | epoch:   0 |  19200/ 60000 batches | Loss: 0.6210\n",
      "Train set | epoch:   0 |  25600/ 60000 batches | Loss: 0.5041\n",
      "Train set | epoch:   0 |  32000/ 60000 batches | Loss: 0.4715\n",
      "Train set | epoch:   0 |  38400/ 60000 batches | Loss: 0.3443\n",
      "Train set | epoch:   0 |  44800/ 60000 batches | Loss: 0.3168\n",
      "Train set | epoch:   0 |  51200/ 60000 batches | Loss: 0.3207\n",
      "Train set | epoch:   0 |  57600/ 60000 batches | Loss: 0.2334\n",
      "train Loss: 0.7155 Acc: 0.7656\n",
      "Train set | epoch:   0 |      0/ 10000 batches | Loss: 0.2813\n",
      "val Loss: 0.2791 Acc: 0.9151\n",
      "\n",
      "Training complete in 0m 23s\n",
      "Best val Acc: 0.915100\n"
     ]
    }
   ],
   "source": [
    "torch.manual_seed(seed)\n",
    "model = Baseline(n_feature, output_size).to(device)\n",
    "optimizer = optim.SGD(model.parameters(),lr=0.01, momentum=0.5)\n",
    "model, loss_dict = train_model(model, optimizer)\n",
    "populate_result(optim_results, 'SGD_momentum', loss_dict['train'], loss_dict['val'])"
   ]
  },
  {
   "cell_type": "markdown",
   "metadata": {},
   "source": [
    "### Nesterov momentum\n",
    "\n",
    "Make a minor change in the above code to apply Nesterov momentum (Set momentum=0.5). "
   ]
  },
  {
   "cell_type": "code",
   "execution_count": 9,
   "metadata": {},
   "outputs": [
    {
     "name": "stdout",
     "output_type": "stream",
     "text": [
      "Epoch 0/0\n",
      "----------\n",
      "Train set | epoch:   0 |      0/ 60000 batches | Loss: 2.3144\n",
      "Train set | epoch:   0 |   6400/ 60000 batches | Loss: 2.1562\n",
      "Train set | epoch:   0 |  12800/ 60000 batches | Loss: 0.8439\n",
      "Train set | epoch:   0 |  19200/ 60000 batches | Loss: 0.5238\n",
      "Train set | epoch:   0 |  25600/ 60000 batches | Loss: 0.5212\n",
      "Train set | epoch:   0 |  32000/ 60000 batches | Loss: 0.4893\n",
      "Train set | epoch:   0 |  38400/ 60000 batches | Loss: 0.2968\n",
      "Train set | epoch:   0 |  44800/ 60000 batches | Loss: 0.3276\n",
      "Train set | epoch:   0 |  51200/ 60000 batches | Loss: 0.3108\n",
      "Train set | epoch:   0 |  57600/ 60000 batches | Loss: 0.2227\n",
      "train Loss: 0.7143 Acc: 0.7656\n",
      "Train set | epoch:   0 |      0/ 10000 batches | Loss: 0.2921\n",
      "val Loss: 0.2924 Acc: 0.9102\n",
      "\n",
      "Training complete in 0m 22s\n",
      "Best val Acc: 0.910200\n"
     ]
    }
   ],
   "source": [
    "torch.manual_seed(seed)\n",
    "model = Baseline(n_feature, output_size).to(device)\n",
    "optimizer = optim.SGD(model.parameters(),lr=0.01, momentum=0.5, nesterov=True)\n",
    "model, loss_dict = train_model(model, optimizer)\n",
    "populate_result(optim_results, 'Nesterov_momentum', loss_dict['train'], loss_dict['val'])"
   ]
  },
  {
   "cell_type": "markdown",
   "metadata": {},
   "source": [
    "### AdaGrad\n",
    "\n",
    "1. What's the motivation of AdaGrad?\n",
    "2. Check out the documentation of AdaGrad in PyTorch and complete the code below. "
   ]
  },
  {
   "cell_type": "code",
   "execution_count": 10,
   "metadata": {},
   "outputs": [
    {
     "name": "stdout",
     "output_type": "stream",
     "text": [
      "Epoch 0/0\n",
      "----------\n",
      "Train set | epoch:   0 |      0/ 60000 batches | Loss: 2.3144\n",
      "Train set | epoch:   0 |   6400/ 60000 batches | Loss: 0.5852\n",
      "Train set | epoch:   0 |  12800/ 60000 batches | Loss: 0.5989\n",
      "Train set | epoch:   0 |  19200/ 60000 batches | Loss: 0.4282\n",
      "Train set | epoch:   0 |  25600/ 60000 batches | Loss: 0.4224\n",
      "Train set | epoch:   0 |  32000/ 60000 batches | Loss: 0.4427\n",
      "Train set | epoch:   0 |  38400/ 60000 batches | Loss: 0.2775\n",
      "Train set | epoch:   0 |  44800/ 60000 batches | Loss: 0.2503\n",
      "Train set | epoch:   0 |  51200/ 60000 batches | Loss: 0.3220\n",
      "Train set | epoch:   0 |  57600/ 60000 batches | Loss: 0.2099\n",
      "train Loss: 0.4049 Acc: 0.8745\n",
      "Train set | epoch:   0 |      0/ 10000 batches | Loss: 0.2717\n",
      "val Loss: 0.2751 Acc: 0.9177\n",
      "\n",
      "Training complete in 0m 27s\n",
      "Best val Acc: 0.917700\n"
     ]
    }
   ],
   "source": [
    "torch.manual_seed(seed)\n",
    "model = Baseline(n_feature, output_size).to(device)\n",
    "optimizer = optim.Adagrad(model.parameters(),lr=0.01)\n",
    "model, loss_dict = train_model(model, optimizer)\n",
    "populate_result(optim_results, 'Adagrad', loss_dict['train'], loss_dict['val'])"
   ]
  },
  {
   "cell_type": "markdown",
   "metadata": {},
   "source": [
    "### RMSprop"
   ]
  },
  {
   "cell_type": "code",
   "execution_count": 11,
   "metadata": {},
   "outputs": [
    {
     "name": "stdout",
     "output_type": "stream",
     "text": [
      "Epoch 0/0\n",
      "----------\n",
      "Train set | epoch:   0 |      0/ 60000 batches | Loss: 2.3144\n",
      "Train set | epoch:   0 |   6400/ 60000 batches | Loss: 0.3963\n",
      "Train set | epoch:   0 |  12800/ 60000 batches | Loss: 0.4541\n",
      "Train set | epoch:   0 |  19200/ 60000 batches | Loss: 0.1984\n",
      "Train set | epoch:   0 |  25600/ 60000 batches | Loss: 0.2686\n",
      "Train set | epoch:   0 |  32000/ 60000 batches | Loss: 0.3069\n",
      "Train set | epoch:   0 |  38400/ 60000 batches | Loss: 0.2723\n",
      "Train set | epoch:   0 |  44800/ 60000 batches | Loss: 0.2364\n",
      "Train set | epoch:   0 |  51200/ 60000 batches | Loss: 0.1811\n",
      "Train set | epoch:   0 |  57600/ 60000 batches | Loss: 0.0723\n",
      "train Loss: 0.3047 Acc: 0.9026\n",
      "Train set | epoch:   0 |      0/ 10000 batches | Loss: 0.2812\n",
      "val Loss: 0.2722 Acc: 0.9117\n",
      "\n",
      "Training complete in 0m 26s\n",
      "Best val Acc: 0.911700\n"
     ]
    }
   ],
   "source": [
    "torch.manual_seed(seed)\n",
    "model = Baseline(n_feature, output_size).to(device)\n",
    "optimizer = optim.RMSprop(model.parameters(),lr=0.01, alpha=0.9)\n",
    "model, loss_dict = train_model(model, optimizer)\n",
    "populate_result(optim_results, 'RMSprop', loss_dict['train'], loss_dict['val'])"
   ]
  },
  {
   "cell_type": "markdown",
   "metadata": {},
   "source": [
    "### Adam"
   ]
  },
  {
   "cell_type": "code",
   "execution_count": 12,
   "metadata": {},
   "outputs": [
    {
     "name": "stdout",
     "output_type": "stream",
     "text": [
      "Epoch 0/0\n",
      "----------\n",
      "Train set | epoch:   0 |      0/ 60000 batches | Loss: 2.3144\n",
      "Train set | epoch:   0 |   6400/ 60000 batches | Loss: 0.3502\n",
      "Train set | epoch:   0 |  12800/ 60000 batches | Loss: 0.3460\n",
      "Train set | epoch:   0 |  19200/ 60000 batches | Loss: 0.3038\n",
      "Train set | epoch:   0 |  25600/ 60000 batches | Loss: 0.3415\n",
      "Train set | epoch:   0 |  32000/ 60000 batches | Loss: 0.3381\n",
      "Train set | epoch:   0 |  38400/ 60000 batches | Loss: 0.1988\n",
      "Train set | epoch:   0 |  44800/ 60000 batches | Loss: 0.2249\n",
      "Train set | epoch:   0 |  51200/ 60000 batches | Loss: 0.2168\n",
      "Train set | epoch:   0 |  57600/ 60000 batches | Loss: 0.1004\n",
      "train Loss: 0.2731 Acc: 0.9132\n",
      "Train set | epoch:   0 |      0/ 10000 batches | Loss: 0.1281\n",
      "val Loss: 0.1386 Acc: 0.9588\n",
      "\n",
      "Training complete in 0m 24s\n",
      "Best val Acc: 0.958800\n"
     ]
    }
   ],
   "source": [
    "torch.manual_seed(seed)\n",
    "model = Baseline(n_feature, output_size).to(device)\n",
    "optimizer = optim.Adam(model.parameters(),lr=0.01, betas=(0.9, 0.99))\n",
    "model, loss_dict = train_model(model, optimizer)\n",
    "populate_result(optim_results, 'Adam', loss_dict['train'], loss_dict['val'])"
   ]
  },
  {
   "cell_type": "code",
   "execution_count": 13,
   "metadata": {},
   "outputs": [
    {
     "data": {
      "image/png": "[encoded data removed]",
      "text/plain": [
       "<Figure size 432x288 with 1 Axes>"
      ]
     },
     "metadata": {
      "needs_background": "light"
     },
     "output_type": "display_data"
    }
   ],
   "source": [
    "# Plot optimization methods training results\n",
    "plot_loss(optim_results)"
   ]
  },
  {
   "cell_type": "code",
   "execution_count": 14,
   "metadata": {},
   "outputs": [
    {
     "data": {
      "image/png": "[encoded data removed]",
      "text/plain": [
       "<Figure size 432x288 with 1 Axes>"
      ]
     },
     "metadata": {
      "needs_background": "light"
     },
     "output_type": "display_data"
    }
   ],
   "source": [
    "# Plot optimization methods validation results\n",
    "plot_best_loss(optim_results)"
   ]
  },
  {
   "cell_type": "markdown",
   "metadata": {},
   "source": [
    "## Regularization\n",
    "\n",
    "https://pytorch.org/docs/stable/nn.html"
   ]
  },
  {
   "cell_type": "code",
   "execution_count": 15,
   "metadata": {},
   "outputs": [],
   "source": [
    "# In order to see effects of regularization on validation set, we need to make some slight modification\n",
    "\n",
    "## Smaller training set\n",
    "mnist_datasets['train'].data = mnist_datasets['train'].data[:600]\n",
    "dataset_sizes = {x: len(mnist_datasets[x]) for x in ['train', 'val']}\n",
    "dataloaders['train'] = torch.utils.data.DataLoader(mnist_datasets['train'], \n",
    "                                                   batch_size=batch_size['train'], shuffle=True)\n",
    "\n",
    "## Longer training epochs\n",
    "train_epochs = 25\n",
    "verbose = False\n",
    "reg_results = {}"
   ]
  },
  {
   "cell_type": "markdown",
   "metadata": {},
   "source": [
    "### Baseline model"
   ]
  },
  {
   "cell_type": "code",
   "execution_count": 16,
   "metadata": {},
   "outputs": [
    {
     "name": "stdout",
     "output_type": "stream",
     "text": [
      "Epoch 0/24\n",
      "----------\n",
      "train Loss: 2.1326 Acc: 0.2250\n",
      "val Loss: 1.5130 Acc: 0.5374\n",
      "\n",
      "Epoch 1/24\n",
      "----------\n",
      "train Loss: 1.0338 Acc: 0.6717\n",
      "val Loss: 0.9995 Acc: 0.6885\n",
      "\n",
      "Epoch 2/24\n",
      "----------\n",
      "train Loss: 0.6660 Acc: 0.7783\n",
      "val Loss: 0.8467 Acc: 0.7218\n",
      "\n",
      "Epoch 3/24\n",
      "----------\n",
      "train Loss: 0.5707 Acc: 0.8150\n",
      "val Loss: 0.6909 Acc: 0.7854\n",
      "\n",
      "Epoch 4/24\n",
      "----------\n",
      "train Loss: 0.3902 Acc: 0.8883\n",
      "val Loss: 0.7512 Acc: 0.7842\n",
      "\n",
      "Epoch 5/24\n",
      "----------\n",
      "train Loss: 0.3514 Acc: 0.8983\n",
      "val Loss: 0.5804 Acc: 0.8214\n",
      "\n",
      "Epoch 6/24\n",
      "----------\n",
      "train Loss: 0.2554 Acc: 0.9167\n",
      "val Loss: 0.5552 Acc: 0.8374\n",
      "\n",
      "Epoch 7/24\n",
      "----------\n",
      "train Loss: 0.2056 Acc: 0.9367\n",
      "val Loss: 0.6224 Acc: 0.8225\n",
      "\n",
      "Epoch 8/24\n",
      "----------\n",
      "train Loss: 0.1891 Acc: 0.9417\n",
      "val Loss: 0.6162 Acc: 0.8337\n",
      "\n",
      "Epoch 9/24\n",
      "----------\n",
      "train Loss: 0.1437 Acc: 0.9450\n",
      "val Loss: 0.5799 Acc: 0.8483\n",
      "\n",
      "Epoch 10/24\n",
      "----------\n",
      "train Loss: 0.1251 Acc: 0.9617\n",
      "val Loss: 0.6354 Acc: 0.8422\n",
      "\n",
      "Epoch 11/24\n",
      "----------\n",
      "train Loss: 0.0996 Acc: 0.9667\n",
      "val Loss: 0.6203 Acc: 0.8483\n",
      "\n",
      "Epoch 12/24\n",
      "----------\n",
      "train Loss: 0.0983 Acc: 0.9700\n",
      "val Loss: 0.6401 Acc: 0.8471\n",
      "\n",
      "Epoch 13/24\n",
      "----------\n",
      "train Loss: 0.0680 Acc: 0.9783\n",
      "val Loss: 0.6645 Acc: 0.8490\n",
      "\n",
      "Epoch 14/24\n",
      "----------\n",
      "train Loss: 0.0401 Acc: 0.9900\n",
      "val Loss: 0.6665 Acc: 0.8562\n",
      "\n",
      "Epoch 15/24\n",
      "----------\n",
      "train Loss: 0.0286 Acc: 0.9900\n",
      "val Loss: 0.7289 Acc: 0.8555\n",
      "\n",
      "Epoch 16/24\n",
      "----------\n",
      "train Loss: 0.0377 Acc: 0.9867\n",
      "val Loss: 0.7143 Acc: 0.8584\n",
      "\n",
      "Epoch 17/24\n",
      "----------\n",
      "train Loss: 0.0832 Acc: 0.9733\n",
      "val Loss: 0.8499 Acc: 0.8336\n",
      "\n",
      "Epoch 18/24\n",
      "----------\n",
      "train Loss: 0.0612 Acc: 0.9783\n",
      "val Loss: 0.7839 Acc: 0.8314\n",
      "\n",
      "Epoch 19/24\n",
      "----------\n",
      "train Loss: 0.0511 Acc: 0.9817\n",
      "val Loss: 0.6849 Acc: 0.8592\n",
      "\n",
      "Epoch 20/24\n",
      "----------\n",
      "train Loss: 0.0201 Acc: 0.9967\n",
      "val Loss: 0.7746 Acc: 0.8543\n",
      "\n",
      "Epoch 21/24\n",
      "----------\n",
      "train Loss: 0.0114 Acc: 1.0000\n",
      "val Loss: 0.7701 Acc: 0.8607\n",
      "\n",
      "Epoch 22/24\n",
      "----------\n",
      "train Loss: 0.0084 Acc: 0.9967\n",
      "val Loss: 0.8065 Acc: 0.8624\n",
      "\n",
      "Epoch 23/24\n",
      "----------\n",
      "train Loss: 0.0036 Acc: 1.0000\n",
      "val Loss: 0.8324 Acc: 0.8584\n",
      "\n",
      "Epoch 24/24\n",
      "----------\n",
      "train Loss: 0.0032 Acc: 1.0000\n",
      "val Loss: 0.8214 Acc: 0.8667\n",
      "\n",
      "Training complete in 1m 4s\n",
      "Best val Acc: 0.866700\n"
     ]
    }
   ],
   "source": [
    "torch.manual_seed(seed)\n",
    "model = Baseline(n_feature, output_size).to(device)\n",
    "optimizer = optim.Adam(model.parameters(),lr=0.01)\n",
    "model, loss_dict = train_model(model, optimizer, num_epochs=train_epochs, verbose=verbose)\n",
    "populate_result(optim_results, 'Baseline', loss_dict['train'], loss_dict['val'])"
   ]
  },
  {
   "cell_type": "markdown",
   "metadata": {},
   "source": [
    "### L1/L2 regularization\n",
    "\n",
    "L2 regularization is included in most optimizers in PyTorch and can be controlled with the __weight_decay__ parameter.\n",
    "For L1 regularization, check out this post: https://discuss.pytorch.org/t/simple-l2-regularization/139"
   ]
  },
  {
   "cell_type": "markdown",
   "metadata": {},
   "source": [
    "### Adding Dropout Layer\n",
    "\n",
    "1. How does Dropout introduce regularization effect?\n",
    "2. Check out documentations for __nn.Dropout()__. Modify the Baseline model and add dropout layer to the fully connected layers.\n",
    "3. Optionally, you may also check out documentations for __nn.Dropout2d()__ to learn how to add Dropout layer to convolution layers."
   ]
  },
  {
   "cell_type": "code",
   "execution_count": 17,
   "metadata": {},
   "outputs": [],
   "source": [
    "class DropoutNet(nn.Module):\n",
    "    def __init__(self, input_size, n_feature, output_size, dropout_rate=0.5):\n",
    "        super(DropoutNet, self).__init__()\n",
    "        self.n_feature = n_feature\n",
    "        self.conv1 = nn.Sequential(nn.Conv2d(1, n_feature, kernel_size=5),\n",
    "                                   nn.ReLU(),\n",
    "                                   nn.MaxPool2d(2))\n",
    "        \n",
    "        self.conv2 = nn.Sequential(nn.Conv2d(n_feature, n_feature, kernel_size=5),\n",
    "                                   nn.ReLU(),\n",
    "                                   nn.MaxPool2d(2))\n",
    "        self.fc = nn.Sequential(nn.Linear(n_feature*4*4, 50),\n",
    "                                nn.ReLU(),\n",
    "                                nn.Dropout(dropout_rate),\n",
    "                                nn.Linear(50, 10))\n",
    "\n",
    "\n",
    "    def forward(self, x, verbose=False):\n",
    "        x = self.conv1(x)\n",
    "        x = self.conv2(x)\n",
    "        x = x.view(-1, self.n_feature*4*4)\n",
    "        x = self.fc(x)\n",
    "        return x"
   ]
  },
  {
   "cell_type": "code",
   "execution_count": 18,
   "metadata": {},
   "outputs": [
    {
     "name": "stdout",
     "output_type": "stream",
     "text": [
      "Epoch 0/24\n",
      "----------\n",
      "train Loss: 2.1951 Acc: 0.2067\n",
      "val Loss: 1.6469 Acc: 0.4185\n",
      "\n",
      "Epoch 1/24\n",
      "----------\n",
      "train Loss: 1.2526 Acc: 0.5983\n",
      "val Loss: 0.9650 Acc: 0.6875\n",
      "\n",
      "Epoch 2/24\n",
      "----------\n",
      "train Loss: 0.8219 Acc: 0.7367\n",
      "val Loss: 0.7447 Acc: 0.7606\n",
      "\n",
      "Epoch 3/24\n",
      "----------\n",
      "train Loss: 0.6347 Acc: 0.7900\n",
      "val Loss: 0.6085 Acc: 0.7989\n",
      "\n",
      "Epoch 4/24\n",
      "----------\n",
      "train Loss: 0.4685 Acc: 0.8333\n",
      "val Loss: 0.4753 Acc: 0.8484\n",
      "\n",
      "Epoch 5/24\n",
      "----------\n",
      "train Loss: 0.3789 Acc: 0.8650\n",
      "val Loss: 0.4987 Acc: 0.8413\n",
      "\n",
      "Epoch 6/24\n",
      "----------\n",
      "train Loss: 0.3355 Acc: 0.8750\n",
      "val Loss: 0.5000 Acc: 0.8470\n",
      "\n",
      "Epoch 7/24\n",
      "----------\n",
      "train Loss: 0.3070 Acc: 0.8867\n",
      "val Loss: 0.5275 Acc: 0.8550\n",
      "\n",
      "Epoch 8/24\n",
      "----------\n",
      "train Loss: 0.3057 Acc: 0.9133\n",
      "val Loss: 0.4811 Acc: 0.8555\n",
      "\n",
      "Epoch 9/24\n",
      "----------\n",
      "train Loss: 0.2582 Acc: 0.9267\n",
      "val Loss: 0.4842 Acc: 0.8604\n",
      "\n",
      "Epoch 10/24\n",
      "----------\n",
      "train Loss: 0.2243 Acc: 0.9150\n",
      "val Loss: 0.4617 Acc: 0.8687\n",
      "\n",
      "Epoch 11/24\n",
      "----------\n",
      "train Loss: 0.1819 Acc: 0.9350\n",
      "val Loss: 0.4969 Acc: 0.8687\n",
      "\n",
      "Epoch 12/24\n",
      "----------\n",
      "train Loss: 0.1852 Acc: 0.9283\n",
      "val Loss: 0.4606 Acc: 0.8690\n",
      "\n",
      "Epoch 13/24\n",
      "----------\n",
      "train Loss: 0.1921 Acc: 0.9333\n",
      "val Loss: 0.5020 Acc: 0.8555\n",
      "\n",
      "Epoch 14/24\n",
      "----------\n",
      "train Loss: 0.1803 Acc: 0.9283\n",
      "val Loss: 0.4549 Acc: 0.8747\n",
      "\n",
      "Epoch 15/24\n",
      "----------\n",
      "train Loss: 0.1380 Acc: 0.9467\n",
      "val Loss: 0.4845 Acc: 0.8771\n",
      "\n",
      "Epoch 16/24\n",
      "----------\n",
      "train Loss: 0.1050 Acc: 0.9550\n",
      "val Loss: 0.5582 Acc: 0.8791\n",
      "\n",
      "Epoch 17/24\n",
      "----------\n",
      "train Loss: 0.1391 Acc: 0.9550\n",
      "val Loss: 0.5033 Acc: 0.8839\n",
      "\n",
      "Epoch 18/24\n",
      "----------\n",
      "train Loss: 0.2296 Acc: 0.9233\n",
      "val Loss: 0.6047 Acc: 0.8430\n",
      "\n",
      "Epoch 19/24\n",
      "----------\n",
      "train Loss: 0.1922 Acc: 0.9350\n",
      "val Loss: 0.4726 Acc: 0.8747\n",
      "\n",
      "Epoch 20/24\n",
      "----------\n",
      "train Loss: 0.1375 Acc: 0.9617\n",
      "val Loss: 0.4798 Acc: 0.8805\n",
      "\n",
      "Epoch 21/24\n",
      "----------\n",
      "train Loss: 0.1338 Acc: 0.9450\n",
      "val Loss: 0.4951 Acc: 0.8819\n",
      "\n",
      "Epoch 22/24\n",
      "----------\n",
      "train Loss: 0.1212 Acc: 0.9550\n",
      "val Loss: 0.5221 Acc: 0.8742\n",
      "\n",
      "Epoch 23/24\n",
      "----------\n",
      "train Loss: 0.1550 Acc: 0.9367\n",
      "val Loss: 0.5491 Acc: 0.8756\n",
      "\n",
      "Epoch 24/24\n",
      "----------\n",
      "train Loss: 0.0930 Acc: 0.9667\n",
      "val Loss: 0.5481 Acc: 0.8794\n",
      "\n",
      "Training complete in 1m 1s\n",
      "Best val Acc: 0.883900\n"
     ]
    }
   ],
   "source": [
    "torch.manual_seed(seed)\n",
    "model = DropoutNet(input_size, n_feature, output_size, dropout_rate=0.3).to(device)\n",
    "optimizer = optim.Adam(model.parameters(),lr=0.01)\n",
    "model, loss_dict = train_model(model, optimizer, num_epochs=train_epochs, verbose=verbose)\n",
    "populate_result(optim_results, 'Dropout', loss_dict['train'], loss_dict['val'])"
   ]
  },
  {
   "cell_type": "markdown",
   "metadata": {},
   "source": [
    "### Adding Batch Normalization\n",
    "1. What's the advantage of using batch normalization?\n",
    "    1. Allow each layer to train relatively more independently\n",
    "    2. Improve gradient flow through the network\n",
    "    3. Allows higher learning rate\n",
    "    4. Reduces strong dependence on initialization\n",
    "2. Batch normalization also act as a form of regularization, why?\n",
    "3. Implement batch normalization in __BatchnormNet__. Think about where you may want to insert the batch normalization layer."
   ]
  },
  {
   "cell_type": "code",
   "execution_count": 19,
   "metadata": {},
   "outputs": [],
   "source": [
    "class BatchnormNet(nn.Module):\n",
    "    def __init__(self, n_feature, output_size):\n",
    "        super(BatchnormNet, self).__init__()\n",
    "        self.n_feature = n_feature\n",
    "        self.conv1 = nn.Sequential(nn.Conv2d(1, n_feature, kernel_size=5),\n",
    "                                   nn.BatchNorm2d(n_feature),\n",
    "                                   nn.MaxPool2d(2),\n",
    "                                   nn.ReLU())\n",
    "        \n",
    "        self.conv2 = nn.Sequential(nn.Conv2d(n_feature, n_feature, kernel_size=5),\n",
    "                                   nn.BatchNorm2d(n_feature),\n",
    "                                   nn.MaxPool2d(2),\n",
    "                                   nn.ReLU())\n",
    "        self.fc = nn.Sequential(nn.Linear(n_feature*4*4, 50),\n",
    "                                nn.BatchNorm1d(50),\n",
    "                                nn.ReLU(),\n",
    "                                nn.Linear(50, 10))\n",
    "\n",
    "\n",
    "    def forward(self, x, verbose=False):\n",
    "        x = self.conv1(x)\n",
    "        x = self.conv2(x)\n",
    "        x = x.view(-1, self.n_feature*4*4)\n",
    "        x = self.fc(x)\n",
    "        return x"
   ]
  },
  {
   "cell_type": "code",
   "execution_count": 20,
   "metadata": {},
   "outputs": [
    {
     "name": "stdout",
     "output_type": "stream",
     "text": [
      "Epoch 0/24\n",
      "----------\n",
      "train Loss: 1.6842 Acc: 0.4850\n",
      "val Loss: 1.3643 Acc: 0.6680\n",
      "\n",
      "Epoch 1/24\n",
      "----------\n",
      "train Loss: 0.7893 Acc: 0.8400\n",
      "val Loss: 0.7917 Acc: 0.7655\n",
      "\n",
      "Epoch 2/24\n",
      "----------\n",
      "train Loss: 0.4234 Acc: 0.9017\n",
      "val Loss: 0.5911 Acc: 0.8081\n",
      "\n",
      "Epoch 3/24\n",
      "----------\n",
      "train Loss: 0.2524 Acc: 0.9433\n",
      "val Loss: 0.4821 Acc: 0.8477\n",
      "\n",
      "Epoch 4/24\n",
      "----------\n",
      "train Loss: 0.1552 Acc: 0.9650\n",
      "val Loss: 0.5476 Acc: 0.8219\n",
      "\n",
      "Epoch 5/24\n",
      "----------\n",
      "train Loss: 0.0960 Acc: 0.9833\n",
      "val Loss: 0.4578 Acc: 0.8577\n",
      "\n",
      "Epoch 6/24\n",
      "----------\n",
      "train Loss: 0.0650 Acc: 0.9933\n",
      "val Loss: 0.3228 Acc: 0.8998\n",
      "\n",
      "Epoch 7/24\n",
      "----------\n",
      "train Loss: 0.0532 Acc: 0.9900\n",
      "val Loss: 0.3617 Acc: 0.8870\n",
      "\n",
      "Epoch 8/24\n",
      "----------\n",
      "train Loss: 0.0396 Acc: 0.9950\n",
      "val Loss: 0.3302 Acc: 0.8972\n",
      "\n",
      "Epoch 9/24\n",
      "----------\n",
      "train Loss: 0.0295 Acc: 1.0000\n",
      "val Loss: 0.3796 Acc: 0.8832\n",
      "\n",
      "Epoch 10/24\n",
      "----------\n",
      "train Loss: 0.0278 Acc: 0.9967\n",
      "val Loss: 0.3614 Acc: 0.8897\n",
      "\n",
      "Epoch 11/24\n",
      "----------\n",
      "train Loss: 0.0243 Acc: 0.9983\n",
      "val Loss: 0.3520 Acc: 0.8907\n",
      "\n",
      "Epoch 12/24\n",
      "----------\n",
      "train Loss: 0.0176 Acc: 1.0000\n",
      "val Loss: 0.3703 Acc: 0.8878\n",
      "\n",
      "Epoch 13/24\n",
      "----------\n",
      "train Loss: 0.0173 Acc: 0.9983\n",
      "val Loss: 0.3821 Acc: 0.8853\n",
      "\n",
      "Epoch 14/24\n",
      "----------\n",
      "train Loss: 0.0174 Acc: 1.0000\n",
      "val Loss: 0.4115 Acc: 0.8784\n",
      "\n",
      "Epoch 15/24\n",
      "----------\n",
      "train Loss: 0.0160 Acc: 0.9983\n",
      "val Loss: 0.4403 Acc: 0.8751\n",
      "\n",
      "Epoch 16/24\n",
      "----------\n",
      "train Loss: 0.0346 Acc: 0.9900\n",
      "val Loss: 0.4388 Acc: 0.8815\n",
      "\n",
      "Epoch 17/24\n",
      "----------\n",
      "train Loss: 0.0529 Acc: 0.9850\n",
      "val Loss: 0.5992 Acc: 0.8450\n",
      "\n",
      "Epoch 18/24\n",
      "----------\n",
      "train Loss: 0.0507 Acc: 0.9883\n",
      "val Loss: 1.0779 Acc: 0.7473\n",
      "\n",
      "Epoch 19/24\n",
      "----------\n",
      "train Loss: 0.0360 Acc: 0.9900\n",
      "val Loss: 0.7156 Acc: 0.8244\n",
      "\n",
      "Epoch 20/24\n",
      "----------\n",
      "train Loss: 0.0445 Acc: 0.9900\n",
      "val Loss: 0.8831 Acc: 0.7986\n",
      "\n",
      "Epoch 21/24\n",
      "----------\n",
      "train Loss: 0.0285 Acc: 0.9967\n",
      "val Loss: 0.4642 Acc: 0.8783\n",
      "\n",
      "Epoch 22/24\n",
      "----------\n",
      "train Loss: 0.0145 Acc: 1.0000\n",
      "val Loss: 0.4370 Acc: 0.8811\n",
      "\n",
      "Epoch 23/24\n",
      "----------\n",
      "train Loss: 0.0126 Acc: 0.9983\n",
      "val Loss: 0.4118 Acc: 0.8868\n",
      "\n",
      "Epoch 24/24\n",
      "----------\n",
      "train Loss: 0.0214 Acc: 0.9967\n",
      "val Loss: 0.5144 Acc: 0.8695\n",
      "\n",
      "Training complete in 1m 1s\n",
      "Best val Acc: 0.899800\n"
     ]
    }
   ],
   "source": [
    "torch.manual_seed(seed)\n",
    "model = BatchnormNet(n_feature, output_size).to(device)\n",
    "optimizer = optim.Adam(model.parameters(),lr=0.01)\n",
    "model, loss_dict = train_model(model, optimizer, num_epochs=train_epochs, verbose=verbose)\n",
    "populate_result(optim_results, 'Batchnorm', loss_dict['train'], loss_dict['val'])"
   ]
  },
  {
   "cell_type": "code",
   "execution_count": 23,
   "metadata": {},
   "outputs": [
    {
     "data": {
      "image/png": "[encoded data removed]",
      "text/plain": [
       "<Figure size 432x288 with 1 Axes>"
      ]
     },
     "metadata": {
      "needs_background": "light"
     },
     "output_type": "display_data"
    }
   ],
   "source": [
    "plot_loss(optim_results)"
   ]
  },
  {
   "cell_type": "markdown",
   "metadata": {},
   "source": [
    "Validation loss using Dropout and Batchnorm start to catch up with the loss of baseline model after baseline model overfits training data."
   ]
  },
  {
   "cell_type": "code",
   "execution_count": 22,
   "metadata": {},
   "outputs": [
    {
     "data": {
      "text/plain": [
       "{}"
      ]
     },
     "execution_count": 22,
     "metadata": {},
     "output_type": "execute_result"
    }
   ],
   "source": [
    "reg_results"
   ]
  },
  {
   "cell_type": "code",
   "execution_count": 26,
   "metadata": {},
   "outputs": [
    {
     "data": {
      "image/png": "[encoded data removed]",
      "text/plain": [
       "<Figure size 432x288 with 1 Axes>"
      ]
     },
     "metadata": {
      "needs_background": "light"
     },
     "output_type": "display_data"
    }
   ],
   "source": [
    "plot_loss(optim_results, loss = 'val_loss')"
   ]
  },
  {
   "cell_type": "markdown",
   "metadata": {},
   "source": [
    "## Exercise: parameter tunning\n",
    "\n",
    "We've introduced multiple regularization and optimization techniques to improve your model. How can you combine these techniques and perform grid search to find out a set of parameters that maximize your model performance on validation set? Are there other model architectures you'd like to try?"
   ]
  }
 ],
 "metadata": {
  "kernelspec": {
   "display_name": "Python 3",
   "language": "python",
   "name": "python3"
  },
  "language_info": {
   "codemirror_mode": {
    "name": "ipython",
    "version": 3
   },
   "file_extension": ".py",
   "mimetype": "text/x-python",
   "name": "python",
   "nbconvert_exporter": "python",
   "pygments_lexer": "ipython3",
   "version": "3.7.6"
  }
 },
 "nbformat": 4,
 "nbformat_minor": 4
}
